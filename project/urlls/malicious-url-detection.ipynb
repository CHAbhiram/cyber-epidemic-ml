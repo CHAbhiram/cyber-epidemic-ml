{
 "cells": [
  {
   "cell_type": "code",
   "execution_count": 1,
   "id": "a377e4ea",
   "metadata": {
    "execution": {
     "iopub.execute_input": "2023-12-17T22:21:59.834302Z",
     "iopub.status.busy": "2023-12-17T22:21:59.833713Z",
     "iopub.status.idle": "2023-12-17T22:22:52.577373Z",
     "shell.execute_reply": "2023-12-17T22:22:52.576382Z"
    },
    "papermill": {
     "duration": 52.762341,
     "end_time": "2023-12-17T22:22:52.580042",
     "exception": false,
     "start_time": "2023-12-17T22:21:59.817701",
     "status": "completed"
    },
    "tags": []
   },
   "outputs": [
    {
     "name": "stdout",
     "output_type": "stream",
     "text": [
      "\u001b[33mWARNING: Running pip as the 'root' user can result in broken permissions and conflicting behaviour with the system package manager. It is recommended to use a virtual environment instead: https://pip.pypa.io/warnings/venv\u001b[0m\u001b[33m\r\n",
      "\u001b[0m\u001b[33mWARNING: You are using pip version 22.0.4; however, version 23.3.2 is available.\r\n",
      "You should consider upgrading via the '/usr/local/bin/python -m pip install --upgrade pip' command.\u001b[0m\u001b[33m\r\n",
      "\u001b[0m"
     ]
    }
   ],
   "source": [
    "!pip3 install -U -q scikit-learn joblib seaborn colorama tld plotly whois wordcloud gensim nltk tldextract hmmlearn xgboost lightgbm catboost"
   ]
  },
  {
   "cell_type": "code",
   "execution_count": 54,
   "id": "eeac0016",
   "metadata": {},
   "outputs": [
    {
     "name": "stdout",
     "output_type": "stream",
     "text": [
      "Collecting nbformat\n",
      "  Downloading nbformat-5.10.4-py3-none-any.whl (78 kB)\n",
      "     ---------------------------------------- 78.5/78.5 kB 4.3 MB/s eta 0:00:00\n",
      "Collecting jsonschema>=2.6\n",
      "  Downloading jsonschema-4.23.0-py3-none-any.whl (88 kB)\n",
      "     ---------------------------------------- 88.5/88.5 kB 5.2 MB/s eta 0:00:00\n",
      "Requirement already satisfied: traitlets>=5.1 in c:\\users\\admin\\appdata\\roaming\\python\\python310\\site-packages (from nbformat) (5.14.3)\n",
      "Collecting fastjsonschema>=2.15\n",
      "  Downloading fastjsonschema-2.21.1-py3-none-any.whl (23 kB)\n",
      "Requirement already satisfied: jupyter-core!=5.0.*,>=4.12 in c:\\users\\admin\\appdata\\roaming\\python\\python310\\site-packages (from nbformat) (5.7.2)\n",
      "Collecting rpds-py>=0.7.1\n",
      "  Downloading rpds_py-0.22.3-cp310-cp310-win_amd64.whl (231 kB)\n",
      "     -------------------------------------- 231.7/231.7 kB 6.9 MB/s eta 0:00:00\n",
      "Collecting referencing>=0.28.4\n",
      "  Downloading referencing-0.35.1-py3-none-any.whl (26 kB)\n",
      "Collecting jsonschema-specifications>=2023.03.6\n",
      "  Downloading jsonschema_specifications-2024.10.1-py3-none-any.whl (18 kB)\n",
      "Collecting attrs>=22.2.0\n",
      "  Downloading attrs-24.2.0-py3-none-any.whl (63 kB)\n",
      "     ---------------------------------------- 63.0/63.0 kB ? eta 0:00:00\n",
      "Requirement already satisfied: pywin32>=300 in c:\\users\\admin\\appdata\\roaming\\python\\python310\\site-packages (from jupyter-core!=5.0.*,>=4.12->nbformat) (308)\n",
      "Requirement already satisfied: platformdirs>=2.5 in c:\\users\\admin\\appdata\\roaming\\python\\python310\\site-packages (from jupyter-core!=5.0.*,>=4.12->nbformat) (4.3.6)\n",
      "Installing collected packages: fastjsonschema, rpds-py, attrs, referencing, jsonschema-specifications, jsonschema, nbformat\n",
      "Successfully installed attrs-24.2.0 fastjsonschema-2.21.1 jsonschema-4.23.0 jsonschema-specifications-2024.10.1 nbformat-5.10.4 referencing-0.35.1 rpds-py-0.22.3\n"
     ]
    },
    {
     "name": "stderr",
     "output_type": "stream",
     "text": [
      "\n",
      "[notice] A new release of pip available: 22.2.2 -> 24.3.1\n",
      "[notice] To update, run: python.exe -m pip install --upgrade pip\n"
     ]
    }
   ],
   "source": [
    "!pip install nbformat"
   ]
  },
  {
   "cell_type": "code",
   "execution_count": 14,
   "id": "96b93482",
   "metadata": {
    "execution": {
     "iopub.execute_input": "2023-12-17T22:22:52.606152Z",
     "iopub.status.busy": "2023-12-17T22:22:52.605840Z",
     "iopub.status.idle": "2023-12-17T22:23:00.639555Z",
     "shell.execute_reply": "2023-12-17T22:23:00.638730Z"
    },
    "papermill": {
     "duration": 8.049494,
     "end_time": "2023-12-17T22:23:00.642150",
     "exception": false,
     "start_time": "2023-12-17T22:22:52.592656",
     "status": "completed"
    },
    "tags": []
   },
   "outputs": [],
   "source": [
    "import re\n",
    "import string\n",
    "import logging\n",
    "\n",
    "import numpy as np\n",
    "import pandas as pd\n",
    "import seaborn as sns\n",
    "import matplotlib.pyplot as plt\n",
    "\n",
    "from urllib.parse import urlparse\n",
    "from sklearn.model_selection import train_test_split, cross_val_score, cross_val_predict\n",
    "from sklearn.metrics import accuracy_score, recall_score, precision_score, f1_score, classification_report, confusion_matrix\n",
    "from sklearn.tree import DecisionTreeClassifier\n",
    "from sklearn.ensemble import RandomForestClassifier, AdaBoostClassifier, ExtraTreesClassifier, GradientBoostingClassifier, BaggingClassifier\n",
    "from sklearn.neighbors import KNeighborsClassifier\n",
    "from sklearn.linear_model import SGDClassifier, LogisticRegression, RidgeClassifier, Perceptron\n",
    "from sklearn.naive_bayes import GaussianNB, MultinomialNB\n",
    "from sklearn.svm import SVC\n",
    "from sklearn.neural_network import MLPClassifier\n",
    "from sklearn.gaussian_process import GaussianProcessClassifier\n",
    "from sklearn.mixture import GaussianMixture\n",
    "from sklearn.cluster import KMeans\n",
    "from sklearn.pipeline import Pipeline\n",
    "from sklearn.discriminant_analysis import LinearDiscriminantAnalysis, QuadraticDiscriminantAnalysis\n",
    "from xgboost import XGBClassifier\n",
    "from lightgbm import LGBMClassifier\n",
    "from catboost import CatBoostClassifier\n",
    "\n",
    "from tldextract import extract as tld_extract\n",
    "from tld import get_tld, is_tld\n",
    "from tld.exceptions import TldDomainNotFound, TldBadUrl, TldIOError\n",
    "\n",
    "from colorama import Fore\n",
    "from datetime import datetime\n",
    "from plotly.subplots import make_subplots\n",
    "from plotly import graph_objects as go\n",
    "from wordcloud import WordCloud\n",
    "from gensim.models import Word2Vec\n",
    "import tldextract\n",
    "import hashlib\n",
    "import whois\n",
    "import warnings\n",
    "\n",
    "warnings.filterwarnings(\"ignore\")"
   ]
  },
  {
   "cell_type": "code",
   "execution_count": 15,
   "id": "5fb21196",
   "metadata": {
    "execution": {
     "iopub.execute_input": "2023-12-17T22:23:00.667334Z",
     "iopub.status.busy": "2023-12-17T22:23:00.666915Z",
     "iopub.status.idle": "2023-12-17T22:23:02.142989Z",
     "shell.execute_reply": "2023-12-17T22:23:02.142223Z"
    },
    "papermill": {
     "duration": 1.490702,
     "end_time": "2023-12-17T22:23:02.144897",
     "exception": false,
     "start_time": "2023-12-17T22:23:00.654195",
     "status": "completed"
    },
    "tags": []
   },
   "outputs": [
    {
     "data": {
      "text/html": [
       "<div>\n",
       "<style scoped>\n",
       "    .dataframe tbody tr th:only-of-type {\n",
       "        vertical-align: middle;\n",
       "    }\n",
       "\n",
       "    .dataframe tbody tr th {\n",
       "        vertical-align: top;\n",
       "    }\n",
       "\n",
       "    .dataframe thead th {\n",
       "        text-align: right;\n",
       "    }\n",
       "</style>\n",
       "<table border=\"1\" class=\"dataframe\">\n",
       "  <thead>\n",
       "    <tr style=\"text-align: right;\">\n",
       "      <th></th>\n",
       "      <th>url</th>\n",
       "      <th>type</th>\n",
       "    </tr>\n",
       "  </thead>\n",
       "  <tbody>\n",
       "    <tr>\n",
       "      <th>0</th>\n",
       "      <td>br-icloud.com.br</td>\n",
       "      <td>phishing</td>\n",
       "    </tr>\n",
       "    <tr>\n",
       "      <th>1</th>\n",
       "      <td>mp3raid.com/music/krizz_kaliko.html</td>\n",
       "      <td>benign</td>\n",
       "    </tr>\n",
       "    <tr>\n",
       "      <th>2</th>\n",
       "      <td>bopsecrets.org/rexroth/cr/1.htm</td>\n",
       "      <td>benign</td>\n",
       "    </tr>\n",
       "    <tr>\n",
       "      <th>3</th>\n",
       "      <td>http://www.garage-pirenne.be/index.php?option=...</td>\n",
       "      <td>defacement</td>\n",
       "    </tr>\n",
       "    <tr>\n",
       "      <th>4</th>\n",
       "      <td>http://adventure-nicaragua.net/index.php?optio...</td>\n",
       "      <td>defacement</td>\n",
       "    </tr>\n",
       "  </tbody>\n",
       "</table>\n",
       "</div>"
      ],
      "text/plain": [
       "                                                 url        type\n",
       "0                                   br-icloud.com.br    phishing\n",
       "1                mp3raid.com/music/krizz_kaliko.html      benign\n",
       "2                    bopsecrets.org/rexroth/cr/1.htm      benign\n",
       "3  http://www.garage-pirenne.be/index.php?option=...  defacement\n",
       "4  http://adventure-nicaragua.net/index.php?optio...  defacement"
      ]
     },
     "execution_count": 15,
     "metadata": {},
     "output_type": "execute_result"
    }
   ],
   "source": [
    "urls_data = pd.read_csv('malicious_phish.csv')\n",
    "urls_data.head()"
   ]
  },
  {
   "cell_type": "markdown",
   "id": "1c56a90d",
   "metadata": {
    "papermill": {
     "duration": 0.011716,
     "end_time": "2023-12-17T22:23:02.168793",
     "exception": false,
     "start_time": "2023-12-17T22:23:02.157077",
     "status": "completed"
    },
    "tags": []
   },
   "source": [
    "<div style=\"background-color:#dfe3ee; border-radius:2px; border:#000000 solid; padding: 15px; font-size:100%; text-align:center\">\n",
    "    <h2 align=\"center\" style=\"color:#000000;\"><b>DATA PREPROCESSING AND EDA</b></h2>\n",
    "</div>"
   ]
  },
  {
   "cell_type": "code",
   "execution_count": 16,
   "id": "82529283",
   "metadata": {
    "execution": {
     "iopub.execute_input": "2023-12-17T22:23:02.193954Z",
     "iopub.status.busy": "2023-12-17T22:23:02.193658Z",
     "iopub.status.idle": "2023-12-17T22:23:02.260556Z",
     "shell.execute_reply": "2023-12-17T22:23:02.259814Z"
    },
    "papermill": {
     "duration": 0.081942,
     "end_time": "2023-12-17T22:23:02.262381",
     "exception": false,
     "start_time": "2023-12-17T22:23:02.180439",
     "status": "completed"
    },
    "tags": []
   },
   "outputs": [
    {
     "name": "stdout",
     "output_type": "stream",
     "text": [
      "<class 'pandas.core.frame.DataFrame'>\n",
      "RangeIndex: 651191 entries, 0 to 651190\n",
      "Data columns (total 2 columns):\n",
      " #   Column  Non-Null Count   Dtype \n",
      "---  ------  --------------   ----- \n",
      " 0   url     651191 non-null  object\n",
      " 1   type    651191 non-null  object\n",
      "dtypes: object(2)\n",
      "memory usage: 9.9+ MB\n"
     ]
    }
   ],
   "source": [
    "urls_data.info()"
   ]
  },
  {
   "cell_type": "code",
   "execution_count": 17,
   "id": "3f685488",
   "metadata": {
    "execution": {
     "iopub.execute_input": "2023-12-17T22:23:02.287637Z",
     "iopub.status.busy": "2023-12-17T22:23:02.287362Z",
     "iopub.status.idle": "2023-12-17T22:23:02.346937Z",
     "shell.execute_reply": "2023-12-17T22:23:02.346319Z"
    },
    "papermill": {
     "duration": 0.074347,
     "end_time": "2023-12-17T22:23:02.348652",
     "exception": false,
     "start_time": "2023-12-17T22:23:02.274305",
     "status": "completed"
    },
    "tags": []
   },
   "outputs": [
    {
     "data": {
      "text/plain": [
       "url     0\n",
       "type    0\n",
       "dtype: int64"
      ]
     },
     "execution_count": 17,
     "metadata": {},
     "output_type": "execute_result"
    }
   ],
   "source": [
    "urls_data.isnull().sum()"
   ]
  },
  {
   "cell_type": "code",
   "execution_count": 7,
   "id": "9c4630c0",
   "metadata": {
    "execution": {
     "iopub.execute_input": "2023-12-17T22:23:02.656156Z",
     "iopub.status.busy": "2023-12-17T22:23:02.655781Z",
     "iopub.status.idle": "2023-12-17T22:23:03.486693Z",
     "shell.execute_reply": "2023-12-17T22:23:03.485848Z"
    },
    "papermill": {
     "duration": 0.846593,
     "end_time": "2023-12-17T22:23:03.488887",
     "exception": false,
     "start_time": "2023-12-17T22:23:02.642294",
     "status": "completed"
    },
    "tags": []
   },
   "outputs": [
    {
     "data": {
      "text/html": [
       "<div>\n",
       "<style scoped>\n",
       "    .dataframe tbody tr th:only-of-type {\n",
       "        vertical-align: middle;\n",
       "    }\n",
       "\n",
       "    .dataframe tbody tr th {\n",
       "        vertical-align: top;\n",
       "    }\n",
       "\n",
       "    .dataframe thead th {\n",
       "        text-align: right;\n",
       "    }\n",
       "</style>\n",
       "<table border=\"1\" class=\"dataframe\">\n",
       "  <thead>\n",
       "    <tr style=\"text-align: right;\">\n",
       "      <th></th>\n",
       "      <th>url</th>\n",
       "      <th>type</th>\n",
       "    </tr>\n",
       "  </thead>\n",
       "  <tbody>\n",
       "    <tr>\n",
       "      <th>0</th>\n",
       "      <td>br-icloud.com.br</td>\n",
       "      <td>phishing</td>\n",
       "    </tr>\n",
       "    <tr>\n",
       "      <th>1</th>\n",
       "      <td>mp3raid.com/music/krizz_kaliko.html</td>\n",
       "      <td>benign</td>\n",
       "    </tr>\n",
       "    <tr>\n",
       "      <th>2</th>\n",
       "      <td>bopsecrets.org/rexroth/cr/1.htm</td>\n",
       "      <td>benign</td>\n",
       "    </tr>\n",
       "    <tr>\n",
       "      <th>3</th>\n",
       "      <td>http://garage-pirenne.be/index.php?option=com_...</td>\n",
       "      <td>defacement</td>\n",
       "    </tr>\n",
       "    <tr>\n",
       "      <th>4</th>\n",
       "      <td>http://adventure-nicaragua.net/index.php?optio...</td>\n",
       "      <td>defacement</td>\n",
       "    </tr>\n",
       "  </tbody>\n",
       "</table>\n",
       "</div>"
      ],
      "text/plain": [
       "                                                 url        type\n",
       "0                                   br-icloud.com.br    phishing\n",
       "1                mp3raid.com/music/krizz_kaliko.html      benign\n",
       "2                    bopsecrets.org/rexroth/cr/1.htm      benign\n",
       "3  http://garage-pirenne.be/index.php?option=com_...  defacement\n",
       "4  http://adventure-nicaragua.net/index.php?optio...  defacement"
      ]
     },
     "execution_count": 7,
     "metadata": {},
     "output_type": "execute_result"
    }
   ],
   "source": [
    "urls_data['url'] = urls_data['url'].replace('www.', '', regex=True)\n",
    "urls_data.head()"
   ]
  },
  {
   "cell_type": "code",
   "execution_count": 19,
   "id": "904840e8",
   "metadata": {
    "execution": {
     "iopub.execute_input": "2023-12-17T22:23:03.519308Z",
     "iopub.status.busy": "2023-12-17T22:23:03.518966Z",
     "iopub.status.idle": "2023-12-17T22:23:03.565199Z",
     "shell.execute_reply": "2023-12-17T22:23:03.564428Z"
    },
    "papermill": {
     "duration": 0.063222,
     "end_time": "2023-12-17T22:23:03.566834",
     "exception": false,
     "start_time": "2023-12-17T22:23:03.503612",
     "status": "completed"
    },
    "tags": []
   },
   "outputs": [
    {
     "data": {
      "text/plain": [
       "type\n",
       "benign        428103\n",
       "defacement     96457\n",
       "phishing       94111\n",
       "malware        32520\n",
       "Name: count, dtype: int64"
      ]
     },
     "execution_count": 19,
     "metadata": {},
     "output_type": "execute_result"
    }
   ],
   "source": [
    "urls_data[\"type\"].value_counts()"
   ]
  },
  {
   "cell_type": "code",
   "execution_count": 20,
   "id": "c6c82593",
   "metadata": {
    "execution": {
     "iopub.execute_input": "2023-12-17T22:23:03.596699Z",
     "iopub.status.busy": "2023-12-17T22:23:03.595851Z",
     "iopub.status.idle": "2023-12-17T22:23:03.891523Z",
     "shell.execute_reply": "2023-12-17T22:23:03.890577Z"
    },
    "papermill": {
     "duration": 0.313543,
     "end_time": "2023-12-17T22:23:03.894213",
     "exception": false,
     "start_time": "2023-12-17T22:23:03.580670",
     "status": "completed"
    },
    "tags": []
   },
   "outputs": [],
   "source": [
    "urls_data[\"url_type\"] = urls_data[\"type\"].replace({\n",
    "    'benign':0,\n",
    "    'defacement':1,\n",
    "    'phishing':2,\n",
    "    'malware':3\n",
    "});"
   ]
  },
  {
   "cell_type": "code",
   "execution_count": 21,
   "id": "487c33ed",
   "metadata": {
    "execution": {
     "iopub.execute_input": "2023-12-17T22:23:03.922962Z",
     "iopub.status.busy": "2023-12-17T22:23:03.922592Z",
     "iopub.status.idle": "2023-12-17T22:23:03.931466Z",
     "shell.execute_reply": "2023-12-17T22:23:03.930661Z"
    },
    "papermill": {
     "duration": 0.025811,
     "end_time": "2023-12-17T22:23:03.933220",
     "exception": false,
     "start_time": "2023-12-17T22:23:03.907409",
     "status": "completed"
    },
    "tags": []
   },
   "outputs": [
    {
     "data": {
      "text/html": [
       "<div>\n",
       "<style scoped>\n",
       "    .dataframe tbody tr th:only-of-type {\n",
       "        vertical-align: middle;\n",
       "    }\n",
       "\n",
       "    .dataframe tbody tr th {\n",
       "        vertical-align: top;\n",
       "    }\n",
       "\n",
       "    .dataframe thead th {\n",
       "        text-align: right;\n",
       "    }\n",
       "</style>\n",
       "<table border=\"1\" class=\"dataframe\">\n",
       "  <thead>\n",
       "    <tr style=\"text-align: right;\">\n",
       "      <th></th>\n",
       "      <th>url</th>\n",
       "      <th>type</th>\n",
       "      <th>url_type</th>\n",
       "    </tr>\n",
       "  </thead>\n",
       "  <tbody>\n",
       "    <tr>\n",
       "      <th>0</th>\n",
       "      <td>br-icloud.com.br</td>\n",
       "      <td>phishing</td>\n",
       "      <td>2</td>\n",
       "    </tr>\n",
       "    <tr>\n",
       "      <th>1</th>\n",
       "      <td>mp3raid.com/music/krizz_kaliko.html</td>\n",
       "      <td>benign</td>\n",
       "      <td>0</td>\n",
       "    </tr>\n",
       "    <tr>\n",
       "      <th>2</th>\n",
       "      <td>bopsecrets.org/rexroth/cr/1.htm</td>\n",
       "      <td>benign</td>\n",
       "      <td>0</td>\n",
       "    </tr>\n",
       "    <tr>\n",
       "      <th>3</th>\n",
       "      <td>http://www.garage-pirenne.be/index.php?option=...</td>\n",
       "      <td>defacement</td>\n",
       "      <td>1</td>\n",
       "    </tr>\n",
       "    <tr>\n",
       "      <th>4</th>\n",
       "      <td>http://adventure-nicaragua.net/index.php?optio...</td>\n",
       "      <td>defacement</td>\n",
       "      <td>1</td>\n",
       "    </tr>\n",
       "  </tbody>\n",
       "</table>\n",
       "</div>"
      ],
      "text/plain": [
       "                                                 url        type  url_type\n",
       "0                                   br-icloud.com.br    phishing         2\n",
       "1                mp3raid.com/music/krizz_kaliko.html      benign         0\n",
       "2                    bopsecrets.org/rexroth/cr/1.htm      benign         0\n",
       "3  http://www.garage-pirenne.be/index.php?option=...  defacement         1\n",
       "4  http://adventure-nicaragua.net/index.php?optio...  defacement         1"
      ]
     },
     "execution_count": 21,
     "metadata": {},
     "output_type": "execute_result"
    }
   ],
   "source": [
    "urls_data.head()"
   ]
  },
  {
   "cell_type": "code",
   "execution_count": 22,
   "id": "52a5d5e2",
   "metadata": {
    "execution": {
     "iopub.execute_input": "2023-12-17T22:23:03.961817Z",
     "iopub.status.busy": "2023-12-17T22:23:03.961512Z",
     "iopub.status.idle": "2023-12-17T22:23:03.966699Z",
     "shell.execute_reply": "2023-12-17T22:23:03.965788Z"
    },
    "papermill": {
     "duration": 0.022392,
     "end_time": "2023-12-17T22:23:03.968617",
     "exception": false,
     "start_time": "2023-12-17T22:23:03.946225",
     "status": "completed"
    },
    "tags": []
   },
   "outputs": [],
   "source": [
    "def get_url_length(url):\n",
    "    # Remove common prefixes\n",
    "    prefixes = ['http://', 'https://']\n",
    "    for prefix in prefixes:\n",
    "        if url.startswith(prefix):\n",
    "            url = url[len(prefix):]\n",
    "\n",
    "    # Remove 'www.' if present\n",
    "    url = url.replace('www.', '')\n",
    "\n",
    "    # Return the length of the remaining URL\n",
    "    return len(url)"
   ]
  },
  {
   "cell_type": "code",
   "execution_count": 23,
   "id": "fa58e09d",
   "metadata": {
    "execution": {
     "iopub.execute_input": "2023-12-17T22:23:04.002494Z",
     "iopub.status.busy": "2023-12-17T22:23:04.001560Z",
     "iopub.status.idle": "2023-12-17T22:23:04.746349Z",
     "shell.execute_reply": "2023-12-17T22:23:04.745430Z"
    },
    "papermill": {
     "duration": 0.764421,
     "end_time": "2023-12-17T22:23:04.748810",
     "exception": false,
     "start_time": "2023-12-17T22:23:03.984389",
     "status": "completed"
    },
    "tags": []
   },
   "outputs": [],
   "source": [
    "urls_data['url_len'] = urls_data['url'].apply(lambda x: get_url_length(str(x)))"
   ]
  },
  {
   "cell_type": "code",
   "execution_count": 24,
   "id": "b5cc6f76",
   "metadata": {
    "execution": {
     "iopub.execute_input": "2023-12-17T22:23:04.779161Z",
     "iopub.status.busy": "2023-12-17T22:23:04.778729Z",
     "iopub.status.idle": "2023-12-17T22:23:04.788376Z",
     "shell.execute_reply": "2023-12-17T22:23:04.787652Z"
    },
    "papermill": {
     "duration": 0.026476,
     "end_time": "2023-12-17T22:23:04.790195",
     "exception": false,
     "start_time": "2023-12-17T22:23:04.763719",
     "status": "completed"
    },
    "tags": []
   },
   "outputs": [
    {
     "data": {
      "text/html": [
       "<div>\n",
       "<style scoped>\n",
       "    .dataframe tbody tr th:only-of-type {\n",
       "        vertical-align: middle;\n",
       "    }\n",
       "\n",
       "    .dataframe tbody tr th {\n",
       "        vertical-align: top;\n",
       "    }\n",
       "\n",
       "    .dataframe thead th {\n",
       "        text-align: right;\n",
       "    }\n",
       "</style>\n",
       "<table border=\"1\" class=\"dataframe\">\n",
       "  <thead>\n",
       "    <tr style=\"text-align: right;\">\n",
       "      <th></th>\n",
       "      <th>url</th>\n",
       "      <th>type</th>\n",
       "      <th>url_type</th>\n",
       "      <th>url_len</th>\n",
       "    </tr>\n",
       "  </thead>\n",
       "  <tbody>\n",
       "    <tr>\n",
       "      <th>0</th>\n",
       "      <td>br-icloud.com.br</td>\n",
       "      <td>phishing</td>\n",
       "      <td>2</td>\n",
       "      <td>16</td>\n",
       "    </tr>\n",
       "    <tr>\n",
       "      <th>1</th>\n",
       "      <td>mp3raid.com/music/krizz_kaliko.html</td>\n",
       "      <td>benign</td>\n",
       "      <td>0</td>\n",
       "      <td>35</td>\n",
       "    </tr>\n",
       "    <tr>\n",
       "      <th>2</th>\n",
       "      <td>bopsecrets.org/rexroth/cr/1.htm</td>\n",
       "      <td>benign</td>\n",
       "      <td>0</td>\n",
       "      <td>31</td>\n",
       "    </tr>\n",
       "    <tr>\n",
       "      <th>3</th>\n",
       "      <td>http://www.garage-pirenne.be/index.php?option=...</td>\n",
       "      <td>defacement</td>\n",
       "      <td>1</td>\n",
       "      <td>77</td>\n",
       "    </tr>\n",
       "    <tr>\n",
       "      <th>4</th>\n",
       "      <td>http://adventure-nicaragua.net/index.php?optio...</td>\n",
       "      <td>defacement</td>\n",
       "      <td>1</td>\n",
       "      <td>228</td>\n",
       "    </tr>\n",
       "  </tbody>\n",
       "</table>\n",
       "</div>"
      ],
      "text/plain": [
       "                                                 url        type  url_type  \\\n",
       "0                                   br-icloud.com.br    phishing         2   \n",
       "1                mp3raid.com/music/krizz_kaliko.html      benign         0   \n",
       "2                    bopsecrets.org/rexroth/cr/1.htm      benign         0   \n",
       "3  http://www.garage-pirenne.be/index.php?option=...  defacement         1   \n",
       "4  http://adventure-nicaragua.net/index.php?optio...  defacement         1   \n",
       "\n",
       "   url_len  \n",
       "0       16  \n",
       "1       35  \n",
       "2       31  \n",
       "3       77  \n",
       "4      228  "
      ]
     },
     "execution_count": 24,
     "metadata": {},
     "output_type": "execute_result"
    }
   ],
   "source": [
    "urls_data.head()"
   ]
  },
  {
   "cell_type": "code",
   "execution_count": 25,
   "id": "112bac94",
   "metadata": {
    "execution": {
     "iopub.execute_input": "2023-12-17T22:23:04.818935Z",
     "iopub.status.busy": "2023-12-17T22:23:04.818676Z",
     "iopub.status.idle": "2023-12-17T22:23:04.823134Z",
     "shell.execute_reply": "2023-12-17T22:23:04.822364Z"
    },
    "papermill": {
     "duration": 0.020435,
     "end_time": "2023-12-17T22:23:04.824871",
     "exception": false,
     "start_time": "2023-12-17T22:23:04.804436",
     "status": "completed"
    },
    "tags": []
   },
   "outputs": [],
   "source": [
    "def extract_pri_domain(url):\n",
    "    try:\n",
    "        res = get_tld(url, as_object = True, fail_silently=False,fix_protocol=True)\n",
    "        pri_domain= res.parsed_url.netloc\n",
    "    except :\n",
    "        pri_domain= None\n",
    "    return pri_domain"
   ]
  },
  {
   "cell_type": "code",
   "execution_count": 26,
   "id": "674f7158",
   "metadata": {
    "execution": {
     "iopub.execute_input": "2023-12-17T22:23:04.853897Z",
     "iopub.status.busy": "2023-12-17T22:23:04.853665Z",
     "iopub.status.idle": "2023-12-17T22:23:14.286484Z",
     "shell.execute_reply": "2023-12-17T22:23:14.285595Z"
    },
    "papermill": {
     "duration": 9.449792,
     "end_time": "2023-12-17T22:23:14.288896",
     "exception": false,
     "start_time": "2023-12-17T22:23:04.839104",
     "status": "completed"
    },
    "tags": []
   },
   "outputs": [],
   "source": [
    "urls_data['pri_domain'] = urls_data['url'].apply(lambda x: extract_pri_domain(x))"
   ]
  },
  {
   "cell_type": "code",
   "execution_count": 27,
   "id": "80ba7edb",
   "metadata": {
    "execution": {
     "iopub.execute_input": "2023-12-17T22:23:14.317994Z",
     "iopub.status.busy": "2023-12-17T22:23:14.317691Z",
     "iopub.status.idle": "2023-12-17T22:23:14.327356Z",
     "shell.execute_reply": "2023-12-17T22:23:14.326701Z"
    },
    "papermill": {
     "duration": 0.02637,
     "end_time": "2023-12-17T22:23:14.329059",
     "exception": false,
     "start_time": "2023-12-17T22:23:14.302689",
     "status": "completed"
    },
    "tags": []
   },
   "outputs": [
    {
     "data": {
      "text/html": [
       "<div>\n",
       "<style scoped>\n",
       "    .dataframe tbody tr th:only-of-type {\n",
       "        vertical-align: middle;\n",
       "    }\n",
       "\n",
       "    .dataframe tbody tr th {\n",
       "        vertical-align: top;\n",
       "    }\n",
       "\n",
       "    .dataframe thead th {\n",
       "        text-align: right;\n",
       "    }\n",
       "</style>\n",
       "<table border=\"1\" class=\"dataframe\">\n",
       "  <thead>\n",
       "    <tr style=\"text-align: right;\">\n",
       "      <th></th>\n",
       "      <th>url</th>\n",
       "      <th>type</th>\n",
       "      <th>url_type</th>\n",
       "      <th>url_len</th>\n",
       "      <th>pri_domain</th>\n",
       "    </tr>\n",
       "  </thead>\n",
       "  <tbody>\n",
       "    <tr>\n",
       "      <th>0</th>\n",
       "      <td>br-icloud.com.br</td>\n",
       "      <td>phishing</td>\n",
       "      <td>2</td>\n",
       "      <td>16</td>\n",
       "      <td>br-icloud.com.br</td>\n",
       "    </tr>\n",
       "    <tr>\n",
       "      <th>1</th>\n",
       "      <td>mp3raid.com/music/krizz_kaliko.html</td>\n",
       "      <td>benign</td>\n",
       "      <td>0</td>\n",
       "      <td>35</td>\n",
       "      <td>mp3raid.com</td>\n",
       "    </tr>\n",
       "    <tr>\n",
       "      <th>2</th>\n",
       "      <td>bopsecrets.org/rexroth/cr/1.htm</td>\n",
       "      <td>benign</td>\n",
       "      <td>0</td>\n",
       "      <td>31</td>\n",
       "      <td>bopsecrets.org</td>\n",
       "    </tr>\n",
       "    <tr>\n",
       "      <th>3</th>\n",
       "      <td>http://www.garage-pirenne.be/index.php?option=...</td>\n",
       "      <td>defacement</td>\n",
       "      <td>1</td>\n",
       "      <td>77</td>\n",
       "      <td>www.garage-pirenne.be</td>\n",
       "    </tr>\n",
       "    <tr>\n",
       "      <th>4</th>\n",
       "      <td>http://adventure-nicaragua.net/index.php?optio...</td>\n",
       "      <td>defacement</td>\n",
       "      <td>1</td>\n",
       "      <td>228</td>\n",
       "      <td>adventure-nicaragua.net</td>\n",
       "    </tr>\n",
       "  </tbody>\n",
       "</table>\n",
       "</div>"
      ],
      "text/plain": [
       "                                                 url        type  url_type  \\\n",
       "0                                   br-icloud.com.br    phishing         2   \n",
       "1                mp3raid.com/music/krizz_kaliko.html      benign         0   \n",
       "2                    bopsecrets.org/rexroth/cr/1.htm      benign         0   \n",
       "3  http://www.garage-pirenne.be/index.php?option=...  defacement         1   \n",
       "4  http://adventure-nicaragua.net/index.php?optio...  defacement         1   \n",
       "\n",
       "   url_len               pri_domain  \n",
       "0       16         br-icloud.com.br  \n",
       "1       35              mp3raid.com  \n",
       "2       31           bopsecrets.org  \n",
       "3       77    www.garage-pirenne.be  \n",
       "4      228  adventure-nicaragua.net  "
      ]
     },
     "execution_count": 27,
     "metadata": {},
     "output_type": "execute_result"
    }
   ],
   "source": [
    "urls_data.head()"
   ]
  },
  {
   "cell_type": "code",
   "execution_count": 28,
   "id": "77d80907",
   "metadata": {
    "execution": {
     "iopub.execute_input": "2023-12-17T22:23:14.357297Z",
     "iopub.status.busy": "2023-12-17T22:23:14.357052Z",
     "iopub.status.idle": "2023-12-17T22:23:14.362234Z",
     "shell.execute_reply": "2023-12-17T22:23:14.361402Z"
    },
    "papermill": {
     "duration": 0.021266,
     "end_time": "2023-12-17T22:23:14.363889",
     "exception": false,
     "start_time": "2023-12-17T22:23:14.342623",
     "status": "completed"
    },
    "tags": []
   },
   "outputs": [],
   "source": [
    "def count_letters(url):\n",
    "    num_letters = sum(char.isalpha() for char in url)\n",
    "    return num_letters\n",
    "\n",
    "def count_digits(url):\n",
    "    num_digits = sum(char.isdigit() for char in url)\n",
    "    return num_digits\n",
    "\n",
    "def count_special_chars(url):\n",
    "    special_chars = set(string.punctuation)\n",
    "    num_special_chars = sum(char in special_chars for char in url)\n",
    "    return num_special_chars"
   ]
  },
  {
   "cell_type": "code",
   "execution_count": 29,
   "id": "0ba0b4c2",
   "metadata": {
    "execution": {
     "iopub.execute_input": "2023-12-17T22:23:14.391714Z",
     "iopub.status.busy": "2023-12-17T22:23:14.391461Z",
     "iopub.status.idle": "2023-12-17T22:23:27.925821Z",
     "shell.execute_reply": "2023-12-17T22:23:27.925055Z"
    },
    "papermill": {
     "duration": 13.550942,
     "end_time": "2023-12-17T22:23:27.928153",
     "exception": false,
     "start_time": "2023-12-17T22:23:14.377211",
     "status": "completed"
    },
    "tags": []
   },
   "outputs": [],
   "source": [
    "urls_data['letters_count']        = urls_data['url'].apply(lambda x: count_letters(x))\n",
    "urls_data['digits_count']         = urls_data['url'].apply(lambda x: count_digits(x))\n",
    "urls_data['special_chars_count']  = urls_data['url'].apply(lambda x: count_special_chars(x))"
   ]
  },
  {
   "cell_type": "code",
   "execution_count": 30,
   "id": "a7229261",
   "metadata": {
    "execution": {
     "iopub.execute_input": "2023-12-17T22:23:27.957958Z",
     "iopub.status.busy": "2023-12-17T22:23:27.957634Z",
     "iopub.status.idle": "2023-12-17T22:23:27.968142Z",
     "shell.execute_reply": "2023-12-17T22:23:27.967502Z"
    },
    "papermill": {
     "duration": 0.02749,
     "end_time": "2023-12-17T22:23:27.969848",
     "exception": false,
     "start_time": "2023-12-17T22:23:27.942358",
     "status": "completed"
    },
    "tags": []
   },
   "outputs": [
    {
     "data": {
      "text/html": [
       "<div>\n",
       "<style scoped>\n",
       "    .dataframe tbody tr th:only-of-type {\n",
       "        vertical-align: middle;\n",
       "    }\n",
       "\n",
       "    .dataframe tbody tr th {\n",
       "        vertical-align: top;\n",
       "    }\n",
       "\n",
       "    .dataframe thead th {\n",
       "        text-align: right;\n",
       "    }\n",
       "</style>\n",
       "<table border=\"1\" class=\"dataframe\">\n",
       "  <thead>\n",
       "    <tr style=\"text-align: right;\">\n",
       "      <th></th>\n",
       "      <th>url</th>\n",
       "      <th>type</th>\n",
       "      <th>url_type</th>\n",
       "      <th>url_len</th>\n",
       "      <th>pri_domain</th>\n",
       "      <th>letters_count</th>\n",
       "      <th>digits_count</th>\n",
       "      <th>special_chars_count</th>\n",
       "    </tr>\n",
       "  </thead>\n",
       "  <tbody>\n",
       "    <tr>\n",
       "      <th>0</th>\n",
       "      <td>br-icloud.com.br</td>\n",
       "      <td>phishing</td>\n",
       "      <td>2</td>\n",
       "      <td>16</td>\n",
       "      <td>br-icloud.com.br</td>\n",
       "      <td>13</td>\n",
       "      <td>0</td>\n",
       "      <td>3</td>\n",
       "    </tr>\n",
       "    <tr>\n",
       "      <th>1</th>\n",
       "      <td>mp3raid.com/music/krizz_kaliko.html</td>\n",
       "      <td>benign</td>\n",
       "      <td>0</td>\n",
       "      <td>35</td>\n",
       "      <td>mp3raid.com</td>\n",
       "      <td>29</td>\n",
       "      <td>1</td>\n",
       "      <td>5</td>\n",
       "    </tr>\n",
       "    <tr>\n",
       "      <th>2</th>\n",
       "      <td>bopsecrets.org/rexroth/cr/1.htm</td>\n",
       "      <td>benign</td>\n",
       "      <td>0</td>\n",
       "      <td>31</td>\n",
       "      <td>bopsecrets.org</td>\n",
       "      <td>25</td>\n",
       "      <td>1</td>\n",
       "      <td>5</td>\n",
       "    </tr>\n",
       "    <tr>\n",
       "      <th>3</th>\n",
       "      <td>http://www.garage-pirenne.be/index.php?option=...</td>\n",
       "      <td>defacement</td>\n",
       "      <td>1</td>\n",
       "      <td>77</td>\n",
       "      <td>www.garage-pirenne.be</td>\n",
       "      <td>63</td>\n",
       "      <td>7</td>\n",
       "      <td>18</td>\n",
       "    </tr>\n",
       "    <tr>\n",
       "      <th>4</th>\n",
       "      <td>http://adventure-nicaragua.net/index.php?optio...</td>\n",
       "      <td>defacement</td>\n",
       "      <td>1</td>\n",
       "      <td>228</td>\n",
       "      <td>adventure-nicaragua.net</td>\n",
       "      <td>199</td>\n",
       "      <td>22</td>\n",
       "      <td>14</td>\n",
       "    </tr>\n",
       "  </tbody>\n",
       "</table>\n",
       "</div>"
      ],
      "text/plain": [
       "                                                 url        type  url_type  \\\n",
       "0                                   br-icloud.com.br    phishing         2   \n",
       "1                mp3raid.com/music/krizz_kaliko.html      benign         0   \n",
       "2                    bopsecrets.org/rexroth/cr/1.htm      benign         0   \n",
       "3  http://www.garage-pirenne.be/index.php?option=...  defacement         1   \n",
       "4  http://adventure-nicaragua.net/index.php?optio...  defacement         1   \n",
       "\n",
       "   url_len               pri_domain  letters_count  digits_count  \\\n",
       "0       16         br-icloud.com.br             13             0   \n",
       "1       35              mp3raid.com             29             1   \n",
       "2       31           bopsecrets.org             25             1   \n",
       "3       77    www.garage-pirenne.be             63             7   \n",
       "4      228  adventure-nicaragua.net            199            22   \n",
       "\n",
       "   special_chars_count  \n",
       "0                    3  \n",
       "1                    5  \n",
       "2                    5  \n",
       "3                   18  \n",
       "4                   14  "
      ]
     },
     "execution_count": 30,
     "metadata": {},
     "output_type": "execute_result"
    }
   ],
   "source": [
    "urls_data.head()"
   ]
  },
  {
   "cell_type": "code",
   "execution_count": 31,
   "id": "db17340f",
   "metadata": {
    "execution": {
     "iopub.execute_input": "2023-12-17T22:23:28.001363Z",
     "iopub.status.busy": "2023-12-17T22:23:28.001106Z",
     "iopub.status.idle": "2023-12-17T22:23:28.008193Z",
     "shell.execute_reply": "2023-12-17T22:23:28.007465Z"
    },
    "papermill": {
     "duration": 0.024643,
     "end_time": "2023-12-17T22:23:28.010067",
     "exception": false,
     "start_time": "2023-12-17T22:23:27.985424",
     "status": "completed"
    },
    "tags": []
   },
   "outputs": [],
   "source": [
    "def has_shortening_service(url):\n",
    "    pattern = re.compile(r'https?://(?:www\\.)?(?:\\w+\\.)*(\\w+)\\.\\w+')\n",
    "    match = pattern.search(url)\n",
    "    \n",
    "    if match:\n",
    "        domain = match.group(1)\n",
    "        common_shortening_services = ['bit', 'goo', 'tinyurl', 'ow', 't', 'is',\n",
    "                                      'cli', 'yfrog', 'migre', 'ff', 'url4', 'twit',\n",
    "                                      'su', 'snipurl', 'short', 'BudURL', 'ping', \n",
    "                                      'post', 'Just', 'bkite', 'snipr', 'fic', \n",
    "                                      'loopt', 'doiop', 'short', 'kl', 'wp', \n",
    "                                      'rubyurl', 'om', 'to', 'bit', 't', 'lnkd', \n",
    "                                      'db', 'qr', 'adf', 'goo', 'bitly', 'cur', \n",
    "                                      'tinyurl', 'ow', 'bit', 'ity', 'q', 'is', \n",
    "                                      'po', 'bc', 'twitthis', 'u', 'j', 'buzurl', \n",
    "                                      'cutt', 'u', 'yourls', 'x', 'prettylinkpro', \n",
    "                                      'scrnch', 'filoops', 'vzturl', 'qr', '1url', \n",
    "                                      'tweez', 'v', 'tr', 'link', 'zip']\n",
    "        \n",
    "        if domain.lower() in common_shortening_services:\n",
    "            return 1\n",
    "    return 0"
   ]
  },
  {
   "cell_type": "code",
   "execution_count": 32,
   "id": "61d3c3ba",
   "metadata": {
    "execution": {
     "iopub.execute_input": "2023-12-17T22:23:28.040642Z",
     "iopub.status.busy": "2023-12-17T22:23:28.040391Z",
     "iopub.status.idle": "2023-12-17T22:23:29.247967Z",
     "shell.execute_reply": "2023-12-17T22:23:29.247192Z"
    },
    "papermill": {
     "duration": 1.225048,
     "end_time": "2023-12-17T22:23:29.250364",
     "exception": false,
     "start_time": "2023-12-17T22:23:28.025316",
     "status": "completed"
    },
    "tags": []
   },
   "outputs": [],
   "source": [
    "urls_data['shortened']  = urls_data['url'].apply(lambda x: has_shortening_service(x))"
   ]
  },
  {
   "cell_type": "code",
   "execution_count": 33,
   "id": "bd4be357",
   "metadata": {
    "execution": {
     "iopub.execute_input": "2023-12-17T22:23:29.280315Z",
     "iopub.status.busy": "2023-12-17T22:23:29.280029Z",
     "iopub.status.idle": "2023-12-17T22:23:29.290116Z",
     "shell.execute_reply": "2023-12-17T22:23:29.289457Z"
    },
    "papermill": {
     "duration": 0.027061,
     "end_time": "2023-12-17T22:23:29.291906",
     "exception": false,
     "start_time": "2023-12-17T22:23:29.264845",
     "status": "completed"
    },
    "tags": []
   },
   "outputs": [
    {
     "data": {
      "text/html": [
       "<div>\n",
       "<style scoped>\n",
       "    .dataframe tbody tr th:only-of-type {\n",
       "        vertical-align: middle;\n",
       "    }\n",
       "\n",
       "    .dataframe tbody tr th {\n",
       "        vertical-align: top;\n",
       "    }\n",
       "\n",
       "    .dataframe thead th {\n",
       "        text-align: right;\n",
       "    }\n",
       "</style>\n",
       "<table border=\"1\" class=\"dataframe\">\n",
       "  <thead>\n",
       "    <tr style=\"text-align: right;\">\n",
       "      <th></th>\n",
       "      <th>url</th>\n",
       "      <th>type</th>\n",
       "      <th>url_type</th>\n",
       "      <th>url_len</th>\n",
       "      <th>pri_domain</th>\n",
       "      <th>letters_count</th>\n",
       "      <th>digits_count</th>\n",
       "      <th>special_chars_count</th>\n",
       "      <th>shortened</th>\n",
       "    </tr>\n",
       "  </thead>\n",
       "  <tbody>\n",
       "    <tr>\n",
       "      <th>0</th>\n",
       "      <td>br-icloud.com.br</td>\n",
       "      <td>phishing</td>\n",
       "      <td>2</td>\n",
       "      <td>16</td>\n",
       "      <td>br-icloud.com.br</td>\n",
       "      <td>13</td>\n",
       "      <td>0</td>\n",
       "      <td>3</td>\n",
       "      <td>0</td>\n",
       "    </tr>\n",
       "    <tr>\n",
       "      <th>1</th>\n",
       "      <td>mp3raid.com/music/krizz_kaliko.html</td>\n",
       "      <td>benign</td>\n",
       "      <td>0</td>\n",
       "      <td>35</td>\n",
       "      <td>mp3raid.com</td>\n",
       "      <td>29</td>\n",
       "      <td>1</td>\n",
       "      <td>5</td>\n",
       "      <td>0</td>\n",
       "    </tr>\n",
       "    <tr>\n",
       "      <th>2</th>\n",
       "      <td>bopsecrets.org/rexroth/cr/1.htm</td>\n",
       "      <td>benign</td>\n",
       "      <td>0</td>\n",
       "      <td>31</td>\n",
       "      <td>bopsecrets.org</td>\n",
       "      <td>25</td>\n",
       "      <td>1</td>\n",
       "      <td>5</td>\n",
       "      <td>0</td>\n",
       "    </tr>\n",
       "    <tr>\n",
       "      <th>3</th>\n",
       "      <td>http://www.garage-pirenne.be/index.php?option=...</td>\n",
       "      <td>defacement</td>\n",
       "      <td>1</td>\n",
       "      <td>77</td>\n",
       "      <td>www.garage-pirenne.be</td>\n",
       "      <td>63</td>\n",
       "      <td>7</td>\n",
       "      <td>18</td>\n",
       "      <td>0</td>\n",
       "    </tr>\n",
       "    <tr>\n",
       "      <th>4</th>\n",
       "      <td>http://adventure-nicaragua.net/index.php?optio...</td>\n",
       "      <td>defacement</td>\n",
       "      <td>1</td>\n",
       "      <td>228</td>\n",
       "      <td>adventure-nicaragua.net</td>\n",
       "      <td>199</td>\n",
       "      <td>22</td>\n",
       "      <td>14</td>\n",
       "      <td>0</td>\n",
       "    </tr>\n",
       "  </tbody>\n",
       "</table>\n",
       "</div>"
      ],
      "text/plain": [
       "                                                 url        type  url_type  \\\n",
       "0                                   br-icloud.com.br    phishing         2   \n",
       "1                mp3raid.com/music/krizz_kaliko.html      benign         0   \n",
       "2                    bopsecrets.org/rexroth/cr/1.htm      benign         0   \n",
       "3  http://www.garage-pirenne.be/index.php?option=...  defacement         1   \n",
       "4  http://adventure-nicaragua.net/index.php?optio...  defacement         1   \n",
       "\n",
       "   url_len               pri_domain  letters_count  digits_count  \\\n",
       "0       16         br-icloud.com.br             13             0   \n",
       "1       35              mp3raid.com             29             1   \n",
       "2       31           bopsecrets.org             25             1   \n",
       "3       77    www.garage-pirenne.be             63             7   \n",
       "4      228  adventure-nicaragua.net            199            22   \n",
       "\n",
       "   special_chars_count  shortened  \n",
       "0                    3          0  \n",
       "1                    5          0  \n",
       "2                    5          0  \n",
       "3                   18          0  \n",
       "4                   14          0  "
      ]
     },
     "execution_count": 33,
     "metadata": {},
     "output_type": "execute_result"
    }
   ],
   "source": [
    "urls_data.head()"
   ]
  },
  {
   "cell_type": "code",
   "execution_count": 34,
   "id": "33b88801",
   "metadata": {
    "execution": {
     "iopub.execute_input": "2023-12-17T22:23:29.321873Z",
     "iopub.status.busy": "2023-12-17T22:23:29.321597Z",
     "iopub.status.idle": "2023-12-17T22:23:29.326063Z",
     "shell.execute_reply": "2023-12-17T22:23:29.325400Z"
    },
    "papermill": {
     "duration": 0.021521,
     "end_time": "2023-12-17T22:23:29.327786",
     "exception": false,
     "start_time": "2023-12-17T22:23:29.306265",
     "status": "completed"
    },
    "tags": []
   },
   "outputs": [],
   "source": [
    "def abnormal_url(url):\n",
    "    parsed_url = urlparse(url)\n",
    "    netloc = parsed_url.netloc\n",
    "    if netloc:\n",
    "        netloc = str(netloc)\n",
    "        match = re.search(netloc, url)\n",
    "        if match:\n",
    "            return 1\n",
    "    return 0"
   ]
  },
  {
   "cell_type": "code",
   "execution_count": 35,
   "id": "77cfdf30",
   "metadata": {
    "execution": {
     "iopub.execute_input": "2023-12-17T22:23:29.357930Z",
     "iopub.status.busy": "2023-12-17T22:23:29.357661Z",
     "iopub.status.idle": "2023-12-17T22:23:39.940108Z",
     "shell.execute_reply": "2023-12-17T22:23:39.939306Z"
    },
    "papermill": {
     "duration": 10.600772,
     "end_time": "2023-12-17T22:23:39.942671",
     "exception": false,
     "start_time": "2023-12-17T22:23:29.341899",
     "status": "completed"
    },
    "tags": []
   },
   "outputs": [],
   "source": [
    "urls_data['abnormal_url']  = urls_data['url'].apply(lambda x: abnormal_url(x))"
   ]
  },
  {
   "cell_type": "code",
   "execution_count": 36,
   "id": "6728c280",
   "metadata": {
    "execution": {
     "iopub.execute_input": "2023-12-17T22:23:39.974362Z",
     "iopub.status.busy": "2023-12-17T22:23:39.973698Z",
     "iopub.status.idle": "2023-12-17T22:23:39.989258Z",
     "shell.execute_reply": "2023-12-17T22:23:39.988581Z"
    },
    "papermill": {
     "duration": 0.033141,
     "end_time": "2023-12-17T22:23:39.990975",
     "exception": false,
     "start_time": "2023-12-17T22:23:39.957834",
     "status": "completed"
    },
    "tags": []
   },
   "outputs": [
    {
     "data": {
      "text/html": [
       "<div>\n",
       "<style scoped>\n",
       "    .dataframe tbody tr th:only-of-type {\n",
       "        vertical-align: middle;\n",
       "    }\n",
       "\n",
       "    .dataframe tbody tr th {\n",
       "        vertical-align: top;\n",
       "    }\n",
       "\n",
       "    .dataframe thead th {\n",
       "        text-align: right;\n",
       "    }\n",
       "</style>\n",
       "<table border=\"1\" class=\"dataframe\">\n",
       "  <thead>\n",
       "    <tr style=\"text-align: right;\">\n",
       "      <th></th>\n",
       "      <th>url</th>\n",
       "      <th>type</th>\n",
       "      <th>url_type</th>\n",
       "      <th>url_len</th>\n",
       "      <th>pri_domain</th>\n",
       "      <th>letters_count</th>\n",
       "      <th>digits_count</th>\n",
       "      <th>special_chars_count</th>\n",
       "      <th>shortened</th>\n",
       "      <th>abnormal_url</th>\n",
       "    </tr>\n",
       "  </thead>\n",
       "  <tbody>\n",
       "    <tr>\n",
       "      <th>0</th>\n",
       "      <td>br-icloud.com.br</td>\n",
       "      <td>phishing</td>\n",
       "      <td>2</td>\n",
       "      <td>16</td>\n",
       "      <td>br-icloud.com.br</td>\n",
       "      <td>13</td>\n",
       "      <td>0</td>\n",
       "      <td>3</td>\n",
       "      <td>0</td>\n",
       "      <td>0</td>\n",
       "    </tr>\n",
       "    <tr>\n",
       "      <th>1</th>\n",
       "      <td>mp3raid.com/music/krizz_kaliko.html</td>\n",
       "      <td>benign</td>\n",
       "      <td>0</td>\n",
       "      <td>35</td>\n",
       "      <td>mp3raid.com</td>\n",
       "      <td>29</td>\n",
       "      <td>1</td>\n",
       "      <td>5</td>\n",
       "      <td>0</td>\n",
       "      <td>0</td>\n",
       "    </tr>\n",
       "    <tr>\n",
       "      <th>2</th>\n",
       "      <td>bopsecrets.org/rexroth/cr/1.htm</td>\n",
       "      <td>benign</td>\n",
       "      <td>0</td>\n",
       "      <td>31</td>\n",
       "      <td>bopsecrets.org</td>\n",
       "      <td>25</td>\n",
       "      <td>1</td>\n",
       "      <td>5</td>\n",
       "      <td>0</td>\n",
       "      <td>0</td>\n",
       "    </tr>\n",
       "    <tr>\n",
       "      <th>3</th>\n",
       "      <td>http://www.garage-pirenne.be/index.php?option=...</td>\n",
       "      <td>defacement</td>\n",
       "      <td>1</td>\n",
       "      <td>77</td>\n",
       "      <td>www.garage-pirenne.be</td>\n",
       "      <td>63</td>\n",
       "      <td>7</td>\n",
       "      <td>18</td>\n",
       "      <td>0</td>\n",
       "      <td>1</td>\n",
       "    </tr>\n",
       "    <tr>\n",
       "      <th>4</th>\n",
       "      <td>http://adventure-nicaragua.net/index.php?optio...</td>\n",
       "      <td>defacement</td>\n",
       "      <td>1</td>\n",
       "      <td>228</td>\n",
       "      <td>adventure-nicaragua.net</td>\n",
       "      <td>199</td>\n",
       "      <td>22</td>\n",
       "      <td>14</td>\n",
       "      <td>0</td>\n",
       "      <td>1</td>\n",
       "    </tr>\n",
       "  </tbody>\n",
       "</table>\n",
       "</div>"
      ],
      "text/plain": [
       "                                                 url        type  url_type  \\\n",
       "0                                   br-icloud.com.br    phishing         2   \n",
       "1                mp3raid.com/music/krizz_kaliko.html      benign         0   \n",
       "2                    bopsecrets.org/rexroth/cr/1.htm      benign         0   \n",
       "3  http://www.garage-pirenne.be/index.php?option=...  defacement         1   \n",
       "4  http://adventure-nicaragua.net/index.php?optio...  defacement         1   \n",
       "\n",
       "   url_len               pri_domain  letters_count  digits_count  \\\n",
       "0       16         br-icloud.com.br             13             0   \n",
       "1       35              mp3raid.com             29             1   \n",
       "2       31           bopsecrets.org             25             1   \n",
       "3       77    www.garage-pirenne.be             63             7   \n",
       "4      228  adventure-nicaragua.net            199            22   \n",
       "\n",
       "   special_chars_count  shortened  abnormal_url  \n",
       "0                    3          0             0  \n",
       "1                    5          0             0  \n",
       "2                    5          0             0  \n",
       "3                   18          0             1  \n",
       "4                   14          0             1  "
      ]
     },
     "execution_count": 36,
     "metadata": {},
     "output_type": "execute_result"
    }
   ],
   "source": [
    "urls_data.head()"
   ]
  },
  {
   "cell_type": "code",
   "execution_count": 37,
   "id": "63734886",
   "metadata": {
    "execution": {
     "iopub.execute_input": "2023-12-17T22:23:40.024444Z",
     "iopub.status.busy": "2023-12-17T22:23:40.023651Z",
     "iopub.status.idle": "2023-12-17T22:23:40.027520Z",
     "shell.execute_reply": "2023-12-17T22:23:40.026851Z"
    },
    "papermill": {
     "duration": 0.02258,
     "end_time": "2023-12-17T22:23:40.029623",
     "exception": false,
     "start_time": "2023-12-17T22:23:40.007043",
     "status": "completed"
    },
    "tags": []
   },
   "outputs": [],
   "source": [
    "def secure_http(url):\n",
    "    return int(urlparse(url).scheme == 'https')"
   ]
  },
  {
   "cell_type": "code",
   "execution_count": 38,
   "id": "9489dedf",
   "metadata": {
    "execution": {
     "iopub.execute_input": "2023-12-17T22:23:40.061480Z",
     "iopub.status.busy": "2023-12-17T22:23:40.061217Z",
     "iopub.status.idle": "2023-12-17T22:23:43.648803Z",
     "shell.execute_reply": "2023-12-17T22:23:43.648052Z"
    },
    "papermill": {
     "duration": 3.605662,
     "end_time": "2023-12-17T22:23:43.651236",
     "exception": false,
     "start_time": "2023-12-17T22:23:40.045574",
     "status": "completed"
    },
    "tags": []
   },
   "outputs": [],
   "source": [
    "urls_data['secure_http']  = urls_data['url'].apply(lambda x: secure_http(x))"
   ]
  },
  {
   "cell_type": "code",
   "execution_count": 39,
   "id": "70c88eee",
   "metadata": {
    "execution": {
     "iopub.execute_input": "2023-12-17T22:23:43.682622Z",
     "iopub.status.busy": "2023-12-17T22:23:43.682321Z",
     "iopub.status.idle": "2023-12-17T22:23:43.692915Z",
     "shell.execute_reply": "2023-12-17T22:23:43.692273Z"
    },
    "papermill": {
     "duration": 0.028176,
     "end_time": "2023-12-17T22:23:43.694825",
     "exception": false,
     "start_time": "2023-12-17T22:23:43.666649",
     "status": "completed"
    },
    "tags": []
   },
   "outputs": [
    {
     "data": {
      "text/html": [
       "<div>\n",
       "<style scoped>\n",
       "    .dataframe tbody tr th:only-of-type {\n",
       "        vertical-align: middle;\n",
       "    }\n",
       "\n",
       "    .dataframe tbody tr th {\n",
       "        vertical-align: top;\n",
       "    }\n",
       "\n",
       "    .dataframe thead th {\n",
       "        text-align: right;\n",
       "    }\n",
       "</style>\n",
       "<table border=\"1\" class=\"dataframe\">\n",
       "  <thead>\n",
       "    <tr style=\"text-align: right;\">\n",
       "      <th></th>\n",
       "      <th>url</th>\n",
       "      <th>type</th>\n",
       "      <th>url_type</th>\n",
       "      <th>url_len</th>\n",
       "      <th>pri_domain</th>\n",
       "      <th>letters_count</th>\n",
       "      <th>digits_count</th>\n",
       "      <th>special_chars_count</th>\n",
       "      <th>shortened</th>\n",
       "      <th>abnormal_url</th>\n",
       "      <th>secure_http</th>\n",
       "    </tr>\n",
       "  </thead>\n",
       "  <tbody>\n",
       "    <tr>\n",
       "      <th>0</th>\n",
       "      <td>br-icloud.com.br</td>\n",
       "      <td>phishing</td>\n",
       "      <td>2</td>\n",
       "      <td>16</td>\n",
       "      <td>br-icloud.com.br</td>\n",
       "      <td>13</td>\n",
       "      <td>0</td>\n",
       "      <td>3</td>\n",
       "      <td>0</td>\n",
       "      <td>0</td>\n",
       "      <td>0</td>\n",
       "    </tr>\n",
       "    <tr>\n",
       "      <th>1</th>\n",
       "      <td>mp3raid.com/music/krizz_kaliko.html</td>\n",
       "      <td>benign</td>\n",
       "      <td>0</td>\n",
       "      <td>35</td>\n",
       "      <td>mp3raid.com</td>\n",
       "      <td>29</td>\n",
       "      <td>1</td>\n",
       "      <td>5</td>\n",
       "      <td>0</td>\n",
       "      <td>0</td>\n",
       "      <td>0</td>\n",
       "    </tr>\n",
       "    <tr>\n",
       "      <th>2</th>\n",
       "      <td>bopsecrets.org/rexroth/cr/1.htm</td>\n",
       "      <td>benign</td>\n",
       "      <td>0</td>\n",
       "      <td>31</td>\n",
       "      <td>bopsecrets.org</td>\n",
       "      <td>25</td>\n",
       "      <td>1</td>\n",
       "      <td>5</td>\n",
       "      <td>0</td>\n",
       "      <td>0</td>\n",
       "      <td>0</td>\n",
       "    </tr>\n",
       "    <tr>\n",
       "      <th>3</th>\n",
       "      <td>http://www.garage-pirenne.be/index.php?option=...</td>\n",
       "      <td>defacement</td>\n",
       "      <td>1</td>\n",
       "      <td>77</td>\n",
       "      <td>www.garage-pirenne.be</td>\n",
       "      <td>63</td>\n",
       "      <td>7</td>\n",
       "      <td>18</td>\n",
       "      <td>0</td>\n",
       "      <td>1</td>\n",
       "      <td>0</td>\n",
       "    </tr>\n",
       "    <tr>\n",
       "      <th>4</th>\n",
       "      <td>http://adventure-nicaragua.net/index.php?optio...</td>\n",
       "      <td>defacement</td>\n",
       "      <td>1</td>\n",
       "      <td>228</td>\n",
       "      <td>adventure-nicaragua.net</td>\n",
       "      <td>199</td>\n",
       "      <td>22</td>\n",
       "      <td>14</td>\n",
       "      <td>0</td>\n",
       "      <td>1</td>\n",
       "      <td>0</td>\n",
       "    </tr>\n",
       "  </tbody>\n",
       "</table>\n",
       "</div>"
      ],
      "text/plain": [
       "                                                 url        type  url_type  \\\n",
       "0                                   br-icloud.com.br    phishing         2   \n",
       "1                mp3raid.com/music/krizz_kaliko.html      benign         0   \n",
       "2                    bopsecrets.org/rexroth/cr/1.htm      benign         0   \n",
       "3  http://www.garage-pirenne.be/index.php?option=...  defacement         1   \n",
       "4  http://adventure-nicaragua.net/index.php?optio...  defacement         1   \n",
       "\n",
       "   url_len               pri_domain  letters_count  digits_count  \\\n",
       "0       16         br-icloud.com.br             13             0   \n",
       "1       35              mp3raid.com             29             1   \n",
       "2       31           bopsecrets.org             25             1   \n",
       "3       77    www.garage-pirenne.be             63             7   \n",
       "4      228  adventure-nicaragua.net            199            22   \n",
       "\n",
       "   special_chars_count  shortened  abnormal_url  secure_http  \n",
       "0                    3          0             0            0  \n",
       "1                    5          0             0            0  \n",
       "2                    5          0             0            0  \n",
       "3                   18          0             1            0  \n",
       "4                   14          0             1            0  "
      ]
     },
     "execution_count": 39,
     "metadata": {},
     "output_type": "execute_result"
    }
   ],
   "source": [
    "urls_data.head()"
   ]
  },
  {
   "cell_type": "code",
   "execution_count": 40,
   "id": "4f72ddce",
   "metadata": {
    "execution": {
     "iopub.execute_input": "2023-12-17T22:23:43.726058Z",
     "iopub.status.busy": "2023-12-17T22:23:43.725771Z",
     "iopub.status.idle": "2023-12-17T22:23:43.730306Z",
     "shell.execute_reply": "2023-12-17T22:23:43.729662Z"
    },
    "papermill": {
     "duration": 0.022122,
     "end_time": "2023-12-17T22:23:43.731909",
     "exception": false,
     "start_time": "2023-12-17T22:23:43.709787",
     "status": "completed"
    },
    "tags": []
   },
   "outputs": [],
   "source": [
    "import ipaddress\n",
    "def have_ip_address(url):\n",
    "    try:\n",
    "        parsed_url = urlparse(url)\n",
    "        if parsed_url.hostname:\n",
    "            ip = ipaddress.ip_address(parsed_url.hostname)\n",
    "            return isinstance(ip, (ipaddress.IPv4Address, ipaddress.IPv6Address))\n",
    "    except ValueError:\n",
    "        pass  # Invalid hostname or IP address\n",
    "\n",
    "    return 0"
   ]
  },
  {
   "cell_type": "code",
   "execution_count": 41,
   "id": "7d35f2cc",
   "metadata": {
    "execution": {
     "iopub.execute_input": "2023-12-17T22:23:43.765886Z",
     "iopub.status.busy": "2023-12-17T22:23:43.765628Z",
     "iopub.status.idle": "2023-12-17T22:23:49.284411Z",
     "shell.execute_reply": "2023-12-17T22:23:49.283518Z"
    },
    "papermill": {
     "duration": 5.538056,
     "end_time": "2023-12-17T22:23:49.286821",
     "exception": false,
     "start_time": "2023-12-17T22:23:43.748765",
     "status": "completed"
    },
    "tags": []
   },
   "outputs": [],
   "source": [
    "urls_data['have_ip']  = urls_data['url'].apply(lambda x: have_ip_address(x))"
   ]
  },
  {
   "cell_type": "code",
   "execution_count": 42,
   "id": "6ec25005",
   "metadata": {
    "execution": {
     "iopub.execute_input": "2023-12-17T22:23:49.318590Z",
     "iopub.status.busy": "2023-12-17T22:23:49.317872Z",
     "iopub.status.idle": "2023-12-17T22:23:49.328941Z",
     "shell.execute_reply": "2023-12-17T22:23:49.328311Z"
    },
    "papermill": {
     "duration": 0.028859,
     "end_time": "2023-12-17T22:23:49.330657",
     "exception": false,
     "start_time": "2023-12-17T22:23:49.301798",
     "status": "completed"
    },
    "tags": []
   },
   "outputs": [
    {
     "data": {
      "text/html": [
       "<div>\n",
       "<style scoped>\n",
       "    .dataframe tbody tr th:only-of-type {\n",
       "        vertical-align: middle;\n",
       "    }\n",
       "\n",
       "    .dataframe tbody tr th {\n",
       "        vertical-align: top;\n",
       "    }\n",
       "\n",
       "    .dataframe thead th {\n",
       "        text-align: right;\n",
       "    }\n",
       "</style>\n",
       "<table border=\"1\" class=\"dataframe\">\n",
       "  <thead>\n",
       "    <tr style=\"text-align: right;\">\n",
       "      <th></th>\n",
       "      <th>url</th>\n",
       "      <th>type</th>\n",
       "      <th>url_type</th>\n",
       "      <th>url_len</th>\n",
       "      <th>pri_domain</th>\n",
       "      <th>letters_count</th>\n",
       "      <th>digits_count</th>\n",
       "      <th>special_chars_count</th>\n",
       "      <th>shortened</th>\n",
       "      <th>abnormal_url</th>\n",
       "      <th>secure_http</th>\n",
       "      <th>have_ip</th>\n",
       "    </tr>\n",
       "  </thead>\n",
       "  <tbody>\n",
       "    <tr>\n",
       "      <th>0</th>\n",
       "      <td>br-icloud.com.br</td>\n",
       "      <td>phishing</td>\n",
       "      <td>2</td>\n",
       "      <td>16</td>\n",
       "      <td>br-icloud.com.br</td>\n",
       "      <td>13</td>\n",
       "      <td>0</td>\n",
       "      <td>3</td>\n",
       "      <td>0</td>\n",
       "      <td>0</td>\n",
       "      <td>0</td>\n",
       "      <td>0</td>\n",
       "    </tr>\n",
       "    <tr>\n",
       "      <th>1</th>\n",
       "      <td>mp3raid.com/music/krizz_kaliko.html</td>\n",
       "      <td>benign</td>\n",
       "      <td>0</td>\n",
       "      <td>35</td>\n",
       "      <td>mp3raid.com</td>\n",
       "      <td>29</td>\n",
       "      <td>1</td>\n",
       "      <td>5</td>\n",
       "      <td>0</td>\n",
       "      <td>0</td>\n",
       "      <td>0</td>\n",
       "      <td>0</td>\n",
       "    </tr>\n",
       "    <tr>\n",
       "      <th>2</th>\n",
       "      <td>bopsecrets.org/rexroth/cr/1.htm</td>\n",
       "      <td>benign</td>\n",
       "      <td>0</td>\n",
       "      <td>31</td>\n",
       "      <td>bopsecrets.org</td>\n",
       "      <td>25</td>\n",
       "      <td>1</td>\n",
       "      <td>5</td>\n",
       "      <td>0</td>\n",
       "      <td>0</td>\n",
       "      <td>0</td>\n",
       "      <td>0</td>\n",
       "    </tr>\n",
       "    <tr>\n",
       "      <th>3</th>\n",
       "      <td>http://www.garage-pirenne.be/index.php?option=...</td>\n",
       "      <td>defacement</td>\n",
       "      <td>1</td>\n",
       "      <td>77</td>\n",
       "      <td>www.garage-pirenne.be</td>\n",
       "      <td>63</td>\n",
       "      <td>7</td>\n",
       "      <td>18</td>\n",
       "      <td>0</td>\n",
       "      <td>1</td>\n",
       "      <td>0</td>\n",
       "      <td>0</td>\n",
       "    </tr>\n",
       "    <tr>\n",
       "      <th>4</th>\n",
       "      <td>http://adventure-nicaragua.net/index.php?optio...</td>\n",
       "      <td>defacement</td>\n",
       "      <td>1</td>\n",
       "      <td>228</td>\n",
       "      <td>adventure-nicaragua.net</td>\n",
       "      <td>199</td>\n",
       "      <td>22</td>\n",
       "      <td>14</td>\n",
       "      <td>0</td>\n",
       "      <td>1</td>\n",
       "      <td>0</td>\n",
       "      <td>0</td>\n",
       "    </tr>\n",
       "  </tbody>\n",
       "</table>\n",
       "</div>"
      ],
      "text/plain": [
       "                                                 url        type  url_type  \\\n",
       "0                                   br-icloud.com.br    phishing         2   \n",
       "1                mp3raid.com/music/krizz_kaliko.html      benign         0   \n",
       "2                    bopsecrets.org/rexroth/cr/1.htm      benign         0   \n",
       "3  http://www.garage-pirenne.be/index.php?option=...  defacement         1   \n",
       "4  http://adventure-nicaragua.net/index.php?optio...  defacement         1   \n",
       "\n",
       "   url_len               pri_domain  letters_count  digits_count  \\\n",
       "0       16         br-icloud.com.br             13             0   \n",
       "1       35              mp3raid.com             29             1   \n",
       "2       31           bopsecrets.org             25             1   \n",
       "3       77    www.garage-pirenne.be             63             7   \n",
       "4      228  adventure-nicaragua.net            199            22   \n",
       "\n",
       "   special_chars_count  shortened  abnormal_url  secure_http have_ip  \n",
       "0                    3          0             0            0       0  \n",
       "1                    5          0             0            0       0  \n",
       "2                    5          0             0            0       0  \n",
       "3                   18          0             1            0       0  \n",
       "4                   14          0             1            0       0  "
      ]
     },
     "execution_count": 42,
     "metadata": {},
     "output_type": "execute_result"
    }
   ],
   "source": [
    "urls_data.head()"
   ]
  },
  {
   "cell_type": "code",
   "execution_count": 43,
   "id": "9fe5dee7",
   "metadata": {
    "execution": {
     "iopub.execute_input": "2023-12-17T22:23:49.361922Z",
     "iopub.status.busy": "2023-12-17T22:23:49.361637Z",
     "iopub.status.idle": "2023-12-17T22:23:49.491181Z",
     "shell.execute_reply": "2023-12-17T22:23:49.490484Z"
    },
    "papermill": {
     "duration": 0.147291,
     "end_time": "2023-12-17T22:23:49.492917",
     "exception": false,
     "start_time": "2023-12-17T22:23:49.345626",
     "status": "completed"
    },
    "tags": []
   },
   "outputs": [
    {
     "data": {
      "text/plain": [
       "url                        0\n",
       "type                       0\n",
       "url_type                   0\n",
       "url_len                    0\n",
       "pri_domain             12217\n",
       "letters_count              0\n",
       "digits_count               0\n",
       "special_chars_count        0\n",
       "shortened                  0\n",
       "abnormal_url               0\n",
       "secure_http                0\n",
       "have_ip                    0\n",
       "dtype: int64"
      ]
     },
     "execution_count": 43,
     "metadata": {},
     "output_type": "execute_result"
    }
   ],
   "source": [
    "urls_data.isnull().sum()"
   ]
  },
  {
   "cell_type": "code",
   "execution_count": 44,
   "id": "d4a23298",
   "metadata": {
    "execution": {
     "iopub.execute_input": "2023-12-17T22:23:49.524996Z",
     "iopub.status.busy": "2023-12-17T22:23:49.524697Z",
     "iopub.status.idle": "2023-12-17T22:23:49.655781Z",
     "shell.execute_reply": "2023-12-17T22:23:49.654977Z"
    },
    "papermill": {
     "duration": 0.149278,
     "end_time": "2023-12-17T22:23:49.657903",
     "exception": false,
     "start_time": "2023-12-17T22:23:49.508625",
     "status": "completed"
    },
    "tags": []
   },
   "outputs": [],
   "source": [
    "urls_data.fillna(0,inplace=True)"
   ]
  },
  {
   "cell_type": "code",
   "execution_count": 45,
   "id": "a1cfad67",
   "metadata": {
    "execution": {
     "iopub.execute_input": "2023-12-17T22:23:49.690196Z",
     "iopub.status.busy": "2023-12-17T22:23:49.689891Z",
     "iopub.status.idle": "2023-12-17T22:23:49.821145Z",
     "shell.execute_reply": "2023-12-17T22:23:49.820485Z"
    },
    "papermill": {
     "duration": 0.149518,
     "end_time": "2023-12-17T22:23:49.822853",
     "exception": false,
     "start_time": "2023-12-17T22:23:49.673335",
     "status": "completed"
    },
    "tags": []
   },
   "outputs": [
    {
     "data": {
      "text/plain": [
       "url                    0\n",
       "type                   0\n",
       "url_type               0\n",
       "url_len                0\n",
       "pri_domain             0\n",
       "letters_count          0\n",
       "digits_count           0\n",
       "special_chars_count    0\n",
       "shortened              0\n",
       "abnormal_url           0\n",
       "secure_http            0\n",
       "have_ip                0\n",
       "dtype: int64"
      ]
     },
     "execution_count": 45,
     "metadata": {},
     "output_type": "execute_result"
    }
   ],
   "source": [
    "urls_data.isnull().sum()"
   ]
  },
  {
   "cell_type": "code",
   "execution_count": 46,
   "id": "3aed188c",
   "metadata": {
    "execution": {
     "iopub.execute_input": "2023-12-17T22:23:49.855330Z",
     "iopub.status.busy": "2023-12-17T22:23:49.855040Z",
     "iopub.status.idle": "2023-12-17T22:24:19.950067Z",
     "shell.execute_reply": "2023-12-17T22:24:19.949345Z"
    },
    "papermill": {
     "duration": 30.137437,
     "end_time": "2023-12-17T22:24:19.976184",
     "exception": false,
     "start_time": "2023-12-17T22:23:49.838747",
     "status": "completed"
    },
    "tags": []
   },
   "outputs": [
    {
     "data": {
      "image/png": "[encoded data removed]",
      "text/plain": [
       "<Figure size 1000x600 with 1 Axes>"
      ]
     },
     "metadata": {},
     "output_type": "display_data"
    }
   ],
   "source": [
    "# Word Cloud\n",
    "wordcloud = WordCloud(width=800, height=400, background_color='white').generate(' '.join(urls_data['url']))\n",
    "plt.figure(figsize=(10, 6))\n",
    "plt.imshow(wordcloud, interpolation='bilinear')\n",
    "plt.axis('off')\n",
    "plt.title('Word Cloud of URLs')\n",
    "plt.show()"
   ]
  },
  {
   "cell_type": "code",
   "execution_count": 50,
   "id": "fa09569f",
   "metadata": {
    "execution": {
     "iopub.execute_input": "2023-12-17T22:24:20.751468Z",
     "iopub.status.busy": "2023-12-17T22:24:20.751142Z",
     "iopub.status.idle": "2023-12-17T22:24:28.397940Z",
     "shell.execute_reply": "2023-12-17T22:24:28.397162Z"
    },
    "papermill": {
     "duration": 7.697764,
     "end_time": "2023-12-17T22:24:28.403051",
     "exception": false,
     "start_time": "2023-12-17T22:24:20.705287",
     "status": "completed"
    },
    "tags": []
   },
   "outputs": [
    {
     "data": {
      "image/png": "[encoded data removed]",
      "text/plain": [
       "<Figure size 1000x600 with 1 Axes>"
      ]
     },
     "metadata": {},
     "output_type": "display_data"
    }
   ],
   "source": [
    "# Convert pri_domain values to strings and filter out None and int values\n",
    "filtered_domains = urls_data['pri_domain'].map(str).dropna()\n",
    "\n",
    "# Concatenate all pri_domain values into a single string\n",
    "text = ' '.join(filtered_domains)\n",
    "\n",
    "# Generate the WordCloud data\n",
    "wordcloud = WordCloud(background_color='black', colormap='viridis', width=800, height=400).generate(text)\n",
    "\n",
    "# Plot the WordCloud using matplotlib\n",
    "plt.figure(figsize=(10, 6))\n",
    "plt.imshow(wordcloud, interpolation='bilinear')\n",
    "plt.axis('off')\n",
    "plt.title('Word Cloud of Primary Domains', color='black')\n",
    "plt.show()"
   ]
  },
  {
   "cell_type": "code",
   "execution_count": 57,
   "id": "b33eb87e",
   "metadata": {
    "execution": {
     "iopub.execute_input": "2023-12-17T22:24:29.217620Z",
     "iopub.status.busy": "2023-12-17T22:24:29.217251Z",
     "iopub.status.idle": "2023-12-17T22:24:29.229160Z",
     "shell.execute_reply": "2023-12-17T22:24:29.228439Z"
    },
    "papermill": {
     "duration": 0.065842,
     "end_time": "2023-12-17T22:24:29.230892",
     "exception": false,
     "start_time": "2023-12-17T22:24:29.165050",
     "status": "completed"
    },
    "tags": []
   },
   "outputs": [
    {
     "data": {
      "text/html": [
       "<div>\n",
       "<style scoped>\n",
       "    .dataframe tbody tr th:only-of-type {\n",
       "        vertical-align: middle;\n",
       "    }\n",
       "\n",
       "    .dataframe tbody tr th {\n",
       "        vertical-align: top;\n",
       "    }\n",
       "\n",
       "    .dataframe thead th {\n",
       "        text-align: right;\n",
       "    }\n",
       "</style>\n",
       "<table border=\"1\" class=\"dataframe\">\n",
       "  <thead>\n",
       "    <tr style=\"text-align: right;\">\n",
       "      <th></th>\n",
       "      <th>url</th>\n",
       "      <th>type</th>\n",
       "      <th>url_type</th>\n",
       "      <th>url_len</th>\n",
       "      <th>pri_domain</th>\n",
       "      <th>letters_count</th>\n",
       "      <th>digits_count</th>\n",
       "      <th>special_chars_count</th>\n",
       "      <th>shortened</th>\n",
       "      <th>abnormal_url</th>\n",
       "      <th>secure_http</th>\n",
       "      <th>have_ip</th>\n",
       "    </tr>\n",
       "  </thead>\n",
       "  <tbody>\n",
       "    <tr>\n",
       "      <th>0</th>\n",
       "      <td>br-icloud.com.br</td>\n",
       "      <td>phishing</td>\n",
       "      <td>2</td>\n",
       "      <td>16</td>\n",
       "      <td>br-icloud.com.br</td>\n",
       "      <td>13</td>\n",
       "      <td>0</td>\n",
       "      <td>3</td>\n",
       "      <td>0</td>\n",
       "      <td>0</td>\n",
       "      <td>0</td>\n",
       "      <td>0</td>\n",
       "    </tr>\n",
       "    <tr>\n",
       "      <th>1</th>\n",
       "      <td>mp3raid.com/music/krizz_kaliko.html</td>\n",
       "      <td>benign</td>\n",
       "      <td>0</td>\n",
       "      <td>35</td>\n",
       "      <td>mp3raid.com</td>\n",
       "      <td>29</td>\n",
       "      <td>1</td>\n",
       "      <td>5</td>\n",
       "      <td>0</td>\n",
       "      <td>0</td>\n",
       "      <td>0</td>\n",
       "      <td>0</td>\n",
       "    </tr>\n",
       "    <tr>\n",
       "      <th>2</th>\n",
       "      <td>bopsecrets.org/rexroth/cr/1.htm</td>\n",
       "      <td>benign</td>\n",
       "      <td>0</td>\n",
       "      <td>31</td>\n",
       "      <td>bopsecrets.org</td>\n",
       "      <td>25</td>\n",
       "      <td>1</td>\n",
       "      <td>5</td>\n",
       "      <td>0</td>\n",
       "      <td>0</td>\n",
       "      <td>0</td>\n",
       "      <td>0</td>\n",
       "    </tr>\n",
       "    <tr>\n",
       "      <th>3</th>\n",
       "      <td>http://www.garage-pirenne.be/index.php?option=...</td>\n",
       "      <td>defacement</td>\n",
       "      <td>1</td>\n",
       "      <td>77</td>\n",
       "      <td>www.garage-pirenne.be</td>\n",
       "      <td>63</td>\n",
       "      <td>7</td>\n",
       "      <td>18</td>\n",
       "      <td>0</td>\n",
       "      <td>1</td>\n",
       "      <td>0</td>\n",
       "      <td>0</td>\n",
       "    </tr>\n",
       "    <tr>\n",
       "      <th>4</th>\n",
       "      <td>http://adventure-nicaragua.net/index.php?optio...</td>\n",
       "      <td>defacement</td>\n",
       "      <td>1</td>\n",
       "      <td>228</td>\n",
       "      <td>adventure-nicaragua.net</td>\n",
       "      <td>199</td>\n",
       "      <td>22</td>\n",
       "      <td>14</td>\n",
       "      <td>0</td>\n",
       "      <td>1</td>\n",
       "      <td>0</td>\n",
       "      <td>0</td>\n",
       "    </tr>\n",
       "  </tbody>\n",
       "</table>\n",
       "</div>"
      ],
      "text/plain": [
       "                                                 url        type  url_type  \\\n",
       "0                                   br-icloud.com.br    phishing         2   \n",
       "1                mp3raid.com/music/krizz_kaliko.html      benign         0   \n",
       "2                    bopsecrets.org/rexroth/cr/1.htm      benign         0   \n",
       "3  http://www.garage-pirenne.be/index.php?option=...  defacement         1   \n",
       "4  http://adventure-nicaragua.net/index.php?optio...  defacement         1   \n",
       "\n",
       "   url_len               pri_domain  letters_count  digits_count  \\\n",
       "0       16         br-icloud.com.br             13             0   \n",
       "1       35              mp3raid.com             29             1   \n",
       "2       31           bopsecrets.org             25             1   \n",
       "3       77    www.garage-pirenne.be             63             7   \n",
       "4      228  adventure-nicaragua.net            199            22   \n",
       "\n",
       "   special_chars_count  shortened  abnormal_url  secure_http have_ip  \n",
       "0                    3          0             0            0       0  \n",
       "1                    5          0             0            0       0  \n",
       "2                    5          0             0            0       0  \n",
       "3                   18          0             1            0       0  \n",
       "4                   14          0             1            0       0  "
      ]
     },
     "execution_count": 57,
     "metadata": {},
     "output_type": "execute_result"
    }
   ],
   "source": [
    "urls_data.head()"
   ]
  },
  {
   "cell_type": "code",
   "execution_count": 61,
   "id": "7e91a4dd",
   "metadata": {
    "execution": {
     "iopub.execute_input": "2023-12-17T22:24:29.334623Z",
     "iopub.status.busy": "2023-12-17T22:24:29.334296Z",
     "iopub.status.idle": "2023-12-17T22:24:29.355963Z",
     "shell.execute_reply": "2023-12-17T22:24:29.355286Z"
    },
    "papermill": {
     "duration": 0.076148,
     "end_time": "2023-12-17T22:24:29.357978",
     "exception": false,
     "start_time": "2023-12-17T22:24:29.281830",
     "status": "completed"
    },
    "tags": []
   },
   "outputs": [],
   "source": [
    "def get_url_region(primary_domain):\n",
    "    ccTLD_to_region = {\n",
    "    \".ac\": \"Ascension Island\",\n",
    "    \".ad\": \"Andorra\",\n",
    "    \".ae\": \"United Arab Emirates\",\n",
    "    \".af\": \"Afghanistan\",\n",
    "    \".ag\": \"Antigua and Barbuda\",\n",
    "    \".ai\": \"Anguilla\",\n",
    "    \".al\": \"Albania\",\n",
    "    \".am\": \"Armenia\",\n",
    "    \".an\": \"Netherlands Antilles\",\n",
    "    \".ao\": \"Angola\",\n",
    "    \".aq\": \"Antarctica\",\n",
    "    \".ar\": \"Argentina\",\n",
    "    \".as\": \"American Samoa\",\n",
    "    \".at\": \"Austria\",\n",
    "    \".au\": \"Australia\",\n",
    "    \".aw\": \"Aruba\",\n",
    "    \".ax\": \"Åland Islands\",\n",
    "    \".az\": \"Azerbaijan\",\n",
    "    \".ba\": \"Bosnia and Herzegovina\",\n",
    "    \".bb\": \"Barbados\",\n",
    "    \".bd\": \"Bangladesh\",\n",
    "    \".be\": \"Belgium\",\n",
    "    \".bf\": \"Burkina Faso\",\n",
    "    \".bg\": \"Bulgaria\",\n",
    "    \".bh\": \"Bahrain\",\n",
    "    \".bi\": \"Burundi\",\n",
    "    \".bj\": \"Benin\",\n",
    "    \".bm\": \"Bermuda\",\n",
    "    \".bn\": \"Brunei Darussalam\",\n",
    "    \".bo\": \"Bolivia\",\n",
    "    \".br\": \"Brazil\",\n",
    "    \".bs\": \"Bahamas\",\n",
    "    \".bt\": \"Bhutan\",\n",
    "    \".bv\": \"Bouvet Island\",\n",
    "    \".bw\": \"Botswana\",\n",
    "    \".by\": \"Belarus\",\n",
    "    \".bz\": \"Belize\",\n",
    "    \".ca\": \"Canada\",\n",
    "    \".cc\": \"Cocos Islands\",\n",
    "    \".cd\": \"Democratic Republic of the Congo\",\n",
    "    \".cf\": \"Central African Republic\",\n",
    "    \".cg\": \"Republic of the Congo\",\n",
    "    \".ch\": \"Switzerland\",\n",
    "    \".ci\": \"Côte d'Ivoire\",\n",
    "    \".ck\": \"Cook Islands\",\n",
    "    \".cl\": \"Chile\",\n",
    "    \".cm\": \"Cameroon\",\n",
    "    \".cn\": \"China\",\n",
    "    \".co\": \"Colombia\",\n",
    "    \".cr\": \"Costa Rica\",\n",
    "    \".cu\": \"Cuba\",\n",
    "    \".cv\": \"Cape Verde\",\n",
    "    \".cw\": \"Curaçao\",\n",
    "    \".cx\": \"Christmas Island\",\n",
    "    \".cy\": \"Cyprus\",\n",
    "    \".cz\": \"Czech Republic\",\n",
    "    \".de\": \"Germany\",\n",
    "    \".dj\": \"Djibouti\",\n",
    "    \".dk\": \"Denmark\",\n",
    "    \".dm\": \"Dominica\",\n",
    "    \".do\": \"Dominican Republic\",\n",
    "    \".dz\": \"Algeria\",\n",
    "    \".ec\": \"Ecuador\",\n",
    "    \".ee\": \"Estonia\",\n",
    "    \".eg\": \"Egypt\",\n",
    "    \".er\": \"Eritrea\",\n",
    "    \".es\": \"Spain\",\n",
    "    \".et\": \"Ethiopia\",\n",
    "    \".eu\": \"European Union\",\n",
    "    \".fi\": \"Finland\",\n",
    "    \".fj\": \"Fiji\",\n",
    "    \".fk\": \"Falkland Islands\",\n",
    "    \".fm\": \"Federated States of Micronesia\",\n",
    "    \".fo\": \"Faroe Islands\",\n",
    "    \".fr\": \"France\",\n",
    "    \".ga\": \"Gabon\",\n",
    "    \".gb\": \"United Kingdom\",\n",
    "    \".gd\": \"Grenada\",\n",
    "    \".ge\": \"Georgia\",\n",
    "    \".gf\": \"French Guiana\",\n",
    "    \".gg\": \"Guernsey\",\n",
    "    \".gh\": \"Ghana\",\n",
    "    \".gi\": \"Gibraltar\",\n",
    "    \".gl\": \"Greenland\",\n",
    "    \".gm\": \"Gambia\",\n",
    "    \".gn\": \"Guinea\",\n",
    "    \".gp\": \"Guadeloupe\",\n",
    "    \".gq\": \"Equatorial Guinea\",\n",
    "    \".gr\": \"Greece\",\n",
    "    \".gs\": \"South Georgia and the South Sandwich Islands\",\n",
    "    \".gt\": \"Guatemala\",\n",
    "    \".gu\": \"Guam\",\n",
    "    \".gw\": \"Guinea-Bissau\",\n",
    "    \".gy\": \"Guyana\",\n",
    "    \".hk\": \"Hong Kong\",\n",
    "    \".hm\": \"Heard Island and McDonald Islands\",\n",
    "    \".hn\": \"Honduras\",\n",
    "    \".hr\": \"Croatia\",\n",
    "    \".ht\": \"Haiti\",\n",
    "    \".hu\": \"Hungary\",\n",
    "    \".id\": \"Indonesia\",\n",
    "    \".ie\": \"Ireland\",\n",
    "    \".il\": \"Israel\",\n",
    "    \".im\": \"Isle of Man\",\n",
    "    \".in\": \"India\",\n",
    "    \".io\": \"British Indian Ocean Territory\",\n",
    "    \".iq\": \"Iraq\",\n",
    "    \".ir\": \"Iran\",\n",
    "    \".is\": \"Iceland\",\n",
    "    \".it\": \"Italy\",\n",
    "    \".je\": \"Jersey\",\n",
    "    \".jm\": \"Jamaica\",\n",
    "    \".jo\": \"Jordan\",\n",
    "    \".jp\": \"Japan\",\n",
    "    \".ke\": \"Kenya\",\n",
    "    \".kg\": \"Kyrgyzstan\",\n",
    "    \".kh\": \"Cambodia\",\n",
    "    \".ki\": \"Kiribati\",\n",
    "    \".km\": \"Comoros\",\n",
    "    \".kn\": \"Saint Kitts and Nevis\",\n",
    "    \".kp\": \"Democratic People's Republic of Korea (North Korea)\",\n",
    "    \".kr\": \"Republic of Korea (South Korea)\",\n",
    "    \".kw\": \"Kuwait\",\n",
    "    \".ky\": \"Cayman Islands\",\n",
    "    \".kz\": \"Kazakhstan\",\n",
    "    \".la\": \"Laos\",\n",
    "    \".lb\": \"Lebanon\",\n",
    "    \".lc\": \"Saint Lucia\",\n",
    "    \".li\": \"Liechtenstein\",\n",
    "    \".lk\": \"Sri Lanka\",\n",
    "    \".lr\": \"Liberia\",\n",
    "    \".ls\": \"Lesotho\",\n",
    "    \".lt\": \"Lithuania\",\n",
    "    \".lu\": \"Luxembourg\",\n",
    "    \".lv\": \"Latvia\",\n",
    "    \".ly\": \"Libya\",\n",
    "    \".ma\": \"Morocco\",\n",
    "    \".mc\": \"Monaco\",\n",
    "    \".md\": \"Moldova\",\n",
    "    \".me\": \"Montenegro\",\n",
    "    \".mf\": \"Saint Martin (French part)\",\n",
    "    \".mg\": \"Madagascar\",\n",
    "    \".mh\": \"Marshall Islands\",\n",
    "    \".mk\": \"North Macedonia\",\n",
    "    \".ml\": \"Mali\",\n",
    "    \".mm\": \"Myanmar\",\n",
    "    \".mn\": \"Mongolia\",\n",
    "    \".mo\": \"Macao\",\n",
    "    \".mp\": \"Northern Mariana Islands\",\n",
    "    \".mq\": \"Martinique\",\n",
    "    \".mr\": \"Mauritania\",\n",
    "    \".ms\": \"Montserrat\",\n",
    "    \".mt\": \"Malta\",\n",
    "    \".mu\": \"Mauritius\",\n",
    "    \".mv\": \"Maldives\",\n",
    "    \".mw\": \"Malawi\",\n",
    "    \".mx\": \"Mexico\",\n",
    "    \".my\": \"Malaysia\",\n",
    "    \".mz\": \"Mozambique\",\n",
    "    \".na\": \"Namibia\",\n",
    "    \".nc\": \"New Caledonia\",\n",
    "    \".ne\": \"Niger\",\n",
    "    \".nf\": \"Norfolk Island\",\n",
    "    \".ng\": \"Nigeria\",\n",
    "    \".ni\": \"Nicaragua\",\n",
    "    \".nl\": \"Netherlands\",\n",
    "    \".no\": \"Norway\",\n",
    "    \".np\": \"Nepal\",\n",
    "    \".nr\": \"Nauru\",\n",
    "    \".nu\": \"Niue\",\n",
    "    \".nz\": \"New Zealand\",\n",
    "    \".om\": \"Oman\",\n",
    "    \".pa\": \"Panama\",\n",
    "    \".pe\": \"Peru\",\n",
    "    \".pf\": \"French Polynesia\",\n",
    "    \".pg\": \"Papua New Guinea\",\n",
    "    \".ph\": \"Philippines\",\n",
    "    \".pk\": \"Pakistan\",\n",
    "    \".pl\": \"Poland\",\n",
    "    \".pm\": \"Saint Pierre and Miquelon\",\n",
    "    \".pn\": \"Pitcairn\",\n",
    "    \".pr\": \"Puerto Rico\",\n",
    "    \".ps\": \"Palestinian Territory\",\n",
    "    \".pt\": \"Portugal\",\n",
    "    \".pw\": \"Palau\",\n",
    "    \".py\": \"Paraguay\",\n",
    "    \".qa\": \"Qatar\",\n",
    "    \".re\": \"Réunion\",\n",
    "    \".ro\": \"Romania\",\n",
    "    \".rs\": \"Serbia\",\n",
    "    \".ru\": \"Russia\",\n",
    "    \".rw\": \"Rwanda\",\n",
    "    \".sa\": \"Saudi Arabia\",\n",
    "    \".sb\": \"Solomon Islands\",\n",
    "    \".sc\": \"Seychelles\",\n",
    "    \".sd\": \"Sudan\",\n",
    "    \".se\": \"Sweden\",\n",
    "    \".sg\": \"Singapore\",\n",
    "    \".sh\": \"Saint Helena\",\n",
    "    \".si\": \"Slovenia\",\n",
    "    \".sj\": \"Svalbard and Jan Mayen\",\n",
    "    \".sk\": \"Slovakia\",\n",
    "    \".sl\": \"Sierra Leone\",\n",
    "    \".sm\": \"San Marino\",\n",
    "    \".sn\": \"Senegal\",\n",
    "    \".so\": \"Somalia\",\n",
    "    \".sr\": \"Suriname\",\n",
    "    \".ss\": \"South Sudan\",\n",
    "    \".st\": \"São Tomé and Príncipe\",\n",
    "    \".sv\": \"El Salvador\",\n",
    "    \".sx\": \"Sint Maarten (Dutch part)\",\n",
    "    \".sy\": \"Syria\",\n",
    "    \".sz\": \"Eswatini\",\n",
    "    \".tc\": \"Turks and Caicos Islands\",\n",
    "    \".td\": \"Chad\",\n",
    "    \".tf\": \"French Southern Territories\",\n",
    "    \".tg\": \"Togo\",\n",
    "    \".th\": \"Thailand\",\n",
    "    \".tj\": \"Tajikistan\",\n",
    "    \".tk\": \"Tokelau\",\n",
    "    \".tl\": \"Timor-Leste\",\n",
    "    \".tm\": \"Turkmenistan\",\n",
    "    \".tn\": \"Tunisia\",\n",
    "    \".to\": \"Tonga\",\n",
    "    \".tr\": \"Turkey\",\n",
    "    \".tt\": \"Trinidad and Tobago\",\n",
    "    \".tv\": \"Tuvalu\",\n",
    "    \".tw\": \"Taiwan\",\n",
    "    \".tz\": \"Tanzania\",\n",
    "    \".ua\": \"Ukraine\",\n",
    "    \".ug\": \"Uganda\",\n",
    "    \".uk\": \"United Kingdom\",\n",
    "    \".us\": \"United States\",\n",
    "    \".uy\": \"Uruguay\",\n",
    "    \".uz\": \"Uzbekistan\",\n",
    "    \".va\": \"Vatican City\",\n",
    "    \".vc\": \"Saint Vincent and the Grenadines\",\n",
    "    \".ve\": \"Venezuela\",\n",
    "    \".vg\": \"British Virgin Islands\",\n",
    "    \".vi\": \"U.S. Virgin Islands\",\n",
    "    \".vn\": \"Vietnam\",\n",
    "    \".vu\": \"Vanuatu\",\n",
    "    \".wf\": \"Wallis and Futuna\",\n",
    "    \".ws\": \"Samoa\",\n",
    "    \".ye\": \"Yemen\",\n",
    "    \".yt\": \"Mayotte\",\n",
    "    \".za\": \"South Africa\",\n",
    "    \".zm\": \"Zambia\",\n",
    "    \".zw\": \"Zimbabwe\"\n",
    "    }\n",
    "    \n",
    "    for ccTLD in ccTLD_to_region:\n",
    "        if primary_domain.endswith(ccTLD):\n",
    "            return ccTLD_to_region[ccTLD]\n",
    "    \n",
    "    return \"Global\""
   ]
  },
  {
   "cell_type": "code",
   "execution_count": 63,
   "id": "fa0bd2d9",
   "metadata": {
    "execution": {
     "iopub.execute_input": "2023-12-17T22:24:29.461066Z",
     "iopub.status.busy": "2023-12-17T22:24:29.460706Z",
     "iopub.status.idle": "2023-12-17T22:24:51.737872Z",
     "shell.execute_reply": "2023-12-17T22:24:51.736962Z"
    },
    "papermill": {
     "duration": 22.331298,
     "end_time": "2023-12-17T22:24:51.740572",
     "exception": false,
     "start_time": "2023-12-17T22:24:29.409274",
     "status": "completed"
    },
    "tags": []
   },
   "outputs": [],
   "source": [
    "urls_data['url_region'] = urls_data['pri_domain'].apply(lambda x: get_url_region(str(x)))"
   ]
  },
  {
   "cell_type": "code",
   "execution_count": 64,
   "id": "04bbf9cc",
   "metadata": {
    "execution": {
     "iopub.execute_input": "2023-12-17T22:24:51.848655Z",
     "iopub.status.busy": "2023-12-17T22:24:51.848261Z",
     "iopub.status.idle": "2023-12-17T22:24:51.861472Z",
     "shell.execute_reply": "2023-12-17T22:24:51.860762Z"
    },
    "papermill": {
     "duration": 0.0685,
     "end_time": "2023-12-17T22:24:51.863203",
     "exception": false,
     "start_time": "2023-12-17T22:24:51.794703",
     "status": "completed"
    },
    "tags": []
   },
   "outputs": [
    {
     "data": {
      "text/html": [
       "<div>\n",
       "<style scoped>\n",
       "    .dataframe tbody tr th:only-of-type {\n",
       "        vertical-align: middle;\n",
       "    }\n",
       "\n",
       "    .dataframe tbody tr th {\n",
       "        vertical-align: top;\n",
       "    }\n",
       "\n",
       "    .dataframe thead th {\n",
       "        text-align: right;\n",
       "    }\n",
       "</style>\n",
       "<table border=\"1\" class=\"dataframe\">\n",
       "  <thead>\n",
       "    <tr style=\"text-align: right;\">\n",
       "      <th></th>\n",
       "      <th>url</th>\n",
       "      <th>type</th>\n",
       "      <th>url_type</th>\n",
       "      <th>url_len</th>\n",
       "      <th>pri_domain</th>\n",
       "      <th>letters_count</th>\n",
       "      <th>digits_count</th>\n",
       "      <th>special_chars_count</th>\n",
       "      <th>shortened</th>\n",
       "      <th>abnormal_url</th>\n",
       "      <th>secure_http</th>\n",
       "      <th>have_ip</th>\n",
       "      <th>url_region</th>\n",
       "    </tr>\n",
       "  </thead>\n",
       "  <tbody>\n",
       "    <tr>\n",
       "      <th>0</th>\n",
       "      <td>br-icloud.com.br</td>\n",
       "      <td>phishing</td>\n",
       "      <td>2</td>\n",
       "      <td>16</td>\n",
       "      <td>br-icloud.com.br</td>\n",
       "      <td>13</td>\n",
       "      <td>0</td>\n",
       "      <td>3</td>\n",
       "      <td>0</td>\n",
       "      <td>0</td>\n",
       "      <td>0</td>\n",
       "      <td>0</td>\n",
       "      <td>Brazil</td>\n",
       "    </tr>\n",
       "    <tr>\n",
       "      <th>1</th>\n",
       "      <td>mp3raid.com/music/krizz_kaliko.html</td>\n",
       "      <td>benign</td>\n",
       "      <td>0</td>\n",
       "      <td>35</td>\n",
       "      <td>mp3raid.com</td>\n",
       "      <td>29</td>\n",
       "      <td>1</td>\n",
       "      <td>5</td>\n",
       "      <td>0</td>\n",
       "      <td>0</td>\n",
       "      <td>0</td>\n",
       "      <td>0</td>\n",
       "      <td>Global</td>\n",
       "    </tr>\n",
       "    <tr>\n",
       "      <th>2</th>\n",
       "      <td>bopsecrets.org/rexroth/cr/1.htm</td>\n",
       "      <td>benign</td>\n",
       "      <td>0</td>\n",
       "      <td>31</td>\n",
       "      <td>bopsecrets.org</td>\n",
       "      <td>25</td>\n",
       "      <td>1</td>\n",
       "      <td>5</td>\n",
       "      <td>0</td>\n",
       "      <td>0</td>\n",
       "      <td>0</td>\n",
       "      <td>0</td>\n",
       "      <td>Global</td>\n",
       "    </tr>\n",
       "    <tr>\n",
       "      <th>3</th>\n",
       "      <td>http://www.garage-pirenne.be/index.php?option=...</td>\n",
       "      <td>defacement</td>\n",
       "      <td>1</td>\n",
       "      <td>77</td>\n",
       "      <td>www.garage-pirenne.be</td>\n",
       "      <td>63</td>\n",
       "      <td>7</td>\n",
       "      <td>18</td>\n",
       "      <td>0</td>\n",
       "      <td>1</td>\n",
       "      <td>0</td>\n",
       "      <td>0</td>\n",
       "      <td>Belgium</td>\n",
       "    </tr>\n",
       "    <tr>\n",
       "      <th>4</th>\n",
       "      <td>http://adventure-nicaragua.net/index.php?optio...</td>\n",
       "      <td>defacement</td>\n",
       "      <td>1</td>\n",
       "      <td>228</td>\n",
       "      <td>adventure-nicaragua.net</td>\n",
       "      <td>199</td>\n",
       "      <td>22</td>\n",
       "      <td>14</td>\n",
       "      <td>0</td>\n",
       "      <td>1</td>\n",
       "      <td>0</td>\n",
       "      <td>0</td>\n",
       "      <td>Global</td>\n",
       "    </tr>\n",
       "  </tbody>\n",
       "</table>\n",
       "</div>"
      ],
      "text/plain": [
       "                                                 url        type  url_type  \\\n",
       "0                                   br-icloud.com.br    phishing         2   \n",
       "1                mp3raid.com/music/krizz_kaliko.html      benign         0   \n",
       "2                    bopsecrets.org/rexroth/cr/1.htm      benign         0   \n",
       "3  http://www.garage-pirenne.be/index.php?option=...  defacement         1   \n",
       "4  http://adventure-nicaragua.net/index.php?optio...  defacement         1   \n",
       "\n",
       "   url_len               pri_domain  letters_count  digits_count  \\\n",
       "0       16         br-icloud.com.br             13             0   \n",
       "1       35              mp3raid.com             29             1   \n",
       "2       31           bopsecrets.org             25             1   \n",
       "3       77    www.garage-pirenne.be             63             7   \n",
       "4      228  adventure-nicaragua.net            199            22   \n",
       "\n",
       "   special_chars_count  shortened  abnormal_url  secure_http have_ip  \\\n",
       "0                    3          0             0            0       0   \n",
       "1                    5          0             0            0       0   \n",
       "2                    5          0             0            0       0   \n",
       "3                   18          0             1            0       0   \n",
       "4                   14          0             1            0       0   \n",
       "\n",
       "  url_region  \n",
       "0     Brazil  \n",
       "1     Global  \n",
       "2     Global  \n",
       "3    Belgium  \n",
       "4     Global  "
      ]
     },
     "execution_count": 64,
     "metadata": {},
     "output_type": "execute_result"
    }
   ],
   "source": [
    "urls_data.head()"
   ]
  },
  {
   "cell_type": "code",
   "execution_count": 66,
   "id": "c4488129",
   "metadata": {
    "execution": {
     "iopub.execute_input": "2023-12-17T22:24:52.143550Z",
     "iopub.status.busy": "2023-12-17T22:24:52.143182Z",
     "iopub.status.idle": "2023-12-17T22:24:52.147564Z",
     "shell.execute_reply": "2023-12-17T22:24:52.146824Z"
    },
    "papermill": {
     "duration": 0.062583,
     "end_time": "2023-12-17T22:24:52.149375",
     "exception": false,
     "start_time": "2023-12-17T22:24:52.086792",
     "status": "completed"
    },
    "tags": []
   },
   "outputs": [],
   "source": [
    "def extract_root_domain(url):\n",
    "    extracted = tldextract.extract(url)\n",
    "    root_domain = extracted.domain\n",
    "    return root_domain"
   ]
  },
  {
   "cell_type": "code",
   "execution_count": 67,
   "id": "79714587",
   "metadata": {
    "execution": {
     "iopub.execute_input": "2023-12-17T22:24:52.272401Z",
     "iopub.status.busy": "2023-12-17T22:24:52.272020Z",
     "iopub.status.idle": "2023-12-17T22:24:56.330296Z",
     "shell.execute_reply": "2023-12-17T22:24:56.329299Z"
    },
    "papermill": {
     "duration": 4.119861,
     "end_time": "2023-12-17T22:24:56.332897",
     "exception": false,
     "start_time": "2023-12-17T22:24:52.213036",
     "status": "completed"
    },
    "tags": []
   },
   "outputs": [],
   "source": [
    "urls_data['root_domain'] = urls_data['pri_domain'].apply(lambda x: extract_root_domain(str(x)))"
   ]
  },
  {
   "cell_type": "code",
   "execution_count": 68,
   "id": "f5f5e4a4",
   "metadata": {
    "execution": {
     "iopub.execute_input": "2023-12-17T22:24:56.440974Z",
     "iopub.status.busy": "2023-12-17T22:24:56.440215Z",
     "iopub.status.idle": "2023-12-17T22:24:56.454493Z",
     "shell.execute_reply": "2023-12-17T22:24:56.453758Z"
    },
    "papermill": {
     "duration": 0.069685,
     "end_time": "2023-12-17T22:24:56.456481",
     "exception": false,
     "start_time": "2023-12-17T22:24:56.386796",
     "status": "completed"
    },
    "tags": []
   },
   "outputs": [
    {
     "data": {
      "text/html": [
       "<div>\n",
       "<style scoped>\n",
       "    .dataframe tbody tr th:only-of-type {\n",
       "        vertical-align: middle;\n",
       "    }\n",
       "\n",
       "    .dataframe tbody tr th {\n",
       "        vertical-align: top;\n",
       "    }\n",
       "\n",
       "    .dataframe thead th {\n",
       "        text-align: right;\n",
       "    }\n",
       "</style>\n",
       "<table border=\"1\" class=\"dataframe\">\n",
       "  <thead>\n",
       "    <tr style=\"text-align: right;\">\n",
       "      <th></th>\n",
       "      <th>url</th>\n",
       "      <th>type</th>\n",
       "      <th>url_type</th>\n",
       "      <th>url_len</th>\n",
       "      <th>pri_domain</th>\n",
       "      <th>letters_count</th>\n",
       "      <th>digits_count</th>\n",
       "      <th>special_chars_count</th>\n",
       "      <th>shortened</th>\n",
       "      <th>abnormal_url</th>\n",
       "      <th>secure_http</th>\n",
       "      <th>have_ip</th>\n",
       "      <th>url_region</th>\n",
       "      <th>root_domain</th>\n",
       "    </tr>\n",
       "  </thead>\n",
       "  <tbody>\n",
       "    <tr>\n",
       "      <th>0</th>\n",
       "      <td>br-icloud.com.br</td>\n",
       "      <td>phishing</td>\n",
       "      <td>2</td>\n",
       "      <td>16</td>\n",
       "      <td>br-icloud.com.br</td>\n",
       "      <td>13</td>\n",
       "      <td>0</td>\n",
       "      <td>3</td>\n",
       "      <td>0</td>\n",
       "      <td>0</td>\n",
       "      <td>0</td>\n",
       "      <td>0</td>\n",
       "      <td>Brazil</td>\n",
       "      <td>br-icloud</td>\n",
       "    </tr>\n",
       "    <tr>\n",
       "      <th>1</th>\n",
       "      <td>mp3raid.com/music/krizz_kaliko.html</td>\n",
       "      <td>benign</td>\n",
       "      <td>0</td>\n",
       "      <td>35</td>\n",
       "      <td>mp3raid.com</td>\n",
       "      <td>29</td>\n",
       "      <td>1</td>\n",
       "      <td>5</td>\n",
       "      <td>0</td>\n",
       "      <td>0</td>\n",
       "      <td>0</td>\n",
       "      <td>0</td>\n",
       "      <td>Global</td>\n",
       "      <td>mp3raid</td>\n",
       "    </tr>\n",
       "    <tr>\n",
       "      <th>2</th>\n",
       "      <td>bopsecrets.org/rexroth/cr/1.htm</td>\n",
       "      <td>benign</td>\n",
       "      <td>0</td>\n",
       "      <td>31</td>\n",
       "      <td>bopsecrets.org</td>\n",
       "      <td>25</td>\n",
       "      <td>1</td>\n",
       "      <td>5</td>\n",
       "      <td>0</td>\n",
       "      <td>0</td>\n",
       "      <td>0</td>\n",
       "      <td>0</td>\n",
       "      <td>Global</td>\n",
       "      <td>bopsecrets</td>\n",
       "    </tr>\n",
       "    <tr>\n",
       "      <th>3</th>\n",
       "      <td>http://www.garage-pirenne.be/index.php?option=...</td>\n",
       "      <td>defacement</td>\n",
       "      <td>1</td>\n",
       "      <td>77</td>\n",
       "      <td>www.garage-pirenne.be</td>\n",
       "      <td>63</td>\n",
       "      <td>7</td>\n",
       "      <td>18</td>\n",
       "      <td>0</td>\n",
       "      <td>1</td>\n",
       "      <td>0</td>\n",
       "      <td>0</td>\n",
       "      <td>Belgium</td>\n",
       "      <td>garage-pirenne</td>\n",
       "    </tr>\n",
       "    <tr>\n",
       "      <th>4</th>\n",
       "      <td>http://adventure-nicaragua.net/index.php?optio...</td>\n",
       "      <td>defacement</td>\n",
       "      <td>1</td>\n",
       "      <td>228</td>\n",
       "      <td>adventure-nicaragua.net</td>\n",
       "      <td>199</td>\n",
       "      <td>22</td>\n",
       "      <td>14</td>\n",
       "      <td>0</td>\n",
       "      <td>1</td>\n",
       "      <td>0</td>\n",
       "      <td>0</td>\n",
       "      <td>Global</td>\n",
       "      <td>adventure-nicaragua</td>\n",
       "    </tr>\n",
       "  </tbody>\n",
       "</table>\n",
       "</div>"
      ],
      "text/plain": [
       "                                                 url        type  url_type  \\\n",
       "0                                   br-icloud.com.br    phishing         2   \n",
       "1                mp3raid.com/music/krizz_kaliko.html      benign         0   \n",
       "2                    bopsecrets.org/rexroth/cr/1.htm      benign         0   \n",
       "3  http://www.garage-pirenne.be/index.php?option=...  defacement         1   \n",
       "4  http://adventure-nicaragua.net/index.php?optio...  defacement         1   \n",
       "\n",
       "   url_len               pri_domain  letters_count  digits_count  \\\n",
       "0       16         br-icloud.com.br             13             0   \n",
       "1       35              mp3raid.com             29             1   \n",
       "2       31           bopsecrets.org             25             1   \n",
       "3       77    www.garage-pirenne.be             63             7   \n",
       "4      228  adventure-nicaragua.net            199            22   \n",
       "\n",
       "   special_chars_count  shortened  abnormal_url  secure_http have_ip  \\\n",
       "0                    3          0             0            0       0   \n",
       "1                    5          0             0            0       0   \n",
       "2                    5          0             0            0       0   \n",
       "3                   18          0             1            0       0   \n",
       "4                   14          0             1            0       0   \n",
       "\n",
       "  url_region          root_domain  \n",
       "0     Brazil            br-icloud  \n",
       "1     Global              mp3raid  \n",
       "2     Global           bopsecrets  \n",
       "3    Belgium       garage-pirenne  \n",
       "4     Global  adventure-nicaragua  "
      ]
     },
     "execution_count": 68,
     "metadata": {},
     "output_type": "execute_result"
    }
   ],
   "source": [
    "urls_data.head()"
   ]
  },
  {
   "cell_type": "code",
   "execution_count": 69,
   "id": "f5e25d8b",
   "metadata": {
    "execution": {
     "iopub.execute_input": "2023-12-17T22:24:56.569463Z",
     "iopub.status.busy": "2023-12-17T22:24:56.569095Z",
     "iopub.status.idle": "2023-12-17T22:24:56.752496Z",
     "shell.execute_reply": "2023-12-17T22:24:56.751798Z"
    },
    "papermill": {
     "duration": 0.241584,
     "end_time": "2023-12-17T22:24:56.754341",
     "exception": false,
     "start_time": "2023-12-17T22:24:56.512757",
     "status": "completed"
    },
    "tags": []
   },
   "outputs": [
    {
     "data": {
      "text/plain": [
       "url                    0\n",
       "type                   0\n",
       "url_type               0\n",
       "url_len                0\n",
       "pri_domain             0\n",
       "letters_count          0\n",
       "digits_count           0\n",
       "special_chars_count    0\n",
       "shortened              0\n",
       "abnormal_url           0\n",
       "secure_http            0\n",
       "have_ip                0\n",
       "url_region             0\n",
       "root_domain            0\n",
       "dtype: int64"
      ]
     },
     "execution_count": 69,
     "metadata": {},
     "output_type": "execute_result"
    }
   ],
   "source": [
    "urls_data.isnull().sum()"
   ]
  },
  {
   "cell_type": "code",
   "execution_count": 70,
   "id": "4b21e54f",
   "metadata": {
    "execution": {
     "iopub.execute_input": "2023-12-17T22:24:56.864393Z",
     "iopub.status.busy": "2023-12-17T22:24:56.863659Z",
     "iopub.status.idle": "2023-12-17T22:24:56.868788Z",
     "shell.execute_reply": "2023-12-17T22:24:56.868036Z"
    },
    "papermill": {
     "duration": 0.061999,
     "end_time": "2023-12-17T22:24:56.870576",
     "exception": false,
     "start_time": "2023-12-17T22:24:56.808577",
     "status": "completed"
    },
    "tags": []
   },
   "outputs": [
    {
     "data": {
      "text/plain": [
       "(651191, 14)"
      ]
     },
     "execution_count": 70,
     "metadata": {},
     "output_type": "execute_result"
    }
   ],
   "source": [
    "urls_data.shape"
   ]
  },
  {
   "cell_type": "code",
   "execution_count": 71,
   "id": "b6ea89a9",
   "metadata": {
    "execution": {
     "iopub.execute_input": "2023-12-17T22:24:56.978685Z",
     "iopub.status.busy": "2023-12-17T22:24:56.977834Z",
     "iopub.status.idle": "2023-12-17T22:24:57.712727Z",
     "shell.execute_reply": "2023-12-17T22:24:57.712010Z"
    },
    "papermill": {
     "duration": 0.791025,
     "end_time": "2023-12-17T22:24:57.714658",
     "exception": false,
     "start_time": "2023-12-17T22:24:56.923633",
     "status": "completed"
    },
    "tags": []
   },
   "outputs": [
    {
     "data": {
      "text/plain": [
       "10066"
      ]
     },
     "execution_count": 71,
     "metadata": {},
     "output_type": "execute_result"
    }
   ],
   "source": [
    "urls_data.duplicated().sum()"
   ]
  },
  {
   "cell_type": "code",
   "execution_count": 72,
   "id": "167799fe",
   "metadata": {
    "execution": {
     "iopub.execute_input": "2023-12-17T22:24:57.824637Z",
     "iopub.status.busy": "2023-12-17T22:24:57.823742Z",
     "iopub.status.idle": "2023-12-17T22:24:58.664687Z",
     "shell.execute_reply": "2023-12-17T22:24:58.663889Z"
    },
    "papermill": {
     "duration": 0.897888,
     "end_time": "2023-12-17T22:24:58.667038",
     "exception": false,
     "start_time": "2023-12-17T22:24:57.769150",
     "status": "completed"
    },
    "tags": []
   },
   "outputs": [],
   "source": [
    "urls_data.drop_duplicates(inplace=True)"
   ]
  },
  {
   "cell_type": "code",
   "execution_count": 73,
   "id": "5aeac030",
   "metadata": {
    "execution": {
     "iopub.execute_input": "2023-12-17T22:24:58.778243Z",
     "iopub.status.busy": "2023-12-17T22:24:58.777731Z",
     "iopub.status.idle": "2023-12-17T22:24:58.783642Z",
     "shell.execute_reply": "2023-12-17T22:24:58.782977Z"
    },
    "papermill": {
     "duration": 0.06181,
     "end_time": "2023-12-17T22:24:58.785414",
     "exception": false,
     "start_time": "2023-12-17T22:24:58.723604",
     "status": "completed"
    },
    "tags": []
   },
   "outputs": [
    {
     "data": {
      "text/plain": [
       "Index(['url', 'type', 'url_type', 'url_len', 'pri_domain', 'letters_count',\n",
       "       'digits_count', 'special_chars_count', 'shortened', 'abnormal_url',\n",
       "       'secure_http', 'have_ip', 'url_region', 'root_domain'],\n",
       "      dtype='object')"
      ]
     },
     "execution_count": 73,
     "metadata": {},
     "output_type": "execute_result"
    }
   ],
   "source": [
    "urls_data.columns"
   ]
  },
  {
   "cell_type": "code",
   "execution_count": 74,
   "id": "4634867f",
   "metadata": {
    "execution": {
     "iopub.execute_input": "2023-12-17T22:24:58.903391Z",
     "iopub.status.busy": "2023-12-17T22:24:58.903041Z",
     "iopub.status.idle": "2023-12-17T22:24:58.917317Z",
     "shell.execute_reply": "2023-12-17T22:24:58.916525Z"
    },
    "papermill": {
     "duration": 0.077391,
     "end_time": "2023-12-17T22:24:58.919406",
     "exception": false,
     "start_time": "2023-12-17T22:24:58.842015",
     "status": "completed"
    },
    "tags": []
   },
   "outputs": [
    {
     "data": {
      "text/html": [
       "<div>\n",
       "<style scoped>\n",
       "    .dataframe tbody tr th:only-of-type {\n",
       "        vertical-align: middle;\n",
       "    }\n",
       "\n",
       "    .dataframe tbody tr th {\n",
       "        vertical-align: top;\n",
       "    }\n",
       "\n",
       "    .dataframe thead th {\n",
       "        text-align: right;\n",
       "    }\n",
       "</style>\n",
       "<table border=\"1\" class=\"dataframe\">\n",
       "  <thead>\n",
       "    <tr style=\"text-align: right;\">\n",
       "      <th></th>\n",
       "      <th>url</th>\n",
       "      <th>type</th>\n",
       "      <th>url_type</th>\n",
       "      <th>url_len</th>\n",
       "      <th>pri_domain</th>\n",
       "      <th>letters_count</th>\n",
       "      <th>digits_count</th>\n",
       "      <th>special_chars_count</th>\n",
       "      <th>shortened</th>\n",
       "      <th>abnormal_url</th>\n",
       "      <th>secure_http</th>\n",
       "      <th>have_ip</th>\n",
       "      <th>url_region</th>\n",
       "      <th>root_domain</th>\n",
       "    </tr>\n",
       "  </thead>\n",
       "  <tbody>\n",
       "    <tr>\n",
       "      <th>0</th>\n",
       "      <td>br-icloud.com.br</td>\n",
       "      <td>phishing</td>\n",
       "      <td>2</td>\n",
       "      <td>16</td>\n",
       "      <td>br-icloud.com.br</td>\n",
       "      <td>13</td>\n",
       "      <td>0</td>\n",
       "      <td>3</td>\n",
       "      <td>0</td>\n",
       "      <td>0</td>\n",
       "      <td>0</td>\n",
       "      <td>0</td>\n",
       "      <td>Brazil</td>\n",
       "      <td>br-icloud</td>\n",
       "    </tr>\n",
       "    <tr>\n",
       "      <th>1</th>\n",
       "      <td>mp3raid.com/music/krizz_kaliko.html</td>\n",
       "      <td>benign</td>\n",
       "      <td>0</td>\n",
       "      <td>35</td>\n",
       "      <td>mp3raid.com</td>\n",
       "      <td>29</td>\n",
       "      <td>1</td>\n",
       "      <td>5</td>\n",
       "      <td>0</td>\n",
       "      <td>0</td>\n",
       "      <td>0</td>\n",
       "      <td>0</td>\n",
       "      <td>Global</td>\n",
       "      <td>mp3raid</td>\n",
       "    </tr>\n",
       "    <tr>\n",
       "      <th>2</th>\n",
       "      <td>bopsecrets.org/rexroth/cr/1.htm</td>\n",
       "      <td>benign</td>\n",
       "      <td>0</td>\n",
       "      <td>31</td>\n",
       "      <td>bopsecrets.org</td>\n",
       "      <td>25</td>\n",
       "      <td>1</td>\n",
       "      <td>5</td>\n",
       "      <td>0</td>\n",
       "      <td>0</td>\n",
       "      <td>0</td>\n",
       "      <td>0</td>\n",
       "      <td>Global</td>\n",
       "      <td>bopsecrets</td>\n",
       "    </tr>\n",
       "    <tr>\n",
       "      <th>3</th>\n",
       "      <td>http://www.garage-pirenne.be/index.php?option=...</td>\n",
       "      <td>defacement</td>\n",
       "      <td>1</td>\n",
       "      <td>77</td>\n",
       "      <td>www.garage-pirenne.be</td>\n",
       "      <td>63</td>\n",
       "      <td>7</td>\n",
       "      <td>18</td>\n",
       "      <td>0</td>\n",
       "      <td>1</td>\n",
       "      <td>0</td>\n",
       "      <td>0</td>\n",
       "      <td>Belgium</td>\n",
       "      <td>garage-pirenne</td>\n",
       "    </tr>\n",
       "    <tr>\n",
       "      <th>4</th>\n",
       "      <td>http://adventure-nicaragua.net/index.php?optio...</td>\n",
       "      <td>defacement</td>\n",
       "      <td>1</td>\n",
       "      <td>228</td>\n",
       "      <td>adventure-nicaragua.net</td>\n",
       "      <td>199</td>\n",
       "      <td>22</td>\n",
       "      <td>14</td>\n",
       "      <td>0</td>\n",
       "      <td>1</td>\n",
       "      <td>0</td>\n",
       "      <td>0</td>\n",
       "      <td>Global</td>\n",
       "      <td>adventure-nicaragua</td>\n",
       "    </tr>\n",
       "  </tbody>\n",
       "</table>\n",
       "</div>"
      ],
      "text/plain": [
       "                                                 url        type  url_type  \\\n",
       "0                                   br-icloud.com.br    phishing         2   \n",
       "1                mp3raid.com/music/krizz_kaliko.html      benign         0   \n",
       "2                    bopsecrets.org/rexroth/cr/1.htm      benign         0   \n",
       "3  http://www.garage-pirenne.be/index.php?option=...  defacement         1   \n",
       "4  http://adventure-nicaragua.net/index.php?optio...  defacement         1   \n",
       "\n",
       "   url_len               pri_domain  letters_count  digits_count  \\\n",
       "0       16         br-icloud.com.br             13             0   \n",
       "1       35              mp3raid.com             29             1   \n",
       "2       31           bopsecrets.org             25             1   \n",
       "3       77    www.garage-pirenne.be             63             7   \n",
       "4      228  adventure-nicaragua.net            199            22   \n",
       "\n",
       "   special_chars_count  shortened  abnormal_url  secure_http have_ip  \\\n",
       "0                    3          0             0            0       0   \n",
       "1                    5          0             0            0       0   \n",
       "2                    5          0             0            0       0   \n",
       "3                   18          0             1            0       0   \n",
       "4                   14          0             1            0       0   \n",
       "\n",
       "  url_region          root_domain  \n",
       "0     Brazil            br-icloud  \n",
       "1     Global              mp3raid  \n",
       "2     Global           bopsecrets  \n",
       "3    Belgium       garage-pirenne  \n",
       "4     Global  adventure-nicaragua  "
      ]
     },
     "execution_count": 74,
     "metadata": {},
     "output_type": "execute_result"
    }
   ],
   "source": [
    "urls_data.head()"
   ]
  },
  {
   "cell_type": "code",
   "execution_count": 75,
   "id": "db6d8b7e",
   "metadata": {
    "execution": {
     "iopub.execute_input": "2023-12-17T22:24:59.044873Z",
     "iopub.status.busy": "2023-12-17T22:24:59.043971Z",
     "iopub.status.idle": "2023-12-17T22:24:59.114474Z",
     "shell.execute_reply": "2023-12-17T22:24:59.113724Z"
    },
    "papermill": {
     "duration": 0.134211,
     "end_time": "2023-12-17T22:24:59.116612",
     "exception": false,
     "start_time": "2023-12-17T22:24:58.982401",
     "status": "completed"
    },
    "tags": []
   },
   "outputs": [
    {
     "data": {
      "text/html": [
       "<div>\n",
       "<style scoped>\n",
       "    .dataframe tbody tr th:only-of-type {\n",
       "        vertical-align: middle;\n",
       "    }\n",
       "\n",
       "    .dataframe tbody tr th {\n",
       "        vertical-align: top;\n",
       "    }\n",
       "\n",
       "    .dataframe thead th {\n",
       "        text-align: right;\n",
       "    }\n",
       "</style>\n",
       "<table border=\"1\" class=\"dataframe\">\n",
       "  <thead>\n",
       "    <tr style=\"text-align: right;\">\n",
       "      <th></th>\n",
       "      <th>url_type</th>\n",
       "      <th>url_len</th>\n",
       "      <th>letters_count</th>\n",
       "      <th>digits_count</th>\n",
       "      <th>special_chars_count</th>\n",
       "      <th>shortened</th>\n",
       "      <th>abnormal_url</th>\n",
       "      <th>secure_http</th>\n",
       "      <th>have_ip</th>\n",
       "      <th>url_region</th>\n",
       "      <th>root_domain</th>\n",
       "    </tr>\n",
       "  </thead>\n",
       "  <tbody>\n",
       "    <tr>\n",
       "      <th>0</th>\n",
       "      <td>2</td>\n",
       "      <td>16</td>\n",
       "      <td>13</td>\n",
       "      <td>0</td>\n",
       "      <td>3</td>\n",
       "      <td>0</td>\n",
       "      <td>0</td>\n",
       "      <td>0</td>\n",
       "      <td>0</td>\n",
       "      <td>Brazil</td>\n",
       "      <td>br-icloud</td>\n",
       "    </tr>\n",
       "    <tr>\n",
       "      <th>1</th>\n",
       "      <td>0</td>\n",
       "      <td>35</td>\n",
       "      <td>29</td>\n",
       "      <td>1</td>\n",
       "      <td>5</td>\n",
       "      <td>0</td>\n",
       "      <td>0</td>\n",
       "      <td>0</td>\n",
       "      <td>0</td>\n",
       "      <td>Global</td>\n",
       "      <td>mp3raid</td>\n",
       "    </tr>\n",
       "    <tr>\n",
       "      <th>2</th>\n",
       "      <td>0</td>\n",
       "      <td>31</td>\n",
       "      <td>25</td>\n",
       "      <td>1</td>\n",
       "      <td>5</td>\n",
       "      <td>0</td>\n",
       "      <td>0</td>\n",
       "      <td>0</td>\n",
       "      <td>0</td>\n",
       "      <td>Global</td>\n",
       "      <td>bopsecrets</td>\n",
       "    </tr>\n",
       "    <tr>\n",
       "      <th>3</th>\n",
       "      <td>1</td>\n",
       "      <td>77</td>\n",
       "      <td>63</td>\n",
       "      <td>7</td>\n",
       "      <td>18</td>\n",
       "      <td>0</td>\n",
       "      <td>1</td>\n",
       "      <td>0</td>\n",
       "      <td>0</td>\n",
       "      <td>Belgium</td>\n",
       "      <td>garage-pirenne</td>\n",
       "    </tr>\n",
       "    <tr>\n",
       "      <th>4</th>\n",
       "      <td>1</td>\n",
       "      <td>228</td>\n",
       "      <td>199</td>\n",
       "      <td>22</td>\n",
       "      <td>14</td>\n",
       "      <td>0</td>\n",
       "      <td>1</td>\n",
       "      <td>0</td>\n",
       "      <td>0</td>\n",
       "      <td>Global</td>\n",
       "      <td>adventure-nicaragua</td>\n",
       "    </tr>\n",
       "  </tbody>\n",
       "</table>\n",
       "</div>"
      ],
      "text/plain": [
       "   url_type  url_len  letters_count  digits_count  special_chars_count  \\\n",
       "0         2       16             13             0                    3   \n",
       "1         0       35             29             1                    5   \n",
       "2         0       31             25             1                    5   \n",
       "3         1       77             63             7                   18   \n",
       "4         1      228            199            22                   14   \n",
       "\n",
       "   shortened  abnormal_url  secure_http have_ip url_region  \\\n",
       "0          0             0            0       0     Brazil   \n",
       "1          0             0            0       0     Global   \n",
       "2          0             0            0       0     Global   \n",
       "3          0             1            0       0    Belgium   \n",
       "4          0             1            0       0     Global   \n",
       "\n",
       "           root_domain  \n",
       "0            br-icloud  \n",
       "1              mp3raid  \n",
       "2           bopsecrets  \n",
       "3       garage-pirenne  \n",
       "4  adventure-nicaragua  "
      ]
     },
     "execution_count": 75,
     "metadata": {},
     "output_type": "execute_result"
    }
   ],
   "source": [
    "data = urls_data.drop(columns=['url','type','pri_domain'])\n",
    "data.head()"
   ]
  },
  {
   "cell_type": "code",
   "execution_count": 76,
   "id": "01114d19",
   "metadata": {
    "execution": {
     "iopub.execute_input": "2023-12-17T22:24:59.246512Z",
     "iopub.status.busy": "2023-12-17T22:24:59.245629Z",
     "iopub.status.idle": "2023-12-17T22:24:59.437328Z",
     "shell.execute_reply": "2023-12-17T22:24:59.436224Z"
    },
    "papermill": {
     "duration": 0.2553,
     "end_time": "2023-12-17T22:24:59.439550",
     "exception": false,
     "start_time": "2023-12-17T22:24:59.184250",
     "status": "completed"
    },
    "tags": []
   },
   "outputs": [
    {
     "data": {
      "text/plain": [
       "root_domain\n",
       "wikipedia                    13426\n",
       "0                            12215\n",
       "youtube                       8639\n",
       "blogspot                      8468\n",
       "facebook                      8362\n",
       "                             ...  \n",
       "celebritygirlfriend              1\n",
       "aamcocentraliowa                 1\n",
       "warsawhousing                    1\n",
       "alkimosbeachearlylearning        1\n",
       "xboxaddict                       1\n",
       "Name: count, Length: 147232, dtype: int64"
      ]
     },
     "execution_count": 76,
     "metadata": {},
     "output_type": "execute_result"
    }
   ],
   "source": [
    "data['root_domain'].value_counts()"
   ]
  },
  {
   "cell_type": "code",
   "execution_count": 77,
   "id": "d3ee424e",
   "metadata": {
    "execution": {
     "iopub.execute_input": "2023-12-17T22:24:59.557723Z",
     "iopub.status.busy": "2023-12-17T22:24:59.557379Z",
     "iopub.status.idle": "2023-12-17T22:24:59.683613Z",
     "shell.execute_reply": "2023-12-17T22:24:59.682754Z"
    },
    "papermill": {
     "duration": 0.185004,
     "end_time": "2023-12-17T22:24:59.686093",
     "exception": false,
     "start_time": "2023-12-17T22:24:59.501089",
     "status": "completed"
    },
    "tags": []
   },
   "outputs": [],
   "source": [
    "data = data[data['root_domain'] != '0']"
   ]
  },
  {
   "cell_type": "code",
   "execution_count": 78,
   "id": "d65208b0",
   "metadata": {
    "execution": {
     "iopub.execute_input": "2023-12-17T22:24:59.818826Z",
     "iopub.status.busy": "2023-12-17T22:24:59.817929Z",
     "iopub.status.idle": "2023-12-17T22:24:59.981750Z",
     "shell.execute_reply": "2023-12-17T22:24:59.980986Z"
    },
    "papermill": {
     "duration": 0.232266,
     "end_time": "2023-12-17T22:24:59.983672",
     "exception": false,
     "start_time": "2023-12-17T22:24:59.751406",
     "status": "completed"
    },
    "tags": []
   },
   "outputs": [
    {
     "data": {
      "text/plain": [
       "root_domain\n",
       "wikipedia                    13426\n",
       "youtube                       8639\n",
       "blogspot                      8468\n",
       "facebook                      8362\n",
       "yahoo                         5843\n",
       "                             ...  \n",
       "celebritygirlfriend              1\n",
       "aamcocentraliowa                 1\n",
       "warsawhousing                    1\n",
       "alkimosbeachearlylearning        1\n",
       "xboxaddict                       1\n",
       "Name: count, Length: 147231, dtype: int64"
      ]
     },
     "execution_count": 78,
     "metadata": {},
     "output_type": "execute_result"
    }
   ],
   "source": [
    "data['root_domain'].value_counts()"
   ]
  },
  {
   "cell_type": "code",
   "execution_count": 79,
   "id": "757a4385",
   "metadata": {
    "execution": {
     "iopub.execute_input": "2023-12-17T22:25:00.093500Z",
     "iopub.status.busy": "2023-12-17T22:25:00.092837Z",
     "iopub.status.idle": "2023-12-17T22:25:00.239582Z",
     "shell.execute_reply": "2023-12-17T22:25:00.238736Z"
    },
    "papermill": {
     "duration": 0.203234,
     "end_time": "2023-12-17T22:25:00.241455",
     "exception": false,
     "start_time": "2023-12-17T22:25:00.038221",
     "status": "completed"
    },
    "tags": []
   },
   "outputs": [
    {
     "data": {
      "text/plain": [
       "147231"
      ]
     },
     "execution_count": 79,
     "metadata": {},
     "output_type": "execute_result"
    }
   ],
   "source": [
    "len(data['root_domain'].value_counts())"
   ]
  },
  {
   "cell_type": "code",
   "execution_count": 80,
   "id": "d1bf8a6e",
   "metadata": {
    "execution": {
     "iopub.execute_input": "2023-12-17T22:25:00.354386Z",
     "iopub.status.busy": "2023-12-17T22:25:00.353672Z",
     "iopub.status.idle": "2023-12-17T22:25:00.358045Z",
     "shell.execute_reply": "2023-12-17T22:25:00.357379Z"
    },
    "papermill": {
     "duration": 0.062596,
     "end_time": "2023-12-17T22:25:00.359990",
     "exception": false,
     "start_time": "2023-12-17T22:25:00.297394",
     "status": "completed"
    },
    "tags": []
   },
   "outputs": [],
   "source": [
    "def hash_encode(category):\n",
    "    hash_object = hashlib.md5(category.encode())\n",
    "    return int(hash_object.hexdigest(), 16) % (10 ** 8)"
   ]
  },
  {
   "cell_type": "code",
   "execution_count": 81,
   "id": "9c12eeed",
   "metadata": {
    "execution": {
     "iopub.execute_input": "2023-12-17T22:25:00.467893Z",
     "iopub.status.busy": "2023-12-17T22:25:00.467070Z",
     "iopub.status.idle": "2023-12-17T22:25:01.451255Z",
     "shell.execute_reply": "2023-12-17T22:25:01.450373Z"
    },
    "papermill": {
     "duration": 1.040553,
     "end_time": "2023-12-17T22:25:01.453738",
     "exception": false,
     "start_time": "2023-12-17T22:25:00.413185",
     "status": "completed"
    },
    "tags": []
   },
   "outputs": [],
   "source": [
    "data['root_domain'] = data['root_domain'].apply(hash_encode)"
   ]
  },
  {
   "cell_type": "code",
   "execution_count": 82,
   "id": "15763dc2",
   "metadata": {
    "execution": {
     "iopub.execute_input": "2023-12-17T22:25:01.565790Z",
     "iopub.status.busy": "2023-12-17T22:25:01.565135Z",
     "iopub.status.idle": "2023-12-17T22:25:02.495524Z",
     "shell.execute_reply": "2023-12-17T22:25:02.494725Z"
    },
    "papermill": {
     "duration": 0.988971,
     "end_time": "2023-12-17T22:25:02.497916",
     "exception": false,
     "start_time": "2023-12-17T22:25:01.508945",
     "status": "completed"
    },
    "tags": []
   },
   "outputs": [],
   "source": [
    "data['url_region'] = data['url_region'].apply(hash_encode)"
   ]
  },
  {
   "cell_type": "code",
   "execution_count": 83,
   "id": "36d7b1b4",
   "metadata": {
    "execution": {
     "iopub.execute_input": "2023-12-17T22:25:02.611574Z",
     "iopub.status.busy": "2023-12-17T22:25:02.611202Z",
     "iopub.status.idle": "2023-12-17T22:25:02.622538Z",
     "shell.execute_reply": "2023-12-17T22:25:02.621757Z"
    },
    "papermill": {
     "duration": 0.071042,
     "end_time": "2023-12-17T22:25:02.624497",
     "exception": false,
     "start_time": "2023-12-17T22:25:02.553455",
     "status": "completed"
    },
    "tags": []
   },
   "outputs": [
    {
     "data": {
      "text/html": [
       "<div>\n",
       "<style scoped>\n",
       "    .dataframe tbody tr th:only-of-type {\n",
       "        vertical-align: middle;\n",
       "    }\n",
       "\n",
       "    .dataframe tbody tr th {\n",
       "        vertical-align: top;\n",
       "    }\n",
       "\n",
       "    .dataframe thead th {\n",
       "        text-align: right;\n",
       "    }\n",
       "</style>\n",
       "<table border=\"1\" class=\"dataframe\">\n",
       "  <thead>\n",
       "    <tr style=\"text-align: right;\">\n",
       "      <th></th>\n",
       "      <th>url_type</th>\n",
       "      <th>url_len</th>\n",
       "      <th>letters_count</th>\n",
       "      <th>digits_count</th>\n",
       "      <th>special_chars_count</th>\n",
       "      <th>shortened</th>\n",
       "      <th>abnormal_url</th>\n",
       "      <th>secure_http</th>\n",
       "      <th>have_ip</th>\n",
       "      <th>url_region</th>\n",
       "      <th>root_domain</th>\n",
       "    </tr>\n",
       "  </thead>\n",
       "  <tbody>\n",
       "    <tr>\n",
       "      <th>0</th>\n",
       "      <td>2</td>\n",
       "      <td>16</td>\n",
       "      <td>13</td>\n",
       "      <td>0</td>\n",
       "      <td>3</td>\n",
       "      <td>0</td>\n",
       "      <td>0</td>\n",
       "      <td>0</td>\n",
       "      <td>0</td>\n",
       "      <td>27739261</td>\n",
       "      <td>1310791</td>\n",
       "    </tr>\n",
       "    <tr>\n",
       "      <th>1</th>\n",
       "      <td>0</td>\n",
       "      <td>35</td>\n",
       "      <td>29</td>\n",
       "      <td>1</td>\n",
       "      <td>5</td>\n",
       "      <td>0</td>\n",
       "      <td>0</td>\n",
       "      <td>0</td>\n",
       "      <td>0</td>\n",
       "      <td>32604616</td>\n",
       "      <td>58335668</td>\n",
       "    </tr>\n",
       "    <tr>\n",
       "      <th>2</th>\n",
       "      <td>0</td>\n",
       "      <td>31</td>\n",
       "      <td>25</td>\n",
       "      <td>1</td>\n",
       "      <td>5</td>\n",
       "      <td>0</td>\n",
       "      <td>0</td>\n",
       "      <td>0</td>\n",
       "      <td>0</td>\n",
       "      <td>32604616</td>\n",
       "      <td>28611805</td>\n",
       "    </tr>\n",
       "    <tr>\n",
       "      <th>3</th>\n",
       "      <td>1</td>\n",
       "      <td>77</td>\n",
       "      <td>63</td>\n",
       "      <td>7</td>\n",
       "      <td>18</td>\n",
       "      <td>0</td>\n",
       "      <td>1</td>\n",
       "      <td>0</td>\n",
       "      <td>0</td>\n",
       "      <td>71484583</td>\n",
       "      <td>89045308</td>\n",
       "    </tr>\n",
       "    <tr>\n",
       "      <th>4</th>\n",
       "      <td>1</td>\n",
       "      <td>228</td>\n",
       "      <td>199</td>\n",
       "      <td>22</td>\n",
       "      <td>14</td>\n",
       "      <td>0</td>\n",
       "      <td>1</td>\n",
       "      <td>0</td>\n",
       "      <td>0</td>\n",
       "      <td>32604616</td>\n",
       "      <td>76838614</td>\n",
       "    </tr>\n",
       "  </tbody>\n",
       "</table>\n",
       "</div>"
      ],
      "text/plain": [
       "   url_type  url_len  letters_count  digits_count  special_chars_count  \\\n",
       "0         2       16             13             0                    3   \n",
       "1         0       35             29             1                    5   \n",
       "2         0       31             25             1                    5   \n",
       "3         1       77             63             7                   18   \n",
       "4         1      228            199            22                   14   \n",
       "\n",
       "   shortened  abnormal_url  secure_http have_ip  url_region  root_domain  \n",
       "0          0             0            0       0    27739261      1310791  \n",
       "1          0             0            0       0    32604616     58335668  \n",
       "2          0             0            0       0    32604616     28611805  \n",
       "3          0             1            0       0    71484583     89045308  \n",
       "4          0             1            0       0    32604616     76838614  "
      ]
     },
     "execution_count": 83,
     "metadata": {},
     "output_type": "execute_result"
    }
   ],
   "source": [
    "data.head()"
   ]
  },
  {
   "cell_type": "code",
   "execution_count": 84,
   "id": "bb7a85e2",
   "metadata": {
    "execution": {
     "iopub.execute_input": "2023-12-17T22:25:02.738601Z",
     "iopub.status.busy": "2023-12-17T22:25:02.737876Z",
     "iopub.status.idle": "2023-12-17T22:25:02.743556Z",
     "shell.execute_reply": "2023-12-17T22:25:02.742759Z"
    },
    "papermill": {
     "duration": 0.064141,
     "end_time": "2023-12-17T22:25:02.745407",
     "exception": false,
     "start_time": "2023-12-17T22:25:02.681266",
     "status": "completed"
    },
    "tags": []
   },
   "outputs": [
    {
     "data": {
      "text/plain": [
       "(628910, 11)"
      ]
     },
     "execution_count": 84,
     "metadata": {},
     "output_type": "execute_result"
    }
   ],
   "source": [
    "data.shape"
   ]
  },
  {
   "cell_type": "code",
   "execution_count": 85,
   "id": "4c58bc57",
   "metadata": {
    "execution": {
     "iopub.execute_input": "2023-12-17T22:25:02.860270Z",
     "iopub.status.busy": "2023-12-17T22:25:02.859325Z",
     "iopub.status.idle": "2023-12-17T22:25:02.897727Z",
     "shell.execute_reply": "2023-12-17T22:25:02.896946Z"
    },
    "papermill": {
     "duration": 0.097069,
     "end_time": "2023-12-17T22:25:02.899785",
     "exception": false,
     "start_time": "2023-12-17T22:25:02.802716",
     "status": "completed"
    },
    "tags": []
   },
   "outputs": [
    {
     "data": {
      "text/plain": [
       "url_type               0\n",
       "url_len                0\n",
       "letters_count          0\n",
       "digits_count           0\n",
       "special_chars_count    0\n",
       "shortened              0\n",
       "abnormal_url           0\n",
       "secure_http            0\n",
       "have_ip                0\n",
       "url_region             0\n",
       "root_domain            0\n",
       "dtype: int64"
      ]
     },
     "execution_count": 85,
     "metadata": {},
     "output_type": "execute_result"
    }
   ],
   "source": [
    "data.isnull().sum()"
   ]
  },
  {
   "cell_type": "code",
   "execution_count": 86,
   "id": "c8b221de",
   "metadata": {
    "execution": {
     "iopub.execute_input": "2023-12-17T22:25:03.014527Z",
     "iopub.status.busy": "2023-12-17T22:25:03.013555Z",
     "iopub.status.idle": "2023-12-17T22:25:03.018953Z",
     "shell.execute_reply": "2023-12-17T22:25:03.018280Z"
    },
    "papermill": {
     "duration": 0.064955,
     "end_time": "2023-12-17T22:25:03.020856",
     "exception": false,
     "start_time": "2023-12-17T22:25:02.955901",
     "status": "completed"
    },
    "tags": []
   },
   "outputs": [
    {
     "data": {
      "text/plain": [
       "Index(['url_type', 'url_len', 'letters_count', 'digits_count',\n",
       "       'special_chars_count', 'shortened', 'abnormal_url', 'secure_http',\n",
       "       'have_ip', 'url_region', 'root_domain'],\n",
       "      dtype='object')"
      ]
     },
     "execution_count": 86,
     "metadata": {},
     "output_type": "execute_result"
    }
   ],
   "source": [
    "data.columns"
   ]
  },
  {
   "cell_type": "code",
   "execution_count": 87,
   "id": "9672b921",
   "metadata": {
    "execution": {
     "iopub.execute_input": "2023-12-17T22:25:03.135288Z",
     "iopub.status.busy": "2023-12-17T22:25:03.134927Z",
     "iopub.status.idle": "2023-12-17T22:25:03.337176Z",
     "shell.execute_reply": "2023-12-17T22:25:03.336285Z"
    },
    "papermill": {
     "duration": 0.262114,
     "end_time": "2023-12-17T22:25:03.339746",
     "exception": false,
     "start_time": "2023-12-17T22:25:03.077632",
     "status": "completed"
    },
    "tags": []
   },
   "outputs": [],
   "source": [
    "x = data.drop(columns=['url_type'])\n",
    "y = data['url_type']\n",
    "x_train,x_test,y_train,y_test = train_test_split(x,y,test_size=0.3, random_state=42)"
   ]
  },
  {
   "cell_type": "markdown",
   "id": "2c50fbe2",
   "metadata": {
    "papermill": {
     "duration": 0.057026,
     "end_time": "2023-12-17T22:25:03.453702",
     "exception": false,
     "start_time": "2023-12-17T22:25:03.396676",
     "status": "completed"
    },
    "tags": []
   },
   "source": [
    "<div style=\"background-color:#dfe3ee; border-radius:2px; border:#000000 solid; padding: 15px; font-size:100%; text-align:center\">\n",
    "    <h2 align=\"center\" style=\"color:#000000;\"><b>MODEL DEVELOPMENT</b></h2>\n",
    "</div>"
   ]
  },
  {
   "cell_type": "code",
   "execution_count": 88,
   "id": "4c07b490",
   "metadata": {
    "execution": {
     "iopub.execute_input": "2023-12-17T22:25:03.572753Z",
     "iopub.status.busy": "2023-12-17T22:25:03.572080Z",
     "iopub.status.idle": "2023-12-17T22:25:03.576845Z",
     "shell.execute_reply": "2023-12-17T22:25:03.576153Z"
    },
    "papermill": {
     "duration": 0.063635,
     "end_time": "2023-12-17T22:25:03.578866",
     "exception": false,
     "start_time": "2023-12-17T22:25:03.515231",
     "status": "completed"
    },
    "tags": []
   },
   "outputs": [
    {
     "name": "stdout",
     "output_type": "stream",
     "text": [
      "X_train Shape : (440237, 10)\n",
      "Y_train Shape : (440237,)\n",
      "X_test  Shape : (188673, 10)\n",
      "Y_test  Shape : (188673,)\n"
     ]
    }
   ],
   "source": [
    "print(f\"X_train Shape : {x_train.shape}\")\n",
    "print(f\"Y_train Shape : {y_train.shape}\")\n",
    "print(f\"X_test  Shape : {x_test.shape}\")\n",
    "print(f\"Y_test  Shape : {y_test.shape}\")"
   ]
  },
  {
   "cell_type": "code",
   "execution_count": 89,
   "id": "d10ffca2",
   "metadata": {
    "execution": {
     "iopub.execute_input": "2023-12-17T22:25:03.689320Z",
     "iopub.status.busy": "2023-12-17T22:25:03.688506Z",
     "iopub.status.idle": "2023-12-17T22:25:03.693033Z",
     "shell.execute_reply": "2023-12-17T22:25:03.692398Z"
    },
    "papermill": {
     "duration": 0.060951,
     "end_time": "2023-12-17T22:25:03.694746",
     "exception": false,
     "start_time": "2023-12-17T22:25:03.633795",
     "status": "completed"
    },
    "tags": []
   },
   "outputs": [],
   "source": [
    "classifiers = [\n",
    "    DecisionTreeClassifier(),\n",
    "    RandomForestClassifier(),\n",
    "    AdaBoostClassifier(),\n",
    "    KNeighborsClassifier(),\n",
    "    ExtraTreesClassifier(),\n",
    "    GaussianNB()\n",
    "]"
   ]
  },
  {
   "cell_type": "code",
   "execution_count": 90,
   "id": "8c69e295",
   "metadata": {
    "execution": {
     "iopub.execute_input": "2023-12-17T22:25:03.806232Z",
     "iopub.status.busy": "2023-12-17T22:25:03.805378Z",
     "iopub.status.idle": "2023-12-17T22:33:57.392058Z",
     "shell.execute_reply": "2023-12-17T22:33:57.390813Z"
    },
    "papermill": {
     "duration": 533.64504,
     "end_time": "2023-12-17T22:33:57.395045",
     "exception": false,
     "start_time": "2023-12-17T22:25:03.750005",
     "status": "completed"
    },
    "tags": []
   },
   "outputs": [],
   "source": [
    "results = []\n",
    "for classifier in classifiers:\n",
    "    pipeline = Pipeline([\n",
    "        ('classifier', classifier)\n",
    "    ])\n",
    "    scores = cross_val_score(pipeline, x, y, cv=2, scoring='accuracy')\n",
    "    y_pred = cross_val_predict(pipeline, x, y, cv=2)\n",
    "    accuracy = accuracy_score(y, y_pred)\n",
    "    recall = recall_score(y, y_pred, average='weighted')\n",
    "    precision = precision_score(y, y_pred, average='weighted', zero_division=1) \n",
    "    f1 = f1_score(y, y_pred, average='weighted')\n",
    "    results.append((classifier.__class__.__name__, accuracy, recall, precision, f1))"
   ]
  },
  {
   "cell_type": "code",
   "execution_count": 91,
   "id": "c710dabf",
   "metadata": {
    "execution": {
     "iopub.execute_input": "2023-12-17T22:33:57.515827Z",
     "iopub.status.busy": "2023-12-17T22:33:57.515411Z",
     "iopub.status.idle": "2023-12-17T22:33:57.531850Z",
     "shell.execute_reply": "2023-12-17T22:33:57.530940Z"
    },
    "papermill": {
     "duration": 0.080065,
     "end_time": "2023-12-17T22:33:57.533867",
     "exception": false,
     "start_time": "2023-12-17T22:33:57.453802",
     "status": "completed"
    },
    "tags": []
   },
   "outputs": [
    {
     "data": {
      "text/html": [
       "<div>\n",
       "<style scoped>\n",
       "    .dataframe tbody tr th:only-of-type {\n",
       "        vertical-align: middle;\n",
       "    }\n",
       "\n",
       "    .dataframe tbody tr th {\n",
       "        vertical-align: top;\n",
       "    }\n",
       "\n",
       "    .dataframe thead th {\n",
       "        text-align: right;\n",
       "    }\n",
       "</style>\n",
       "<table border=\"1\" class=\"dataframe\">\n",
       "  <thead>\n",
       "    <tr style=\"text-align: right;\">\n",
       "      <th></th>\n",
       "      <th>Classifier</th>\n",
       "      <th>Accuracy</th>\n",
       "      <th>Recall</th>\n",
       "      <th>Precision</th>\n",
       "      <th>F1-Score</th>\n",
       "    </tr>\n",
       "  </thead>\n",
       "  <tbody>\n",
       "    <tr>\n",
       "      <th>1</th>\n",
       "      <td>RandomForestClassifier</td>\n",
       "      <td>0.838754</td>\n",
       "      <td>0.838754</td>\n",
       "      <td>0.802010</td>\n",
       "      <td>0.807937</td>\n",
       "    </tr>\n",
       "    <tr>\n",
       "      <th>4</th>\n",
       "      <td>ExtraTreesClassifier</td>\n",
       "      <td>0.835145</td>\n",
       "      <td>0.835145</td>\n",
       "      <td>0.792144</td>\n",
       "      <td>0.800106</td>\n",
       "    </tr>\n",
       "    <tr>\n",
       "      <th>0</th>\n",
       "      <td>DecisionTreeClassifier</td>\n",
       "      <td>0.834115</td>\n",
       "      <td>0.834115</td>\n",
       "      <td>0.805398</td>\n",
       "      <td>0.812308</td>\n",
       "    </tr>\n",
       "    <tr>\n",
       "      <th>3</th>\n",
       "      <td>KNeighborsClassifier</td>\n",
       "      <td>0.785203</td>\n",
       "      <td>0.785203</td>\n",
       "      <td>0.741717</td>\n",
       "      <td>0.756780</td>\n",
       "    </tr>\n",
       "    <tr>\n",
       "      <th>5</th>\n",
       "      <td>GaussianNB</td>\n",
       "      <td>0.676974</td>\n",
       "      <td>0.676974</td>\n",
       "      <td>0.711843</td>\n",
       "      <td>0.599686</td>\n",
       "    </tr>\n",
       "  </tbody>\n",
       "</table>\n",
       "</div>"
      ],
      "text/plain": [
       "               Classifier  Accuracy    Recall  Precision  F1-Score\n",
       "1  RandomForestClassifier  0.838754  0.838754   0.802010  0.807937\n",
       "4    ExtraTreesClassifier  0.835145  0.835145   0.792144  0.800106\n",
       "0  DecisionTreeClassifier  0.834115  0.834115   0.805398  0.812308\n",
       "3    KNeighborsClassifier  0.785203  0.785203   0.741717  0.756780\n",
       "5              GaussianNB  0.676974  0.676974   0.711843  0.599686"
      ]
     },
     "execution_count": 91,
     "metadata": {},
     "output_type": "execute_result"
    }
   ],
   "source": [
    "results = pd.DataFrame(results, columns=['Classifier', 'Accuracy', 'Recall', 'Precision', 'F1-Score'])\n",
    "results = results.sort_values(by='Accuracy', ascending=False)\n",
    "results.head()"
   ]
  },
  {
   "cell_type": "code",
   "execution_count": 92,
   "id": "8278ae08",
   "metadata": {
    "execution": {
     "iopub.execute_input": "2023-12-17T22:33:57.646538Z",
     "iopub.status.busy": "2023-12-17T22:33:57.646215Z",
     "iopub.status.idle": "2023-12-17T22:34:34.440516Z",
     "shell.execute_reply": "2023-12-17T22:34:34.439486Z"
    },
    "papermill": {
     "duration": 36.910067,
     "end_time": "2023-12-17T22:34:34.500056",
     "exception": false,
     "start_time": "2023-12-17T22:33:57.589989",
     "status": "completed"
    },
    "tags": []
   },
   "outputs": [
    {
     "data": {
      "text/html": [
       "<style>#sk-container-id-1 {\n",
       "  /* Definition of color scheme common for light and dark mode */\n",
       "  --sklearn-color-text: black;\n",
       "  --sklearn-color-line: gray;\n",
       "  /* Definition of color scheme for unfitted estimators */\n",
       "  --sklearn-color-unfitted-level-0: #fff5e6;\n",
       "  --sklearn-color-unfitted-level-1: #f6e4d2;\n",
       "  --sklearn-color-unfitted-level-2: #ffe0b3;\n",
       "  --sklearn-color-unfitted-level-3: chocolate;\n",
       "  /* Definition of color scheme for fitted estimators */\n",
       "  --sklearn-color-fitted-level-0: #f0f8ff;\n",
       "  --sklearn-color-fitted-level-1: #d4ebff;\n",
       "  --sklearn-color-fitted-level-2: #b3dbfd;\n",
       "  --sklearn-color-fitted-level-3: cornflowerblue;\n",
       "\n",
       "  /* Specific color for light theme */\n",
       "  --sklearn-color-text-on-default-background: var(--sg-text-color, var(--theme-code-foreground, var(--jp-content-font-color1, black)));\n",
       "  --sklearn-color-background: var(--sg-background-color, var(--theme-background, var(--jp-layout-color0, white)));\n",
       "  --sklearn-color-border-box: var(--sg-text-color, var(--theme-code-foreground, var(--jp-content-font-color1, black)));\n",
       "  --sklearn-color-icon: #696969;\n",
       "\n",
       "  @media (prefers-color-scheme: dark) {\n",
       "    /* Redefinition of color scheme for dark theme */\n",
       "    --sklearn-color-text-on-default-background: var(--sg-text-color, var(--theme-code-foreground, var(--jp-content-font-color1, white)));\n",
       "    --sklearn-color-background: var(--sg-background-color, var(--theme-background, var(--jp-layout-color0, #111)));\n",
       "    --sklearn-color-border-box: var(--sg-text-color, var(--theme-code-foreground, var(--jp-content-font-color1, white)));\n",
       "    --sklearn-color-icon: #878787;\n",
       "  }\n",
       "}\n",
       "\n",
       "#sk-container-id-1 {\n",
       "  color: var(--sklearn-color-text);\n",
       "}\n",
       "\n",
       "#sk-container-id-1 pre {\n",
       "  padding: 0;\n",
       "}\n",
       "\n",
       "#sk-container-id-1 input.sk-hidden--visually {\n",
       "  border: 0;\n",
       "  clip: rect(1px 1px 1px 1px);\n",
       "  clip: rect(1px, 1px, 1px, 1px);\n",
       "  height: 1px;\n",
       "  margin: -1px;\n",
       "  overflow: hidden;\n",
       "  padding: 0;\n",
       "  position: absolute;\n",
       "  width: 1px;\n",
       "}\n",
       "\n",
       "#sk-container-id-1 div.sk-dashed-wrapped {\n",
       "  border: 1px dashed var(--sklearn-color-line);\n",
       "  margin: 0 0.4em 0.5em 0.4em;\n",
       "  box-sizing: border-box;\n",
       "  padding-bottom: 0.4em;\n",
       "  background-color: var(--sklearn-color-background);\n",
       "}\n",
       "\n",
       "#sk-container-id-1 div.sk-container {\n",
       "  /* jupyter's `normalize.less` sets `[hidden] { display: none; }`\n",
       "     but bootstrap.min.css set `[hidden] { display: none !important; }`\n",
       "     so we also need the `!important` here to be able to override the\n",
       "     default hidden behavior on the sphinx rendered scikit-learn.org.\n",
       "     See: https://github.com/scikit-learn/scikit-learn/issues/21755 */\n",
       "  display: inline-block !important;\n",
       "  position: relative;\n",
       "}\n",
       "\n",
       "#sk-container-id-1 div.sk-text-repr-fallback {\n",
       "  display: none;\n",
       "}\n",
       "\n",
       "div.sk-parallel-item,\n",
       "div.sk-serial,\n",
       "div.sk-item {\n",
       "  /* draw centered vertical line to link estimators */\n",
       "  background-image: linear-gradient(var(--sklearn-color-text-on-default-background), var(--sklearn-color-text-on-default-background));\n",
       "  background-size: 2px 100%;\n",
       "  background-repeat: no-repeat;\n",
       "  background-position: center center;\n",
       "}\n",
       "\n",
       "/* Parallel-specific style estimator block */\n",
       "\n",
       "#sk-container-id-1 div.sk-parallel-item::after {\n",
       "  content: \"\";\n",
       "  width: 100%;\n",
       "  border-bottom: 2px solid var(--sklearn-color-text-on-default-background);\n",
       "  flex-grow: 1;\n",
       "}\n",
       "\n",
       "#sk-container-id-1 div.sk-parallel {\n",
       "  display: flex;\n",
       "  align-items: stretch;\n",
       "  justify-content: center;\n",
       "  background-color: var(--sklearn-color-background);\n",
       "  position: relative;\n",
       "}\n",
       "\n",
       "#sk-container-id-1 div.sk-parallel-item {\n",
       "  display: flex;\n",
       "  flex-direction: column;\n",
       "}\n",
       "\n",
       "#sk-container-id-1 div.sk-parallel-item:first-child::after {\n",
       "  align-self: flex-end;\n",
       "  width: 50%;\n",
       "}\n",
       "\n",
       "#sk-container-id-1 div.sk-parallel-item:last-child::after {\n",
       "  align-self: flex-start;\n",
       "  width: 50%;\n",
       "}\n",
       "\n",
       "#sk-container-id-1 div.sk-parallel-item:only-child::after {\n",
       "  width: 0;\n",
       "}\n",
       "\n",
       "/* Serial-specific style estimator block */\n",
       "\n",
       "#sk-container-id-1 div.sk-serial {\n",
       "  display: flex;\n",
       "  flex-direction: column;\n",
       "  align-items: center;\n",
       "  background-color: var(--sklearn-color-background);\n",
       "  padding-right: 1em;\n",
       "  padding-left: 1em;\n",
       "}\n",
       "\n",
       "\n",
       "/* Toggleable style: style used for estimator/Pipeline/ColumnTransformer box that is\n",
       "clickable and can be expanded/collapsed.\n",
       "- Pipeline and ColumnTransformer use this feature and define the default style\n",
       "- Estimators will overwrite some part of the style using the `sk-estimator` class\n",
       "*/\n",
       "\n",
       "/* Pipeline and ColumnTransformer style (default) */\n",
       "\n",
       "#sk-container-id-1 div.sk-toggleable {\n",
       "  /* Default theme specific background. It is overwritten whether we have a\n",
       "  specific estimator or a Pipeline/ColumnTransformer */\n",
       "  background-color: var(--sklearn-color-background);\n",
       "}\n",
       "\n",
       "/* Toggleable label */\n",
       "#sk-container-id-1 label.sk-toggleable__label {\n",
       "  cursor: pointer;\n",
       "  display: block;\n",
       "  width: 100%;\n",
       "  margin-bottom: 0;\n",
       "  padding: 0.5em;\n",
       "  box-sizing: border-box;\n",
       "  text-align: center;\n",
       "}\n",
       "\n",
       "#sk-container-id-1 label.sk-toggleable__label-arrow:before {\n",
       "  /* Arrow on the left of the label */\n",
       "  content: \"▸\";\n",
       "  float: left;\n",
       "  margin-right: 0.25em;\n",
       "  color: var(--sklearn-color-icon);\n",
       "}\n",
       "\n",
       "#sk-container-id-1 label.sk-toggleable__label-arrow:hover:before {\n",
       "  color: var(--sklearn-color-text);\n",
       "}\n",
       "\n",
       "/* Toggleable content - dropdown */\n",
       "\n",
       "#sk-container-id-1 div.sk-toggleable__content {\n",
       "  max-height: 0;\n",
       "  max-width: 0;\n",
       "  overflow: hidden;\n",
       "  text-align: left;\n",
       "  /* unfitted */\n",
       "  background-color: var(--sklearn-color-unfitted-level-0);\n",
       "}\n",
       "\n",
       "#sk-container-id-1 div.sk-toggleable__content.fitted {\n",
       "  /* fitted */\n",
       "  background-color: var(--sklearn-color-fitted-level-0);\n",
       "}\n",
       "\n",
       "#sk-container-id-1 div.sk-toggleable__content pre {\n",
       "  margin: 0.2em;\n",
       "  border-radius: 0.25em;\n",
       "  color: var(--sklearn-color-text);\n",
       "  /* unfitted */\n",
       "  background-color: var(--sklearn-color-unfitted-level-0);\n",
       "}\n",
       "\n",
       "#sk-container-id-1 div.sk-toggleable__content.fitted pre {\n",
       "  /* unfitted */\n",
       "  background-color: var(--sklearn-color-fitted-level-0);\n",
       "}\n",
       "\n",
       "#sk-container-id-1 input.sk-toggleable__control:checked~div.sk-toggleable__content {\n",
       "  /* Expand drop-down */\n",
       "  max-height: 200px;\n",
       "  max-width: 100%;\n",
       "  overflow: auto;\n",
       "}\n",
       "\n",
       "#sk-container-id-1 input.sk-toggleable__control:checked~label.sk-toggleable__label-arrow:before {\n",
       "  content: \"▾\";\n",
       "}\n",
       "\n",
       "/* Pipeline/ColumnTransformer-specific style */\n",
       "\n",
       "#sk-container-id-1 div.sk-label input.sk-toggleable__control:checked~label.sk-toggleable__label {\n",
       "  color: var(--sklearn-color-text);\n",
       "  background-color: var(--sklearn-color-unfitted-level-2);\n",
       "}\n",
       "\n",
       "#sk-container-id-1 div.sk-label.fitted input.sk-toggleable__control:checked~label.sk-toggleable__label {\n",
       "  background-color: var(--sklearn-color-fitted-level-2);\n",
       "}\n",
       "\n",
       "/* Estimator-specific style */\n",
       "\n",
       "/* Colorize estimator box */\n",
       "#sk-container-id-1 div.sk-estimator input.sk-toggleable__control:checked~label.sk-toggleable__label {\n",
       "  /* unfitted */\n",
       "  background-color: var(--sklearn-color-unfitted-level-2);\n",
       "}\n",
       "\n",
       "#sk-container-id-1 div.sk-estimator.fitted input.sk-toggleable__control:checked~label.sk-toggleable__label {\n",
       "  /* fitted */\n",
       "  background-color: var(--sklearn-color-fitted-level-2);\n",
       "}\n",
       "\n",
       "#sk-container-id-1 div.sk-label label.sk-toggleable__label,\n",
       "#sk-container-id-1 div.sk-label label {\n",
       "  /* The background is the default theme color */\n",
       "  color: var(--sklearn-color-text-on-default-background);\n",
       "}\n",
       "\n",
       "/* On hover, darken the color of the background */\n",
       "#sk-container-id-1 div.sk-label:hover label.sk-toggleable__label {\n",
       "  color: var(--sklearn-color-text);\n",
       "  background-color: var(--sklearn-color-unfitted-level-2);\n",
       "}\n",
       "\n",
       "/* Label box, darken color on hover, fitted */\n",
       "#sk-container-id-1 div.sk-label.fitted:hover label.sk-toggleable__label.fitted {\n",
       "  color: var(--sklearn-color-text);\n",
       "  background-color: var(--sklearn-color-fitted-level-2);\n",
       "}\n",
       "\n",
       "/* Estimator label */\n",
       "\n",
       "#sk-container-id-1 div.sk-label label {\n",
       "  font-family: monospace;\n",
       "  font-weight: bold;\n",
       "  display: inline-block;\n",
       "  line-height: 1.2em;\n",
       "}\n",
       "\n",
       "#sk-container-id-1 div.sk-label-container {\n",
       "  text-align: center;\n",
       "}\n",
       "\n",
       "/* Estimator-specific */\n",
       "#sk-container-id-1 div.sk-estimator {\n",
       "  font-family: monospace;\n",
       "  border: 1px dotted var(--sklearn-color-border-box);\n",
       "  border-radius: 0.25em;\n",
       "  box-sizing: border-box;\n",
       "  margin-bottom: 0.5em;\n",
       "  /* unfitted */\n",
       "  background-color: var(--sklearn-color-unfitted-level-0);\n",
       "}\n",
       "\n",
       "#sk-container-id-1 div.sk-estimator.fitted {\n",
       "  /* fitted */\n",
       "  background-color: var(--sklearn-color-fitted-level-0);\n",
       "}\n",
       "\n",
       "/* on hover */\n",
       "#sk-container-id-1 div.sk-estimator:hover {\n",
       "  /* unfitted */\n",
       "  background-color: var(--sklearn-color-unfitted-level-2);\n",
       "}\n",
       "\n",
       "#sk-container-id-1 div.sk-estimator.fitted:hover {\n",
       "  /* fitted */\n",
       "  background-color: var(--sklearn-color-fitted-level-2);\n",
       "}\n",
       "\n",
       "/* Specification for estimator info (e.g. \"i\" and \"?\") */\n",
       "\n",
       "/* Common style for \"i\" and \"?\" */\n",
       "\n",
       ".sk-estimator-doc-link,\n",
       "a:link.sk-estimator-doc-link,\n",
       "a:visited.sk-estimator-doc-link {\n",
       "  float: right;\n",
       "  font-size: smaller;\n",
       "  line-height: 1em;\n",
       "  font-family: monospace;\n",
       "  background-color: var(--sklearn-color-background);\n",
       "  border-radius: 1em;\n",
       "  height: 1em;\n",
       "  width: 1em;\n",
       "  text-decoration: none !important;\n",
       "  margin-left: 1ex;\n",
       "  /* unfitted */\n",
       "  border: var(--sklearn-color-unfitted-level-1) 1pt solid;\n",
       "  color: var(--sklearn-color-unfitted-level-1);\n",
       "}\n",
       "\n",
       ".sk-estimator-doc-link.fitted,\n",
       "a:link.sk-estimator-doc-link.fitted,\n",
       "a:visited.sk-estimator-doc-link.fitted {\n",
       "  /* fitted */\n",
       "  border: var(--sklearn-color-fitted-level-1) 1pt solid;\n",
       "  color: var(--sklearn-color-fitted-level-1);\n",
       "}\n",
       "\n",
       "/* On hover */\n",
       "div.sk-estimator:hover .sk-estimator-doc-link:hover,\n",
       ".sk-estimator-doc-link:hover,\n",
       "div.sk-label-container:hover .sk-estimator-doc-link:hover,\n",
       ".sk-estimator-doc-link:hover {\n",
       "  /* unfitted */\n",
       "  background-color: var(--sklearn-color-unfitted-level-3);\n",
       "  color: var(--sklearn-color-background);\n",
       "  text-decoration: none;\n",
       "}\n",
       "\n",
       "div.sk-estimator.fitted:hover .sk-estimator-doc-link.fitted:hover,\n",
       ".sk-estimator-doc-link.fitted:hover,\n",
       "div.sk-label-container:hover .sk-estimator-doc-link.fitted:hover,\n",
       ".sk-estimator-doc-link.fitted:hover {\n",
       "  /* fitted */\n",
       "  background-color: var(--sklearn-color-fitted-level-3);\n",
       "  color: var(--sklearn-color-background);\n",
       "  text-decoration: none;\n",
       "}\n",
       "\n",
       "/* Span, style for the box shown on hovering the info icon */\n",
       ".sk-estimator-doc-link span {\n",
       "  display: none;\n",
       "  z-index: 9999;\n",
       "  position: relative;\n",
       "  font-weight: normal;\n",
       "  right: .2ex;\n",
       "  padding: .5ex;\n",
       "  margin: .5ex;\n",
       "  width: min-content;\n",
       "  min-width: 20ex;\n",
       "  max-width: 50ex;\n",
       "  color: var(--sklearn-color-text);\n",
       "  box-shadow: 2pt 2pt 4pt #999;\n",
       "  /* unfitted */\n",
       "  background: var(--sklearn-color-unfitted-level-0);\n",
       "  border: .5pt solid var(--sklearn-color-unfitted-level-3);\n",
       "}\n",
       "\n",
       ".sk-estimator-doc-link.fitted span {\n",
       "  /* fitted */\n",
       "  background: var(--sklearn-color-fitted-level-0);\n",
       "  border: var(--sklearn-color-fitted-level-3);\n",
       "}\n",
       "\n",
       ".sk-estimator-doc-link:hover span {\n",
       "  display: block;\n",
       "}\n",
       "\n",
       "/* \"?\"-specific style due to the `<a>` HTML tag */\n",
       "\n",
       "#sk-container-id-1 a.estimator_doc_link {\n",
       "  float: right;\n",
       "  font-size: 1rem;\n",
       "  line-height: 1em;\n",
       "  font-family: monospace;\n",
       "  background-color: var(--sklearn-color-background);\n",
       "  border-radius: 1rem;\n",
       "  height: 1rem;\n",
       "  width: 1rem;\n",
       "  text-decoration: none;\n",
       "  /* unfitted */\n",
       "  color: var(--sklearn-color-unfitted-level-1);\n",
       "  border: var(--sklearn-color-unfitted-level-1) 1pt solid;\n",
       "}\n",
       "\n",
       "#sk-container-id-1 a.estimator_doc_link.fitted {\n",
       "  /* fitted */\n",
       "  border: var(--sklearn-color-fitted-level-1) 1pt solid;\n",
       "  color: var(--sklearn-color-fitted-level-1);\n",
       "}\n",
       "\n",
       "/* On hover */\n",
       "#sk-container-id-1 a.estimator_doc_link:hover {\n",
       "  /* unfitted */\n",
       "  background-color: var(--sklearn-color-unfitted-level-3);\n",
       "  color: var(--sklearn-color-background);\n",
       "  text-decoration: none;\n",
       "}\n",
       "\n",
       "#sk-container-id-1 a.estimator_doc_link.fitted:hover {\n",
       "  /* fitted */\n",
       "  background-color: var(--sklearn-color-fitted-level-3);\n",
       "}\n",
       "</style><div id=\"sk-container-id-1\" class=\"sk-top-container\"><div class=\"sk-text-repr-fallback\"><pre>Pipeline(steps=[(&#x27;classifier&#x27;, ExtraTreesClassifier())])</pre><b>In a Jupyter environment, please rerun this cell to show the HTML representation or trust the notebook. <br />On GitHub, the HTML representation is unable to render, please try loading this page with nbviewer.org.</b></div><div class=\"sk-container\" hidden><div class=\"sk-item sk-dashed-wrapped\"><div class=\"sk-label-container\"><div class=\"sk-label fitted sk-toggleable\"><input class=\"sk-toggleable__control sk-hidden--visually\" id=\"sk-estimator-id-1\" type=\"checkbox\" ><label for=\"sk-estimator-id-1\" class=\"sk-toggleable__label fitted sk-toggleable__label-arrow fitted\">&nbsp;&nbsp;Pipeline<a class=\"sk-estimator-doc-link fitted\" rel=\"noreferrer\" target=\"_blank\" href=\"https://scikit-learn.org/1.5/modules/generated/sklearn.pipeline.Pipeline.html\">?<span>Documentation for Pipeline</span></a><span class=\"sk-estimator-doc-link fitted\">i<span>Fitted</span></span></label><div class=\"sk-toggleable__content fitted\"><pre>Pipeline(steps=[(&#x27;classifier&#x27;, ExtraTreesClassifier())])</pre></div> </div></div><div class=\"sk-serial\"><div class=\"sk-item\"><div class=\"sk-estimator fitted sk-toggleable\"><input class=\"sk-toggleable__control sk-hidden--visually\" id=\"sk-estimator-id-2\" type=\"checkbox\" ><label for=\"sk-estimator-id-2\" class=\"sk-toggleable__label fitted sk-toggleable__label-arrow fitted\">&nbsp;ExtraTreesClassifier<a class=\"sk-estimator-doc-link fitted\" rel=\"noreferrer\" target=\"_blank\" href=\"https://scikit-learn.org/1.5/modules/generated/sklearn.ensemble.ExtraTreesClassifier.html\">?<span>Documentation for ExtraTreesClassifier</span></a></label><div class=\"sk-toggleable__content fitted\"><pre>ExtraTreesClassifier()</pre></div> </div></div></div></div></div></div>"
      ],
      "text/plain": [
       "Pipeline(steps=[('classifier', ExtraTreesClassifier())])"
      ]
     },
     "execution_count": 92,
     "metadata": {},
     "output_type": "execute_result"
    }
   ],
   "source": [
    "pipeline = Pipeline([\n",
    "        ('classifier', ExtraTreesClassifier())\n",
    "    ])\n",
    "pipeline.fit(x_train,y_train)"
   ]
  },
  {
   "cell_type": "code",
   "execution_count": 93,
   "id": "3bdc8f6b",
   "metadata": {
    "execution": {
     "iopub.execute_input": "2023-12-17T22:34:34.609375Z",
     "iopub.status.busy": "2023-12-17T22:34:34.609031Z",
     "iopub.status.idle": "2023-12-17T22:34:43.476615Z",
     "shell.execute_reply": "2023-12-17T22:34:43.475599Z"
    },
    "papermill": {
     "duration": 8.924731,
     "end_time": "2023-12-17T22:34:43.478678",
     "exception": false,
     "start_time": "2023-12-17T22:34:34.553947",
     "status": "completed"
    },
    "tags": []
   },
   "outputs": [
    {
     "name": "stdout",
     "output_type": "stream",
     "text": [
      "              precision    recall  f1-score   support\n",
      "\n",
      "           0       0.95      0.97      0.96    128303\n",
      "           1       0.93      0.97      0.95     28697\n",
      "           2       0.81      0.72      0.76     28094\n",
      "           3       0.90      0.76      0.82      3579\n",
      "\n",
      "    accuracy                           0.93    188673\n",
      "   macro avg       0.90      0.86      0.87    188673\n",
      "weighted avg       0.93      0.93      0.93    188673\n",
      "\n"
     ]
    }
   ],
   "source": [
    "y_pred = pipeline.predict(x_test)\n",
    "print(classification_report(y_test,y_pred))"
   ]
  },
  {
   "cell_type": "code",
   "execution_count": 94,
   "id": "408c77ae",
   "metadata": {
    "execution": {
     "iopub.execute_input": "2023-12-17T22:34:43.590701Z",
     "iopub.status.busy": "2023-12-17T22:34:43.590400Z",
     "iopub.status.idle": "2023-12-17T22:34:45.958705Z",
     "shell.execute_reply": "2023-12-17T22:34:45.957570Z"
    },
    "papermill": {
     "duration": 2.425984,
     "end_time": "2023-12-17T22:34:45.961201",
     "exception": false,
     "start_time": "2023-12-17T22:34:43.535217",
     "status": "completed"
    },
    "tags": []
   },
   "outputs": [
    {
     "data": {
      "text/plain": [
       "['eTc.sav']"
      ]
     },
     "execution_count": 94,
     "metadata": {},
     "output_type": "execute_result"
    }
   ],
   "source": [
    "import joblib\n",
    "joblib.dump(pipeline,'eTc.sav')"
   ]
  },
  {
   "cell_type": "code",
   "execution_count": 95,
   "id": "a1a9999b",
   "metadata": {},
   "outputs": [
    {
     "name": "stdout",
     "output_type": "stream",
     "text": [
      "Best model saved: BestModel_ExtraTreesClassifier.joblib\n"
     ]
    }
   ],
   "source": [
    "joblib.dump(pipeline, \"BestModel_ExtraTreesClassifier.joblib\")\n",
    "print(\"Best model saved: BestModel_ExtraTreesClassifier.joblib\")"
   ]
  },
  {
   "cell_type": "markdown",
   "id": "63cd9df2",
   "metadata": {
    "papermill": {
     "duration": 0.058194,
     "end_time": "2023-12-17T22:34:46.084378",
     "exception": false,
     "start_time": "2023-12-17T22:34:46.026184",
     "status": "completed"
    },
    "tags": []
   },
   "source": [
    "<div style=\"background-color:#dfe3ee; border-radius:2px; border:#000000 solid; padding: 15px; font-size:100%; text-align:center\">\n",
    "    <h2 align=\"center\" style=\"color:#000000;\"><b>MODEL RESULTS</b></h2>\n",
    "</div>\n"
   ]
  },
  {
   "cell_type": "code",
   "execution_count": 98,
   "id": "b8aa49f5",
   "metadata": {
    "execution": {
     "iopub.execute_input": "2023-12-17T22:34:46.565227Z",
     "iopub.status.busy": "2023-12-17T22:34:46.564812Z",
     "iopub.status.idle": "2023-12-17T22:34:46.598176Z",
     "shell.execute_reply": "2023-12-17T22:34:46.597228Z"
    },
    "papermill": {
     "duration": 0.098539,
     "end_time": "2023-12-17T22:34:46.600150",
     "exception": false,
     "start_time": "2023-12-17T22:34:46.501611",
     "status": "completed"
    },
    "tags": []
   },
   "outputs": [],
   "source": [
    "def get_numerical_values(url):\n",
    "    url = url.replace('www.', '')\n",
    "    url_len = get_url_length(url)\n",
    "    letters_count = count_letters(url)\n",
    "    digits_count  = count_digits(url)\n",
    "    special_chars_count = count_special_chars(url)\n",
    "    shortened = has_shortening_service(url)\n",
    "    abnormal = abnormal_url(url)\n",
    "    secure_https = secure_http(url)\n",
    "    have_ip = have_ip_address(url)\n",
    "    \n",
    "    parsed_url  = urlparse(url)\n",
    "    root_domain = parsed_url.netloc.split(\".\")[-2]\n",
    "    url_region = get_url_region(root_domain)\n",
    "    \n",
    "    return {\n",
    "        'url_len': url_len,\n",
    "        'letters_count': letters_count,\n",
    "        'digits_count': digits_count,\n",
    "        'special_chars_count': special_chars_count,\n",
    "        'shortened': shortened,\n",
    "        'abnormal': abnormal,\n",
    "        'secure_http': secure_https,\n",
    "        'have_ip': have_ip,\n",
    "        'url_region': hash_encode(url_region),\n",
    "        'root_domain': hash_encode(root_domain)\n",
    "    }\n",
    "\n",
    "def get_url_length(url):\n",
    "    return len(url)\n",
    "def extract_pri_domain(url):\n",
    "    try:\n",
    "        res = get_tld(url, as_object = True, fail_silently=False,fix_protocol=True)\n",
    "        pri_domain= res.parsed_url.netloc\n",
    "    except :\n",
    "        pri_domain= None\n",
    "    return pri_domain\n",
    "def count_letters(url):\n",
    "    num_letters = sum(char.isalpha() for char in url)\n",
    "    return num_letters\n",
    "\n",
    "def count_digits(url):\n",
    "    num_digits = sum(char.isdigit() for char in url)\n",
    "    return num_digits\n",
    "def count_special_chars(url):\n",
    "    special_chars = \"!@#$%^&*()_+-=[]{};:,.<>/?`~|\"\n",
    "    num_special_chars = sum(char in special_chars for char in url)\n",
    "    return num_special_chars\n",
    "def has_shortening_service(url):\n",
    "    pattern = re.compile(r'bit\\.ly|goo\\.gl|shorte\\.st|go2l\\.ink|x\\.co|ow\\.ly|t\\.co|tinyurl|tr\\.im|is\\.gd|cli\\.gs|'\n",
    "                         r'yfrog\\.com|migre\\.me|ff\\.im|tiny\\.cc|url4\\.eu|twit\\.ac|su\\.pr|twurl\\.nl|snipurl\\.com|'\n",
    "                         r'short\\.to|BudURL\\.com|ping\\.fm|post\\.ly|Just\\.as|bkite\\.com|snipr\\.com|fic\\.kr|loopt\\.us|'\n",
    "                         r'doiop\\.com|short\\.ie|kl\\.am|wp\\.me|rubyurl\\.com|om\\.ly|to\\.ly|bit\\.do|t\\.co|lnkd\\.in|'\n",
    "                         r'db\\.tt|qr\\.ae|adf\\.ly|goo\\.gl|bitly\\.com|cur\\.lv|tinyurl\\.com|ow\\.ly|bit\\.ly|ity\\.im|'\n",
    "                         r'q\\.gs|is\\.gd|po\\.st|bc\\.vc|twitthis\\.com|u\\.to|j\\.mp|buzurl\\.com|cutt\\.us|u\\.bb|yourls\\.org|'\n",
    "                         r'x\\.co|prettylinkpro\\.com|scrnch\\.me|filoops\\.info|vzturl\\.com|qr\\.net|1url\\.com|tweez\\.me|v\\.gd|'\n",
    "                         r'tr\\.im|link\\.zip\\.net')\n",
    "    match = pattern.search(url)\n",
    "    return int(bool(match))\n",
    "def abnormal_url(url):\n",
    "    parsed_url = urlparse(url)\n",
    "    hostname = parsed_url.hostname\n",
    "    if hostname:\n",
    "        hostname = str(hostname)\n",
    "        match = re.search(hostname, url)\n",
    "        if match:\n",
    "            return 1\n",
    "    return 0\n",
    "def secure_http(url):\n",
    "    scheme = urlparse(url).scheme\n",
    "    if scheme == 'https':\n",
    "        return 1\n",
    "    else:\n",
    "        return 0\n",
    "def have_ip_address(url):\n",
    "    pattern = r'(([01]?\\d\\d?|2[0-4]\\d|25[0-5])\\.([01]?\\d\\d?|2[0-4]\\d|25[0-5])\\.([01]?\\d\\d?|2[0-4]\\d|25[0-5])\\.' \\\n",
    "              r'([01]?\\d\\d?|2[0-4]\\d|25[0-5])\\/)|' \\\n",
    "              r'(([01]?\\d\\d?|2[0-4]\\d|25[0-5])\\.([01]?\\d\\d?|2[0-4]\\d|25[0-5])\\.([01]?\\d\\d?|2[0-4]\\d|25[0-5])\\.' \\\n",
    "              r'([01]?\\d\\d?|2[0-4]\\d|25[0-5])\\/)|' \\\n",
    "              r'((0x[0-9a-fA-F]{1,2})\\.(0x[0-9a-fA-F]{1,2})\\.(0x[0-9a-fA-F]{1,2})\\.(0x[0-9a-fA-F]{1,2})\\/)' \\\n",
    "              r'(?:[a-fA-F0-9]{1,4}:){7}[a-fA-F0-9]{1,4}|' \\\n",
    "              r'([0-9]+(?:\\.[0-9]+){3}:[0-9]+)|' \\\n",
    "              r'((?:(?:\\d|[01]?\\d\\d|2[0-4]\\d|25[0-5])\\.){3}(?:25[0-5]|2[0-4]\\d|[01]?\\d\\d|\\d)(?:\\/\\d{1,2})?)'\n",
    "\n",
    "    match = re.search(pattern, url)\n",
    "    if match:\n",
    "        return 1\n",
    "    else:\n",
    "        return 0\n",
    "def get_url_region(primary_domain):\n",
    "    ccTLD_to_region = {\n",
    "    \".ac\": \"Ascension Island\",\n",
    "    \".ad\": \"Andorra\",\n",
    "    \".ae\": \"United Arab Emirates\",\n",
    "    \".af\": \"Afghanistan\",\n",
    "    \".ag\": \"Antigua and Barbuda\",\n",
    "    \".ai\": \"Anguilla\",\n",
    "    \".al\": \"Albania\",\n",
    "    \".am\": \"Armenia\",\n",
    "    \".an\": \"Netherlands Antilles\",\n",
    "    \".ao\": \"Angola\",\n",
    "    \".aq\": \"Antarctica\",\n",
    "    \".ar\": \"Argentina\",\n",
    "    \".as\": \"American Samoa\",\n",
    "    \".at\": \"Austria\",\n",
    "    \".au\": \"Australia\",\n",
    "    \".aw\": \"Aruba\",\n",
    "    \".ax\": \"Åland Islands\",\n",
    "    \".az\": \"Azerbaijan\",\n",
    "    \".ba\": \"Bosnia and Herzegovina\",\n",
    "    \".bb\": \"Barbados\",\n",
    "    \".bd\": \"Bangladesh\",\n",
    "    \".be\": \"Belgium\",\n",
    "    \".bf\": \"Burkina Faso\",\n",
    "    \".bg\": \"Bulgaria\",\n",
    "    \".bh\": \"Bahrain\",\n",
    "    \".bi\": \"Burundi\",\n",
    "    \".bj\": \"Benin\",\n",
    "    \".bm\": \"Bermuda\",\n",
    "    \".bn\": \"Brunei Darussalam\",\n",
    "    \".bo\": \"Bolivia\",\n",
    "    \".br\": \"Brazil\",\n",
    "    \".bs\": \"Bahamas\",\n",
    "    \".bt\": \"Bhutan\",\n",
    "    \".bv\": \"Bouvet Island\",\n",
    "    \".bw\": \"Botswana\",\n",
    "    \".by\": \"Belarus\",\n",
    "    \".bz\": \"Belize\",\n",
    "    \".ca\": \"Canada\",\n",
    "    \".cc\": \"Cocos Islands\",\n",
    "    \".cd\": \"Democratic Republic of the Congo\",\n",
    "    \".cf\": \"Central African Republic\",\n",
    "    \".cg\": \"Republic of the Congo\",\n",
    "    \".ch\": \"Switzerland\",\n",
    "    \".ci\": \"Côte d'Ivoire\",\n",
    "    \".ck\": \"Cook Islands\",\n",
    "    \".cl\": \"Chile\",\n",
    "    \".cm\": \"Cameroon\",\n",
    "    \".cn\": \"China\",\n",
    "    \".co\": \"Colombia\",\n",
    "    \".cr\": \"Costa Rica\",\n",
    "    \".cu\": \"Cuba\",\n",
    "    \".cv\": \"Cape Verde\",\n",
    "    \".cw\": \"Curaçao\",\n",
    "    \".cx\": \"Christmas Island\",\n",
    "    \".cy\": \"Cyprus\",\n",
    "    \".cz\": \"Czech Republic\",\n",
    "    \".de\": \"Germany\",\n",
    "    \".dj\": \"Djibouti\",\n",
    "    \".dk\": \"Denmark\",\n",
    "    \".dm\": \"Dominica\",\n",
    "    \".do\": \"Dominican Republic\",\n",
    "    \".dz\": \"Algeria\",\n",
    "    \".ec\": \"Ecuador\",\n",
    "    \".ee\": \"Estonia\",\n",
    "    \".eg\": \"Egypt\",\n",
    "    \".er\": \"Eritrea\",\n",
    "    \".es\": \"Spain\",\n",
    "    \".et\": \"Ethiopia\",\n",
    "    \".eu\": \"European Union\",\n",
    "    \".fi\": \"Finland\",\n",
    "    \".fj\": \"Fiji\",\n",
    "    \".fk\": \"Falkland Islands\",\n",
    "    \".fm\": \"Federated States of Micronesia\",\n",
    "    \".fo\": \"Faroe Islands\",\n",
    "    \".fr\": \"France\",\n",
    "    \".ga\": \"Gabon\",\n",
    "    \".gb\": \"United Kingdom\",\n",
    "    \".gd\": \"Grenada\",\n",
    "    \".ge\": \"Georgia\",\n",
    "    \".gf\": \"French Guiana\",\n",
    "    \".gg\": \"Guernsey\",\n",
    "    \".gh\": \"Ghana\",\n",
    "    \".gi\": \"Gibraltar\",\n",
    "    \".gl\": \"Greenland\",\n",
    "    \".gm\": \"Gambia\",\n",
    "    \".gn\": \"Guinea\",\n",
    "    \".gp\": \"Guadeloupe\",\n",
    "    \".gq\": \"Equatorial Guinea\",\n",
    "    \".gr\": \"Greece\",\n",
    "    \".gs\": \"South Georgia and the South Sandwich Islands\",\n",
    "    \".gt\": \"Guatemala\",\n",
    "    \".gu\": \"Guam\",\n",
    "    \".gw\": \"Guinea-Bissau\",\n",
    "    \".gy\": \"Guyana\",\n",
    "    \".hk\": \"Hong Kong\",\n",
    "    \".hm\": \"Heard Island and McDonald Islands\",\n",
    "    \".hn\": \"Honduras\",\n",
    "    \".hr\": \"Croatia\",\n",
    "    \".ht\": \"Haiti\",\n",
    "    \".hu\": \"Hungary\",\n",
    "    \".id\": \"Indonesia\",\n",
    "    \".ie\": \"Ireland\",\n",
    "    \".il\": \"Israel\",\n",
    "    \".im\": \"Isle of Man\",\n",
    "    \".in\": \"India\",\n",
    "    \".io\": \"British Indian Ocean Territory\",\n",
    "    \".iq\": \"Iraq\",\n",
    "    \".ir\": \"Iran\",\n",
    "    \".is\": \"Iceland\",\n",
    "    \".it\": \"Italy\",\n",
    "    \".je\": \"Jersey\",\n",
    "    \".jm\": \"Jamaica\",\n",
    "    \".jo\": \"Jordan\",\n",
    "    \".jp\": \"Japan\",\n",
    "    \".ke\": \"Kenya\",\n",
    "    \".kg\": \"Kyrgyzstan\",\n",
    "    \".kh\": \"Cambodia\",\n",
    "    \".ki\": \"Kiribati\",\n",
    "    \".km\": \"Comoros\",\n",
    "    \".kn\": \"Saint Kitts and Nevis\",\n",
    "    \".kp\": \"Democratic People's Republic of Korea (North Korea)\",\n",
    "    \".kr\": \"Republic of Korea (South Korea)\",\n",
    "    \".kw\": \"Kuwait\",\n",
    "    \".ky\": \"Cayman Islands\",\n",
    "    \".kz\": \"Kazakhstan\",\n",
    "    \".la\": \"Laos\",\n",
    "    \".lb\": \"Lebanon\",\n",
    "    \".lc\": \"Saint Lucia\",\n",
    "    \".li\": \"Liechtenstein\",\n",
    "    \".lk\": \"Sri Lanka\",\n",
    "    \".lr\": \"Liberia\",\n",
    "    \".ls\": \"Lesotho\",\n",
    "    \".lt\": \"Lithuania\",\n",
    "    \".lu\": \"Luxembourg\",\n",
    "    \".lv\": \"Latvia\",\n",
    "    \".ly\": \"Libya\",\n",
    "    \".ma\": \"Morocco\",\n",
    "    \".mc\": \"Monaco\",\n",
    "    \".md\": \"Moldova\",\n",
    "    \".me\": \"Montenegro\",\n",
    "    \".mf\": \"Saint Martin (French part)\",\n",
    "    \".mg\": \"Madagascar\",\n",
    "    \".mh\": \"Marshall Islands\",\n",
    "    \".mk\": \"North Macedonia\",\n",
    "    \".ml\": \"Mali\",\n",
    "    \".mm\": \"Myanmar\",\n",
    "    \".mn\": \"Mongolia\",\n",
    "    \".mo\": \"Macao\",\n",
    "    \".mp\": \"Northern Mariana Islands\",\n",
    "    \".mq\": \"Martinique\",\n",
    "    \".mr\": \"Mauritania\",\n",
    "    \".ms\": \"Montserrat\",\n",
    "    \".mt\": \"Malta\",\n",
    "    \".mu\": \"Mauritius\",\n",
    "    \".mv\": \"Maldives\",\n",
    "    \".mw\": \"Malawi\",\n",
    "    \".mx\": \"Mexico\",\n",
    "    \".my\": \"Malaysia\",\n",
    "    \".mz\": \"Mozambique\",\n",
    "    \".na\": \"Namibia\",\n",
    "    \".nc\": \"New Caledonia\",\n",
    "    \".ne\": \"Niger\",\n",
    "    \".nf\": \"Norfolk Island\",\n",
    "    \".ng\": \"Nigeria\",\n",
    "    \".ni\": \"Nicaragua\",\n",
    "    \".nl\": \"Netherlands\",\n",
    "    \".no\": \"Norway\",\n",
    "    \".np\": \"Nepal\",\n",
    "    \".nr\": \"Nauru\",\n",
    "    \".nu\": \"Niue\",\n",
    "    \".nz\": \"New Zealand\",\n",
    "    \".om\": \"Oman\",\n",
    "    \".pa\": \"Panama\",\n",
    "    \".pe\": \"Peru\",\n",
    "    \".pf\": \"French Polynesia\",\n",
    "    \".pg\": \"Papua New Guinea\",\n",
    "    \".ph\": \"Philippines\",\n",
    "    \".pk\": \"Pakistan\",\n",
    "    \".pl\": \"Poland\",\n",
    "    \".pm\": \"Saint Pierre and Miquelon\",\n",
    "    \".pn\": \"Pitcairn\",\n",
    "    \".pr\": \"Puerto Rico\",\n",
    "    \".ps\": \"Palestinian Territory\",\n",
    "    \".pt\": \"Portugal\",\n",
    "    \".pw\": \"Palau\",\n",
    "    \".py\": \"Paraguay\",\n",
    "    \".qa\": \"Qatar\",\n",
    "    \".re\": \"Réunion\",\n",
    "    \".ro\": \"Romania\",\n",
    "    \".rs\": \"Serbia\",\n",
    "    \".ru\": \"Russia\",\n",
    "    \".rw\": \"Rwanda\",\n",
    "    \".sa\": \"Saudi Arabia\",\n",
    "    \".sb\": \"Solomon Islands\",\n",
    "    \".sc\": \"Seychelles\",\n",
    "    \".sd\": \"Sudan\",\n",
    "    \".se\": \"Sweden\",\n",
    "    \".sg\": \"Singapore\",\n",
    "    \".sh\": \"Saint Helena\",\n",
    "    \".si\": \"Slovenia\",\n",
    "    \".sj\": \"Svalbard and Jan Mayen\",\n",
    "    \".sk\": \"Slovakia\",\n",
    "    \".sl\": \"Sierra Leone\",\n",
    "    \".sm\": \"San Marino\",\n",
    "    \".sn\": \"Senegal\",\n",
    "    \".so\": \"Somalia\",\n",
    "    \".sr\": \"Suriname\",\n",
    "    \".ss\": \"South Sudan\",\n",
    "    \".st\": \"São Tomé and Príncipe\",\n",
    "    \".sv\": \"El Salvador\",\n",
    "    \".sx\": \"Sint Maarten (Dutch part)\",\n",
    "    \".sy\": \"Syria\",\n",
    "    \".sz\": \"Eswatini\",\n",
    "    \".tc\": \"Turks and Caicos Islands\",\n",
    "    \".td\": \"Chad\",\n",
    "    \".tf\": \"French Southern Territories\",\n",
    "    \".tg\": \"Togo\",\n",
    "    \".th\": \"Thailand\",\n",
    "    \".tj\": \"Tajikistan\",\n",
    "    \".tk\": \"Tokelau\",\n",
    "    \".tl\": \"Timor-Leste\",\n",
    "    \".tm\": \"Turkmenistan\",\n",
    "    \".tn\": \"Tunisia\",\n",
    "    \".to\": \"Tonga\",\n",
    "    \".tr\": \"Turkey\",\n",
    "    \".tt\": \"Trinidad and Tobago\",\n",
    "    \".tv\": \"Tuvalu\",\n",
    "    \".tw\": \"Taiwan\",\n",
    "    \".tz\": \"Tanzania\",\n",
    "    \".ua\": \"Ukraine\",\n",
    "    \".ug\": \"Uganda\",\n",
    "    \".uk\": \"United Kingdom\",\n",
    "    \".us\": \"United States\",\n",
    "    \".uy\": \"Uruguay\",\n",
    "    \".uz\": \"Uzbekistan\",\n",
    "    \".va\": \"Vatican City\",\n",
    "    \".vc\": \"Saint Vincent and the Grenadines\",\n",
    "    \".ve\": \"Venezuela\",\n",
    "    \".vg\": \"British Virgin Islands\",\n",
    "    \".vi\": \"U.S. Virgin Islands\",\n",
    "    \".vn\": \"Vietnam\",\n",
    "    \".vu\": \"Vanuatu\",\n",
    "    \".wf\": \"Wallis and Futuna\",\n",
    "    \".ws\": \"Samoa\",\n",
    "    \".ye\": \"Yemen\",\n",
    "    \".yt\": \"Mayotte\",\n",
    "    \".za\": \"South Africa\",\n",
    "    \".zm\": \"Zambia\",\n",
    "    \".zw\": \"Zimbabwe\"\n",
    "    }\n",
    "    \n",
    "    for ccTLD in ccTLD_to_region:\n",
    "        if primary_domain.endswith(ccTLD):\n",
    "            return ccTLD_to_region[ccTLD]\n",
    "    \n",
    "    return \"Global\"\n",
    "def extract_root_domain(url):\n",
    "    extracted = tldextract.extract(url)\n",
    "    root_domain = extracted.domain\n",
    "    return root_domain\n",
    "def hash_encode(category):\n",
    "    hash_object = hashlib.md5(category.encode())\n",
    "    return int(hash_object.hexdigest(), 16) % (10 ** 8)"
   ]
  },
  {
   "cell_type": "code",
   "execution_count": 99,
   "id": "f8629d63",
   "metadata": {
    "execution": {
     "iopub.execute_input": "2023-12-17T22:34:46.719942Z",
     "iopub.status.busy": "2023-12-17T22:34:46.718868Z",
     "iopub.status.idle": "2023-12-17T22:34:46.725205Z",
     "shell.execute_reply": "2023-12-17T22:34:46.724323Z"
    },
    "papermill": {
     "duration": 0.067276,
     "end_time": "2023-12-17T22:34:46.727135",
     "exception": false,
     "start_time": "2023-12-17T22:34:46.659859",
     "status": "completed"
    },
    "tags": []
   },
   "outputs": [],
   "source": [
    "def model_predict(url):\n",
    "    class_mapping = {\n",
    "        0: 'benign',\n",
    "        1: 'defacement',\n",
    "        2: 'phishing',\n",
    "        3: 'malware'\n",
    "    }\n",
    "    numerical_values = get_numerical_values(url)\n",
    "    prediction_int = pipeline.predict(np.array(list(numerical_values.values())).reshape(1, -1))[0]\n",
    "    prediction_label = class_mapping.get(prediction_int, 'Unknown')\n",
    "    return prediction_int, prediction_label\n"
   ]
  },
  {
   "cell_type": "code",
   "execution_count": 100,
   "id": "ee1fe26e",
   "metadata": {
    "execution": {
     "iopub.execute_input": "2023-12-17T22:34:46.853756Z",
     "iopub.status.busy": "2023-12-17T22:34:46.853355Z",
     "iopub.status.idle": "2023-12-17T22:34:46.878147Z",
     "shell.execute_reply": "2023-12-17T22:34:46.876952Z"
    },
    "papermill": {
     "duration": 0.089169,
     "end_time": "2023-12-17T22:34:46.880363",
     "exception": false,
     "start_time": "2023-12-17T22:34:46.791194",
     "status": "completed"
    },
    "tags": []
   },
   "outputs": [
    {
     "name": "stdout",
     "output_type": "stream",
     "text": [
      "{'url_len': 19, 'letters_count': 15, 'digits_count': 0, 'special_chars_count': 4, 'shortened': 0, 'abnormal': 1, 'secure_http': 1, 'have_ip': 0, 'url_region': 32604616, 'root_domain': 69889075}\n",
      "10\n",
      "[19, 15, 0, 4, 0, 1, 1, 0, 32604616, 69889075]\n",
      "2 phishing\n"
     ]
    }
   ],
   "source": [
    "url = \"https://www.example.com\"\n",
    "numerical_values = get_numerical_values(url)\n",
    "print(numerical_values)\n",
    "print(len(numerical_values))\n",
    "print(list(numerical_values.values()))\n",
    "print(model_predict(url)[0],model_predict(url)[1])"
   ]
  },
  {
   "cell_type": "code",
   "execution_count": null,
   "id": "14b0688f",
   "metadata": {},
   "outputs": [],
   "source": []
  }
 ],
 "metadata": {
  "kaggle": {
   "accelerator": "tpu1vmV38",
   "dataSources": [
    {
     "datasetId": 1486586,
     "sourceId": 2456026,
     "sourceType": "datasetVersion"
    }
   ],
   "dockerImageVersionId": 30499,
   "isGpuEnabled": false,
   "isInternetEnabled": true,
   "language": "python",
   "sourceType": "notebook"
  },
  "kernelspec": {
   "display_name": "Python 3 (ipykernel)",
   "language": "python",
   "name": "python3"
  },
  "language_info": {
   "codemirror_mode": {
    "name": "ipython",
    "version": 3
   },
   "file_extension": ".py",
   "mimetype": "text/x-python",
   "name": "python",
   "nbconvert_exporter": "python",
   "pygments_lexer": "ipython3",
   "version": "3.12.7"
  },
  "papermill": {
   "default_parameters": {},
   "duration": 770.865277,
   "end_time": "2023-12-17T22:34:48.065439",
   "environment_variables": {},
   "exception": null,
   "input_path": "__notebook__.ipynb",
   "output_path": "__notebook__.ipynb",
   "parameters": {},
   "start_time": "2023-12-17T22:21:57.200162",
   "version": "2.4.0"
  }
 },
 "nbformat": 4,
 "nbformat_minor": 5
}
